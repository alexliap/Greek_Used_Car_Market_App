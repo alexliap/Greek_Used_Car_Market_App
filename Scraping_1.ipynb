{
 "cells": [
  {
   "cell_type": "code",
   "execution_count": 2,
   "id": "10a856ae",
   "metadata": {},
   "outputs": [],
   "source": [
    "from bs4 import BeautifulSoup\n",
    "import pandas as pd\n",
    "import requests\n",
    "import re\n",
    "import time\n",
    "from tqdm.auto import trange\n",
    "import random\n",
    "from fake_useragent import UserAgent\n",
    "import os"
   ]
  },
  {
   "cell_type": "markdown",
   "id": "34fb4ebd",
   "metadata": {},
   "source": [
    "- ### Extract whole page"
   ]
  },
  {
   "cell_type": "code",
   "execution_count": 13,
   "id": "8417ccc7",
   "metadata": {},
   "outputs": [],
   "source": [
    "car_dict = dict({'title': [],\n",
    "                 'price': [],\n",
    "                 'registration': [],\n",
    "                 'km': [],\n",
    "                 'displacement': [],\n",
    "                 'hp': [],\n",
    "                 'fuel': [],\n",
    "                 'transmission': [],\n",
    "                 'category': [],\n",
    "                 'location': [],\n",
    "                 'link': []})"
   ]
  },
  {
   "cell_type": "code",
   "execution_count": 14,
   "id": "56a2f685",
   "metadata": {
    "scrolled": true
   },
   "outputs": [
    {
     "data": {
      "application/vnd.jupyter.widget-view+json": {
       "model_id": "7910d268b4984229abf698100bfa42fd",
       "version_major": 2,
       "version_minor": 0
      },
      "text/plain": [
       "Loop over pages:   0%|          | 0/120 [00:00<?, ?it/s]"
      ]
     },
     "metadata": {},
     "output_type": "display_data"
    },
    {
     "data": {
      "application/vnd.jupyter.widget-view+json": {
       "model_id": "",
       "version_major": 2,
       "version_minor": 0
      },
      "text/plain": [
       "Loop over listings:   0%|          | 0/26 [00:00<?, ?it/s]"
      ]
     },
     "metadata": {},
     "output_type": "display_data"
    },
    {
     "data": {
      "application/vnd.jupyter.widget-view+json": {
       "model_id": "381e5d1916af4f2d925e6ae1a37cbf05",
       "version_major": 2,
       "version_minor": 0
      },
      "text/plain": [
       "Loop over listings:   0%|          | 0/26 [00:00<?, ?it/s]"
      ]
     },
     "metadata": {},
     "output_type": "display_data"
    },
    {
     "name": "stdout",
     "output_type": "stream",
     "text": [
      "Car Page: 403\n",
      "Car Page: 429\n"
     ]
    },
    {
     "data": {
      "application/vnd.jupyter.widget-view+json": {
       "model_id": "745d48af6a954f6e8961ac94e0cbb074",
       "version_major": 2,
       "version_minor": 0
      },
      "text/plain": [
       "Loop over listings:   0%|          | 0/26 [00:00<?, ?it/s]"
      ]
     },
     "metadata": {},
     "output_type": "display_data"
    },
    {
     "name": "stdout",
     "output_type": "stream",
     "text": [
      "Car Page: 429\n"
     ]
    },
    {
     "data": {
      "application/vnd.jupyter.widget-view+json": {
       "model_id": "7741fbbc2fff49fabe1b7d4c15b9d495",
       "version_major": 2,
       "version_minor": 0
      },
      "text/plain": [
       "Loop over listings:   0%|          | 0/26 [00:00<?, ?it/s]"
      ]
     },
     "metadata": {},
     "output_type": "display_data"
    },
    {
     "name": "stdout",
     "output_type": "stream",
     "text": [
      "Car Page: 429\n"
     ]
    },
    {
     "data": {
      "application/vnd.jupyter.widget-view+json": {
       "model_id": "bff4bf263efe46f5a4f0f0754530fd1c",
       "version_major": 2,
       "version_minor": 0
      },
      "text/plain": [
       "Loop over listings:   0%|          | 0/26 [00:00<?, ?it/s]"
      ]
     },
     "metadata": {},
     "output_type": "display_data"
    },
    {
     "name": "stdout",
     "output_type": "stream",
     "text": [
      "Car Page: 429\n"
     ]
    },
    {
     "ename": "KeyboardInterrupt",
     "evalue": "",
     "output_type": "error",
     "traceback": [
      "\u001b[1;31m---------------------------------------------------------------------------\u001b[0m",
      "\u001b[1;31mKeyboardInterrupt\u001b[0m                         Traceback (most recent call last)",
      "Cell \u001b[1;32mIn[14], line 72\u001b[0m\n\u001b[0;32m     70\u001b[0m     time\u001b[38;5;241m.\u001b[39msleep(random\u001b[38;5;241m.\u001b[39muniform(\u001b[38;5;241m7\u001b[39m, \u001b[38;5;241m14\u001b[39m))\n\u001b[0;32m     71\u001b[0m \u001b[38;5;66;03m# Waiting time before changing listings page \u001b[39;00m\n\u001b[1;32m---> 72\u001b[0m \u001b[43mtime\u001b[49m\u001b[38;5;241;43m.\u001b[39;49m\u001b[43msleep\u001b[49m\u001b[43m(\u001b[49m\u001b[43mrandom\u001b[49m\u001b[38;5;241;43m.\u001b[39;49m\u001b[43muniform\u001b[49m\u001b[43m(\u001b[49m\u001b[38;5;241;43m50\u001b[39;49m\u001b[43m,\u001b[49m\u001b[43m \u001b[49m\u001b[38;5;241;43m70\u001b[39;49m\u001b[43m)\u001b[49m\u001b[43m)\u001b[49m\n",
      "\u001b[1;31mKeyboardInterrupt\u001b[0m: "
     ]
    }
   ],
   "source": [
    "for i in trange(120, desc = 'Loop over pages'):\n",
    "    \n",
    "    website = 'https://www.car.gr/classifieds/cars/?fs=1&fuel_type=1&fuel_type=2&lang=en&pg=' + str(i)\n",
    "    response = requests.get(website)\n",
    "    try:\n",
    "        assert response.status_code == 200, print(f'Listings Page: {response.status_code}')\n",
    "    except:\n",
    "        time.sleep(random.uniform(20, 40))\n",
    "        continue\n",
    "    soup = BeautifulSoup(response.content, 'html.parser')\n",
    "    results = soup.find_all('li', {'class':''})\n",
    "\n",
    "    for j in trange(len(results), desc = 'Loop over listings', leave=False):\n",
    "        \n",
    "        # listing title\n",
    "        title = results[j].find('h2', {'class': 'title'}).get_text()\n",
    "        title = title.split('\\n')[1]\n",
    "        # price\n",
    "        try:\n",
    "            price = results[j].find('div', {'class': 'price-tag current-price'}).get_text()\n",
    "            price = ''.join(re.split(r'\\W', price)[1:3])\n",
    "        except:\n",
    "            # Ask price case\n",
    "            price = 'Ask price'\n",
    "        # location\n",
    "        info = results[j].find_all('span', {'class': ''})[3]\n",
    "        location = info.get_text()\n",
    "        \n",
    "\n",
    "        car_page = 'https://www.car.gr' + results[j].find('a', {'class': 'row-anchor'})['href'] + '?lang=en'\n",
    "        car_response = requests.get(car_page,\n",
    "                                    headers = {'User-Agent':UserAgent().random})\n",
    "        time.sleep(5)\n",
    "        try:\n",
    "            assert car_response.status_code == 200, print(f'Car Page: {car_response.status_code}')\n",
    "        except:\n",
    "            time.sleep(random.uniform(25, 45))\n",
    "            if car_response.status_code == 429:\n",
    "                break\n",
    "            else:\n",
    "                continue\n",
    "\n",
    "        soup = BeautifulSoup(car_response.content, 'html.parser')\n",
    "        car_results = soup.find_all('div', {'class': 'desktop-right-side', 'class': 'box-icon-text-container'})\n",
    "        if len(car_results) != 0:\n",
    "            registration = car_results[0].get_text().split('    ')[2]\n",
    "            km = car_results[1].get_text().split('    ')[2]\n",
    "            fuel = car_results[2].get_text().split('    ')[2]\n",
    "            if 'Petrol' in fuel or 'Diesel' in fuel:\n",
    "                try:\n",
    "                    displacement = car_results[3].get_text().split('    ')[2].split(' / ')[0]\n",
    "                    hp = car_results[3].get_text().split('    ')[2].split(' / ')[1]\n",
    "                    transmission = car_results[4].get_text().split('    ')[2]\n",
    "                    category = car_results[5].get_text().split('    ')[2]\n",
    "\n",
    "                    car_dict['title'].append(title)\n",
    "                    car_dict['price'].append(price)\n",
    "                    car_dict['registration'].append(registration)\n",
    "                    car_dict['km'].append(km)\n",
    "                    car_dict['displacement'].append(displacement)\n",
    "                    car_dict['hp'].append(hp)\n",
    "                    car_dict['fuel'].append(fuel)\n",
    "                    car_dict['transmission'].append(transmission)\n",
    "                    car_dict['category'].append(category)\n",
    "                    car_dict['location'].append(location)\n",
    "                    car_dict['link'].append(car_page)\n",
    "                except:\n",
    "                    continue\n",
    "        # Waiting time before changing car page \n",
    "        time.sleep(random.uniform(7, 14))\n",
    "    # Waiting time before changing listings page \n",
    "    time.sleep(random.uniform(50, 70))"
   ]
  },
  {
   "cell_type": "code",
   "execution_count": 15,
   "id": "926bf10c",
   "metadata": {},
   "outputs": [],
   "source": [
    "df = pd.DataFrame(car_dict).iloc[1:, :]\n",
    "for i in range(1,100):\n",
    "    file = f'listings_{i}.csv'\n",
    "    if not os.path.isfile(file):\n",
    "        df.to_csv(file)\n",
    "        break"
   ]
  },
  {
   "cell_type": "code",
   "execution_count": 18,
   "id": "452b0a8a",
   "metadata": {},
   "outputs": [
    {
     "data": {
      "text/plain": [
       "(0, 11)"
      ]
     },
     "execution_count": 18,
     "metadata": {},
     "output_type": "execute_result"
    }
   ],
   "source": [
    "df.shape"
   ]
  },
  {
   "cell_type": "code",
   "execution_count": 19,
   "id": "49774999",
   "metadata": {},
   "outputs": [],
   "source": [
    "dfs = []\n",
    "for i in range(1, 100):\n",
    "    file = f'listings_{i}.csv'\n",
    "    try:\n",
    "        df = pd.read_csv(file, index_col = 0)\n",
    "        dfs.append(df)\n",
    "    except:\n",
    "        break\n",
    "\n",
    "df  = pd.concat(dfs, axis = 0)"
   ]
  },
  {
   "cell_type": "code",
   "execution_count": 20,
   "id": "b05f2035",
   "metadata": {},
   "outputs": [
    {
     "data": {
      "text/plain": [
       "(6845, 11)"
      ]
     },
     "execution_count": 20,
     "metadata": {},
     "output_type": "execute_result"
    }
   ],
   "source": [
    "df.shape"
   ]
  },
  {
   "cell_type": "code",
   "execution_count": 21,
   "id": "d77f0f57",
   "metadata": {},
   "outputs": [
    {
     "data": {
      "text/plain": [
       "(5046, 11)"
      ]
     },
     "execution_count": 21,
     "metadata": {},
     "output_type": "execute_result"
    }
   ],
   "source": [
    "df.drop_duplicates(keep = 'last', inplace = True)\n",
    "df.shape"
   ]
  },
  {
   "cell_type": "code",
   "execution_count": 23,
   "id": "cc3cda0b",
   "metadata": {},
   "outputs": [],
   "source": [
    "df['registration'] = [x[:-1] for x in df['registration'].values]\n",
    "df['km'] = [x[:-1] for x in df['km'].values]\n",
    "df['hp'] = [x[:-1] for x in df['hp'].values]\n",
    "df['fuel'] = [x[:-1] for x in df['fuel'].values]\n",
    "df['transmission'] = [x[:-1] for x in df['transmission'].values]\n",
    "df['category'] = [x[:-1] for x in df['category'].values]"
   ]
  },
  {
   "cell_type": "code",
   "execution_count": 24,
   "id": "172d344e",
   "metadata": {
    "scrolled": true
   },
   "outputs": [
    {
     "data": {
      "text/html": [
       "<div>\n",
       "<style scoped>\n",
       "    .dataframe tbody tr th:only-of-type {\n",
       "        vertical-align: middle;\n",
       "    }\n",
       "\n",
       "    .dataframe tbody tr th {\n",
       "        vertical-align: top;\n",
       "    }\n",
       "\n",
       "    .dataframe thead th {\n",
       "        text-align: right;\n",
       "    }\n",
       "</style>\n",
       "<table border=\"1\" class=\"dataframe\">\n",
       "  <thead>\n",
       "    <tr style=\"text-align: right;\">\n",
       "      <th></th>\n",
       "      <th>title</th>\n",
       "      <th>price</th>\n",
       "      <th>registration</th>\n",
       "      <th>km</th>\n",
       "      <th>displacement</th>\n",
       "      <th>hp</th>\n",
       "      <th>fuel</th>\n",
       "      <th>transmission</th>\n",
       "      <th>category</th>\n",
       "      <th>location</th>\n",
       "      <th>link</th>\n",
       "    </tr>\n",
       "  </thead>\n",
       "  <tbody>\n",
       "    <tr>\n",
       "      <th>64</th>\n",
       "      <td>Mercedes-Benz A 180 '17 1.5D Automatic Urban...</td>\n",
       "      <td>18500</td>\n",
       "      <td>01/2017</td>\n",
       "      <td>175.000 km</td>\n",
       "      <td>1.500 cc</td>\n",
       "      <td>109 bhp</td>\n",
       "      <td>Diesel</td>\n",
       "      <td>Automatic</td>\n",
       "      <td>Compact/Hatchback</td>\n",
       "      <td>KORYDALLOS 18121</td>\n",
       "      <td>https://www.car.gr/classifieds/cars/view/33076...</td>\n",
       "    </tr>\n",
       "    <tr>\n",
       "      <th>65</th>\n",
       "      <td>Volkswagen Polo '01</td>\n",
       "      <td>123</td>\n",
       "      <td>01/2001</td>\n",
       "      <td>100 km</td>\n",
       "      <td>1.400 cc</td>\n",
       "      <td>75 bhp</td>\n",
       "      <td>Petrol</td>\n",
       "      <td>Manual</td>\n",
       "      <td>Limousine/Sedan</td>\n",
       "      <td>VOLOS 38000</td>\n",
       "      <td>https://www.car.gr/classifieds/cars/view/31691...</td>\n",
       "    </tr>\n",
       "    <tr>\n",
       "      <th>66</th>\n",
       "      <td>Toyota Aygo '19  1.0 x-trend x-shift</td>\n",
       "      <td>11300</td>\n",
       "      <td>10/2019</td>\n",
       "      <td>76.000 km</td>\n",
       "      <td>998 cc</td>\n",
       "      <td>72 bhp</td>\n",
       "      <td>Petrol</td>\n",
       "      <td>Manual</td>\n",
       "      <td>Compact/Hatchback</td>\n",
       "      <td>KALLITHEA 17673</td>\n",
       "      <td>https://www.car.gr/classifieds/cars/view/33091...</td>\n",
       "    </tr>\n",
       "    <tr>\n",
       "      <th>67</th>\n",
       "      <td>Toyota Aygo '18  1.0 x-trend x-shift</td>\n",
       "      <td>9700</td>\n",
       "      <td>04/2018</td>\n",
       "      <td>49.000 km</td>\n",
       "      <td>998 cc</td>\n",
       "      <td>69 bhp</td>\n",
       "      <td>Petrol</td>\n",
       "      <td>Manual</td>\n",
       "      <td>Compact/Hatchback</td>\n",
       "      <td>KALLITHEA 17673</td>\n",
       "      <td>https://www.car.gr/classifieds/cars/view/33085...</td>\n",
       "    </tr>\n",
       "    <tr>\n",
       "      <th>68</th>\n",
       "      <td>Toyota Aygo '20</td>\n",
       "      <td>10500</td>\n",
       "      <td>12/2020</td>\n",
       "      <td>48.000 km</td>\n",
       "      <td>998 cc</td>\n",
       "      <td>72 bhp</td>\n",
       "      <td>Petrol</td>\n",
       "      <td>Manual</td>\n",
       "      <td>Compact/Hatchback</td>\n",
       "      <td>KALLITHEA 17673</td>\n",
       "      <td>https://www.car.gr/classifieds/cars/view/33077...</td>\n",
       "    </tr>\n",
       "  </tbody>\n",
       "</table>\n",
       "</div>"
      ],
      "text/plain": [
       "                                                title  price registration  \\\n",
       "64    Mercedes-Benz A 180 '17 1.5D Automatic Urban...  18500      01/2017   \n",
       "65                                Volkswagen Polo '01    123      01/2001   \n",
       "66               Toyota Aygo '19  1.0 x-trend x-shift  11300      10/2019   \n",
       "67               Toyota Aygo '18  1.0 x-trend x-shift   9700      04/2018   \n",
       "68                                    Toyota Aygo '20  10500      12/2020   \n",
       "\n",
       "            km displacement       hp    fuel transmission           category  \\\n",
       "64  175.000 km     1.500 cc  109 bhp  Diesel    Automatic  Compact/Hatchback   \n",
       "65      100 km     1.400 cc   75 bhp  Petrol       Manual    Limousine/Sedan   \n",
       "66   76.000 km       998 cc   72 bhp  Petrol       Manual  Compact/Hatchback   \n",
       "67   49.000 km       998 cc   69 bhp  Petrol       Manual  Compact/Hatchback   \n",
       "68   48.000 km       998 cc   72 bhp  Petrol       Manual  Compact/Hatchback   \n",
       "\n",
       "             location                                               link  \n",
       "64   KORYDALLOS 18121  https://www.car.gr/classifieds/cars/view/33076...  \n",
       "65        VOLOS 38000  https://www.car.gr/classifieds/cars/view/31691...  \n",
       "66    KALLITHEA 17673  https://www.car.gr/classifieds/cars/view/33091...  \n",
       "67    KALLITHEA 17673  https://www.car.gr/classifieds/cars/view/33085...  \n",
       "68    KALLITHEA 17673  https://www.car.gr/classifieds/cars/view/33077...  "
      ]
     },
     "execution_count": 24,
     "metadata": {},
     "output_type": "execute_result"
    }
   ],
   "source": [
    "df.tail()"
   ]
  },
  {
   "cell_type": "code",
   "execution_count": 25,
   "id": "b6806d6f",
   "metadata": {},
   "outputs": [
    {
     "data": {
      "text/plain": [
       "array(['Manual', 'Automatic', 'Semi-automatic', 'Other',\n",
       "       'Compact/Hatchback', 'Coupe-Sport', '4x4/Jeep/Suv',\n",
       "       'Commercial Passenger', 'Crew Cab/Pickup', 'Van/Mini Bus',\n",
       "       'Limousine/Sedan', 'Combi/Caravan', 'Convertible/Roadster',\n",
       "       'Race Car'], dtype=object)"
      ]
     },
     "execution_count": 25,
     "metadata": {},
     "output_type": "execute_result"
    }
   ],
   "source": [
    "df['category'].unique()"
   ]
  },
  {
   "cell_type": "code",
   "execution_count": 26,
   "id": "e5baec27",
   "metadata": {},
   "outputs": [
    {
     "data": {
      "text/plain": [
       "category\n",
       "4x4/Jeep/Suv             576\n",
       "Automatic                307\n",
       "Combi/Caravan            149\n",
       "Commercial Passenger      81\n",
       "Compact/Hatchback       1151\n",
       "Convertible/Roadster     103\n",
       "Coupe-Sport              396\n",
       "Crew Cab/Pickup           44\n",
       "Limousine/Sedan          345\n",
       "Manual                  1071\n",
       "Other                    165\n",
       "Race Car                  13\n",
       "Semi-automatic            10\n",
       "Van/Mini Bus             110\n",
       "dtype: int64"
      ]
     },
     "execution_count": 26,
     "metadata": {},
     "output_type": "execute_result"
    }
   ],
   "source": [
    "df.groupby(['category']).size()"
   ]
  },
  {
   "cell_type": "code",
   "execution_count": 27,
   "id": "70e31c9c",
   "metadata": {},
   "outputs": [
    {
     "data": {
      "image/png": "[encoded data removed]",
      "text/plain": [
       "<Figure size 640x480 with 1 Axes>"
      ]
     },
     "metadata": {},
     "output_type": "display_data"
    },
    {
     "data": {
      "text/plain": [
       "<Figure size 1000x1500 with 0 Axes>"
      ]
     },
     "metadata": {},
     "output_type": "display_data"
    }
   ],
   "source": [
    "import matplotlib.pyplot as plt\n",
    "\n",
    "plt.bar(df.groupby(['category']).size().index, df.groupby(['category']).size().values)\n",
    "for i in range(len(df.groupby(['category']).size().index)):\n",
    "    plt.text(i, df.groupby(['category']).size().values[i] + 10, df.groupby(['category']).size().values[i], ha = 'center')\n",
    "plt.xlabel('Category')\n",
    "plt.ylabel('Occurencies')\n",
    "plt.xticks(rotation = 90)\n",
    "plt.figure(figsize=(10,15))\n",
    "plt.tight_layout();"
   ]
  },
  {
   "cell_type": "code",
   "execution_count": 28,
   "id": "54abed77",
   "metadata": {},
   "outputs": [],
   "source": [
    "# try:\n",
    "#     registration = car_results[2].get_text().split(' ')[-1]\n",
    "# except:\n",
    "#     registration = None\n",
    "# try:\n",
    "#     km = car_results[3].get_text().split(' ')[2]\n",
    "# except:\n",
    "#     km = None\n",
    "# try:\n",
    "#     displacement = car_results[5].get_text().split(' ')[4]\n",
    "# except:\n",
    "#     displacement = None\n",
    "# try:\n",
    "#     hp = car_results[5].get_text().split(' ')[7]\n",
    "# except:\n",
    "#     hp = None\n",
    "# try:\n",
    "#     fuel = car_results[4].get_text().split(' ')[-1]\n",
    "# except:\n",
    "#     fuel = None\n",
    "# try:\n",
    "#     transmission = car_results[6].get_text().split(' ')[-1]\n",
    "# except:\n",
    "#     transmission = None\n",
    "# try:\n",
    "#     category = car_results[7].get_text().split(' ')[-1]\n",
    "# except:\n",
    "#     category = None\n",
    "\n",
    "# info = results[j].find('div', {'class':'d-flex justify-content-between'}).get_text().split('\\n  ')\n",
    "\n",
    "# try:\n",
    "#     location = info[2].split('  ')\n",
    "#     location = location[0].split(' ')[1:]\n",
    "#     location = ' '.join(location)\n",
    "# except:\n",
    "#     location = None"
   ]
  },
  {
   "cell_type": "code",
   "execution_count": null,
   "id": "f2ef61b9",
   "metadata": {},
   "outputs": [],
   "source": []
  }
 ],
 "metadata": {
  "kernelspec": {
   "display_name": "Python 3 (ipykernel)",
   "language": "python",
   "name": "python3"
  },
  "language_info": {
   "codemirror_mode": {
    "name": "ipython",
    "version": 3
   },
   "file_extension": ".py",
   "mimetype": "text/x-python",
   "name": "python",
   "nbconvert_exporter": "python",
   "pygments_lexer": "ipython3",
   "version": "3.9.16"
  }
 },
 "nbformat": 4,
 "nbformat_minor": 5
}
