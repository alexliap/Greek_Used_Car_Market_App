{
 "cells": [
  {
   "cell_type": "markdown",
   "id": "14062b85",
   "metadata": {},
   "source": [
    "- ### Car Brands"
   ]
  },
  {
   "cell_type": "code",
   "execution_count": 1,
   "id": "e233e422",
   "metadata": {},
   "outputs": [],
   "source": [
    "from bs4 import BeautifulSoup\n",
    "import requests\n",
    "import pickle"
   ]
  },
  {
   "cell_type": "code",
   "execution_count": 56,
   "id": "696c4ca9",
   "metadata": {},
   "outputs": [],
   "source": [
    "website = 'https://www.car.gr/classifieds/cars/search/?lang=en'\n",
    "response = requests.get(website)\n",
    "assert response.status_code == 200\n",
    "soup = BeautifulSoup(response.content, 'html.parser')"
   ]
  },
  {
   "cell_type": "code",
   "execution_count": 3,
   "id": "3696274a",
   "metadata": {},
   "outputs": [],
   "source": [
    "results = soup.find('ul', {'class': 'makes-list'})"
   ]
  },
  {
   "cell_type": "code",
   "execution_count": 17,
   "id": "51e4218e",
   "metadata": {},
   "outputs": [],
   "source": [
    "car_brands = []\n",
    "for item in results.get_text().split('\\n'):\n",
    "    if len(item) != 0 and item not in car_brands:\n",
    "        car_brands.append(item)"
   ]
  },
  {
   "cell_type": "code",
   "execution_count": 18,
   "id": "f17cac09",
   "metadata": {},
   "outputs": [
    {
     "data": {
      "text/plain": [
       "138"
      ]
     },
     "execution_count": 18,
     "metadata": {},
     "output_type": "execute_result"
    }
   ],
   "source": [
    "len(car_brands)"
   ]
  },
  {
   "cell_type": "code",
   "execution_count": 19,
   "id": "000a04f7",
   "metadata": {},
   "outputs": [],
   "source": [
    "pickle.dump(car_brands, open('car_brands.pkl', 'wb'))"
   ]
  },
  {
   "cell_type": "markdown",
   "id": "f2a56697",
   "metadata": {},
   "source": [
    "- ### Car Brand Models"
   ]
  },
  {
   "cell_type": "code",
   "execution_count": 14,
   "id": "fad7d248",
   "metadata": {},
   "outputs": [],
   "source": [
    "website = 'https://www.kbb.com/car-make-model-list/used/view-all/make/'\n",
    "response = requests.get(website)\n",
    "soup = BeautifulSoup(response.content, 'html.parser')"
   ]
  },
  {
   "cell_type": "code",
   "execution_count": 15,
   "id": "9c2eb1ec",
   "metadata": {},
   "outputs": [],
   "source": [
    "results = soup.find_all('td')"
   ]
  },
  {
   "cell_type": "code",
   "execution_count": 16,
   "id": "8bf96ad6",
   "metadata": {},
   "outputs": [
    {
     "data": {
      "text/plain": [
       "6837"
      ]
     },
     "execution_count": 16,
     "metadata": {},
     "output_type": "execute_result"
    }
   ],
   "source": [
    "len(results)"
   ]
  },
  {
   "cell_type": "code",
   "execution_count": 17,
   "id": "480449f2",
   "metadata": {},
   "outputs": [],
   "source": [
    "car_brand_models = {}\n",
    "for i in range(3, len(results), 5):\n",
    "    try:\n",
    "        if results[i+1].get_text() not in car_brand_models.keys():\n",
    "            car_brand_models[results[i+1].get_text()] = []\n",
    "        car_brand_models[results[i+1].get_text()].append(results[i].get_text())\n",
    "    except:\n",
    "        break"
   ]
  },
  {
   "cell_type": "code",
   "execution_count": 20,
   "id": "c14430e1",
   "metadata": {},
   "outputs": [],
   "source": [
    "pickle.dump(car_brand_models, open('car_brand_models.pkl', 'wb'))"
   ]
  },
  {
   "cell_type": "markdown",
   "id": "e77dd367",
   "metadata": {},
   "source": [
    "- ### Experimentation"
   ]
  },
  {
   "cell_type": "code",
   "execution_count": 76,
   "id": "93c97875",
   "metadata": {},
   "outputs": [],
   "source": [
    "make = 'Audi'\n",
    "website = f'https://www.car.gr/classifieds/cars/search/?fs=1&make={make}&lang=en'\n",
    "response = requests.get(website)\n",
    "assert response.status_code == 200\n",
    "soup = BeautifulSoup(response.content, 'html.parser')"
   ]
  },
  {
   "cell_type": "code",
   "execution_count": 82,
   "id": "935fc198",
   "metadata": {},
   "outputs": [],
   "source": [
    "# Find the checkbox element by its ID or other selector\n",
    "checkbox = soup.find(\"input\", {\"id\": \"multi-select-option-make-4\"})"
   ]
  },
  {
   "cell_type": "code",
   "execution_count": 99,
   "id": "6a61a56c",
   "metadata": {},
   "outputs": [
    {
     "data": {
      "text/plain": [
       "<input autocomplete=\"off\" checked=\"checked\" class=\"excludeUrl makeslistinput gethitsmulticheck\" id=\"multi-select-option-make-4\" name=\"make\" title=\"Audi\" type=\"checkbox\" value=\"4\"/>"
      ]
     },
     "execution_count": 99,
     "metadata": {},
     "output_type": "execute_result"
    }
   ],
   "source": [
    "checkbox"
   ]
  },
  {
   "cell_type": "code",
   "execution_count": 92,
   "id": "b8cfd37a",
   "metadata": {},
   "outputs": [],
   "source": [
    "# Extract the checkbox's name and checked values\n",
    "checkbox_name = checkbox[\"name\"]\n",
    "checkbox_checked = checkbox.[\"checked\"]\n",
    "\n",
    "# Send a POST request to the same URL with the checkbox value\n",
    "response = requests.post(f'https://www.car.gr/classifieds/cars/search/?fs=1&make={make}&lang=en',\n",
    "                         data = {checkbox_name: checkbox_checked})"
   ]
  },
  {
   "cell_type": "code",
   "execution_count": 93,
   "id": "6cb2f329",
   "metadata": {},
   "outputs": [
    {
     "name": "stdout",
     "output_type": "stream",
     "text": [
      "Checkbox was checked successfully.\n"
     ]
    }
   ],
   "source": [
    "# Check if the POST request was successful\n",
    "if response.status_code == 200:\n",
    "    print(\"Checkbox was checked successfully.\")\n",
    "else:\n",
    "    print(\"Failed to check the checkbox.\")"
   ]
  },
  {
   "cell_type": "code",
   "execution_count": 94,
   "id": "0e2047aa",
   "metadata": {},
   "outputs": [],
   "source": [
    "soup = BeautifulSoup(response.content, \"html.parser\")\n",
    "results = soup.find_all('ul', {'class': 'models-list'})"
   ]
  },
  {
   "cell_type": "code",
   "execution_count": 97,
   "id": "4a611bd6",
   "metadata": {},
   "outputs": [
    {
     "data": {
      "text/plain": [
       "[<ul class=\"models-list\">\n",
       " <li class=\"\">\n",
       " <label><span class=\"multi-select-option-group-name\">First select a make</span></label>\n",
       " </li>\n",
       " </ul>]"
      ]
     },
     "execution_count": 97,
     "metadata": {},
     "output_type": "execute_result"
    }
   ],
   "source": [
    "results"
   ]
  },
  {
   "cell_type": "code",
   "execution_count": null,
   "id": "607d6cfd",
   "metadata": {},
   "outputs": [],
   "source": []
  }
 ],
 "metadata": {
  "kernelspec": {
   "display_name": "Python 3 (ipykernel)",
   "language": "python",
   "name": "python3"
  },
  "language_info": {
   "codemirror_mode": {
    "name": "ipython",
    "version": 3
   },
   "file_extension": ".py",
   "mimetype": "text/x-python",
   "name": "python",
   "nbconvert_exporter": "python",
   "pygments_lexer": "ipython3",
   "version": "3.9.16"
  }
 },
 "nbformat": 4,
 "nbformat_minor": 5
}
