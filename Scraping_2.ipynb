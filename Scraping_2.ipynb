{
 "cells": [
  {
   "cell_type": "code",
   "execution_count": 1,
   "id": "10a856ae",
   "metadata": {},
   "outputs": [],
   "source": [
    "from bs4 import BeautifulSoup\n",
    "import pandas as pd\n",
    "import requests\n",
    "import re\n",
    "import time\n",
    "from tqdm.auto import trange\n",
    "import random\n",
    "from fake_useragent import UserAgent\n",
    "import os"
   ]
  },
  {
   "cell_type": "code",
   "execution_count": 2,
   "id": "d92eae0e",
   "metadata": {},
   "outputs": [],
   "source": [
    "# website = 'https://www.car.gr/classifieds/cars/?fs=1&fuel_type=1&fuel_type=2&lang=en&pg=' + str(1)\n",
    "# response = requests.get(website)\n",
    "# soup = BeautifulSoup(response.content, 'html.parser')\n",
    "# results = soup.find_all('li', {'class':''})\n",
    "# car_page = 'https://www.car.gr' + results[0].find('a', {'class': 'row-anchor'})['href'] + '?lang=en'\n",
    "# car_response = requests.get(car_page, headers = {'User-Agent':UserAgent().random})\n",
    "# soup = BeautifulSoup(car_response.content, 'html.parser')"
   ]
  },
  {
   "cell_type": "code",
   "execution_count": 3,
   "id": "26d603b7",
   "metadata": {},
   "outputs": [],
   "source": [
    "# a = soup.find('div', {'class': 'tw-bg-white tw-rounded tw-shadow-sm tw-my-2 !tw-mt-0', \n",
    "#                       'class': 'tw-line-clamp-2 tw-text-ellipsis classified-title-container'})\n",
    "# a.find('h1', {'class': 'tw-text-2xl tw-mb-0 classified-title tw-mt-2 tw-block'}).get_text().split('    ')"
   ]
  },
  {
   "cell_type": "markdown",
   "id": "34fb4ebd",
   "metadata": {},
   "source": [
    "- ### Extract whole page"
   ]
  },
  {
   "cell_type": "code",
   "execution_count": 4,
   "id": "8417ccc7",
   "metadata": {},
   "outputs": [],
   "source": [
    "car_dict = dict({'title': [],\n",
    "                 'price': [],\n",
    "                 'registration': [],\n",
    "                 'km': [],\n",
    "                 'displacement': [],\n",
    "                 'hp': [],\n",
    "                 'fuel': [],\n",
    "                 'transmission': [],\n",
    "                 'category': [],\n",
    "                 'location': [],\n",
    "                 'link': []})"
   ]
  },
  {
   "cell_type": "code",
   "execution_count": 5,
   "id": "56a2f685",
   "metadata": {
    "scrolled": true
   },
   "outputs": [
    {
     "data": {
      "application/vnd.jupyter.widget-view+json": {
       "model_id": "e5ddce93f2914cfb8a6f946f379f138f",
       "version_major": 2,
       "version_minor": 0
      },
      "text/plain": [
       "Loop over pages:   0%|          | 0/120 [00:00<?, ?it/s]"
      ]
     },
     "metadata": {},
     "output_type": "display_data"
    },
    {
     "data": {
      "application/vnd.jupyter.widget-view+json": {
       "model_id": "",
       "version_major": 2,
       "version_minor": 0
      },
      "text/plain": [
       "Loop over listings:   0%|          | 0/26 [00:00<?, ?it/s]"
      ]
     },
     "metadata": {},
     "output_type": "display_data"
    },
    {
     "data": {
      "application/vnd.jupyter.widget-view+json": {
       "model_id": "",
       "version_major": 2,
       "version_minor": 0
      },
      "text/plain": [
       "Loop over listings:   0%|          | 0/26 [00:00<?, ?it/s]"
      ]
     },
     "metadata": {},
     "output_type": "display_data"
    },
    {
     "data": {
      "application/vnd.jupyter.widget-view+json": {
       "model_id": "",
       "version_major": 2,
       "version_minor": 0
      },
      "text/plain": [
       "Loop over listings:   0%|          | 0/26 [00:00<?, ?it/s]"
      ]
     },
     "metadata": {},
     "output_type": "display_data"
    },
    {
     "data": {
      "application/vnd.jupyter.widget-view+json": {
       "model_id": "",
       "version_major": 2,
       "version_minor": 0
      },
      "text/plain": [
       "Loop over listings:   0%|          | 0/26 [00:00<?, ?it/s]"
      ]
     },
     "metadata": {},
     "output_type": "display_data"
    },
    {
     "data": {
      "application/vnd.jupyter.widget-view+json": {
       "model_id": "",
       "version_major": 2,
       "version_minor": 0
      },
      "text/plain": [
       "Loop over listings:   0%|          | 0/26 [00:00<?, ?it/s]"
      ]
     },
     "metadata": {},
     "output_type": "display_data"
    },
    {
     "name": "stdout",
     "output_type": "stream",
     "text": [
      "Car Page: 403\n",
      "Car Page: 403\n",
      "Car Page: 403\n"
     ]
    },
    {
     "data": {
      "application/vnd.jupyter.widget-view+json": {
       "model_id": "",
       "version_major": 2,
       "version_minor": 0
      },
      "text/plain": [
       "Loop over listings:   0%|          | 0/26 [00:00<?, ?it/s]"
      ]
     },
     "metadata": {},
     "output_type": "display_data"
    },
    {
     "name": "stdout",
     "output_type": "stream",
     "text": [
      "Car Page: 403\n"
     ]
    },
    {
     "data": {
      "application/vnd.jupyter.widget-view+json": {
       "model_id": "",
       "version_major": 2,
       "version_minor": 0
      },
      "text/plain": [
       "Loop over listings:   0%|          | 0/26 [00:00<?, ?it/s]"
      ]
     },
     "metadata": {},
     "output_type": "display_data"
    },
    {
     "name": "stdout",
     "output_type": "stream",
     "text": [
      "Car Page: 403\n"
     ]
    },
    {
     "data": {
      "application/vnd.jupyter.widget-view+json": {
       "model_id": "",
       "version_major": 2,
       "version_minor": 0
      },
      "text/plain": [
       "Loop over listings:   0%|          | 0/26 [00:00<?, ?it/s]"
      ]
     },
     "metadata": {},
     "output_type": "display_data"
    },
    {
     "name": "stdout",
     "output_type": "stream",
     "text": [
      "Car Page: 403\n"
     ]
    },
    {
     "data": {
      "application/vnd.jupyter.widget-view+json": {
       "model_id": "",
       "version_major": 2,
       "version_minor": 0
      },
      "text/plain": [
       "Loop over listings:   0%|          | 0/26 [00:00<?, ?it/s]"
      ]
     },
     "metadata": {},
     "output_type": "display_data"
    },
    {
     "data": {
      "application/vnd.jupyter.widget-view+json": {
       "model_id": "",
       "version_major": 2,
       "version_minor": 0
      },
      "text/plain": [
       "Loop over listings:   0%|          | 0/26 [00:00<?, ?it/s]"
      ]
     },
     "metadata": {},
     "output_type": "display_data"
    },
    {
     "data": {
      "application/vnd.jupyter.widget-view+json": {
       "model_id": "",
       "version_major": 2,
       "version_minor": 0
      },
      "text/plain": [
       "Loop over listings:   0%|          | 0/26 [00:00<?, ?it/s]"
      ]
     },
     "metadata": {},
     "output_type": "display_data"
    },
    {
     "data": {
      "application/vnd.jupyter.widget-view+json": {
       "model_id": "",
       "version_major": 2,
       "version_minor": 0
      },
      "text/plain": [
       "Loop over listings:   0%|          | 0/26 [00:00<?, ?it/s]"
      ]
     },
     "metadata": {},
     "output_type": "display_data"
    },
    {
     "data": {
      "application/vnd.jupyter.widget-view+json": {
       "model_id": "",
       "version_major": 2,
       "version_minor": 0
      },
      "text/plain": [
       "Loop over listings:   0%|          | 0/26 [00:00<?, ?it/s]"
      ]
     },
     "metadata": {},
     "output_type": "display_data"
    },
    {
     "name": "stdout",
     "output_type": "stream",
     "text": [
      "Car Page: 403\n",
      "Car Page: 403\n"
     ]
    },
    {
     "data": {
      "application/vnd.jupyter.widget-view+json": {
       "model_id": "",
       "version_major": 2,
       "version_minor": 0
      },
      "text/plain": [
       "Loop over listings:   0%|          | 0/26 [00:00<?, ?it/s]"
      ]
     },
     "metadata": {},
     "output_type": "display_data"
    },
    {
     "name": "stdout",
     "output_type": "stream",
     "text": [
      "Car Page: 403\n",
      "Car Page: 403\n"
     ]
    },
    {
     "data": {
      "application/vnd.jupyter.widget-view+json": {
       "model_id": "",
       "version_major": 2,
       "version_minor": 0
      },
      "text/plain": [
       "Loop over listings:   0%|          | 0/26 [00:00<?, ?it/s]"
      ]
     },
     "metadata": {},
     "output_type": "display_data"
    },
    {
     "name": "stdout",
     "output_type": "stream",
     "text": [
      "Car Page: 403\n"
     ]
    },
    {
     "data": {
      "application/vnd.jupyter.widget-view+json": {
       "model_id": "",
       "version_major": 2,
       "version_minor": 0
      },
      "text/plain": [
       "Loop over listings:   0%|          | 0/26 [00:00<?, ?it/s]"
      ]
     },
     "metadata": {},
     "output_type": "display_data"
    },
    {
     "data": {
      "application/vnd.jupyter.widget-view+json": {
       "model_id": "",
       "version_major": 2,
       "version_minor": 0
      },
      "text/plain": [
       "Loop over listings:   0%|          | 0/26 [00:00<?, ?it/s]"
      ]
     },
     "metadata": {},
     "output_type": "display_data"
    },
    {
     "name": "stdout",
     "output_type": "stream",
     "text": [
      "Car Page: 403\n"
     ]
    },
    {
     "data": {
      "application/vnd.jupyter.widget-view+json": {
       "model_id": "",
       "version_major": 2,
       "version_minor": 0
      },
      "text/plain": [
       "Loop over listings:   0%|          | 0/26 [00:00<?, ?it/s]"
      ]
     },
     "metadata": {},
     "output_type": "display_data"
    },
    {
     "name": "stdout",
     "output_type": "stream",
     "text": [
      "Car Page: 403\n"
     ]
    },
    {
     "data": {
      "application/vnd.jupyter.widget-view+json": {
       "model_id": "",
       "version_major": 2,
       "version_minor": 0
      },
      "text/plain": [
       "Loop over listings:   0%|          | 0/26 [00:00<?, ?it/s]"
      ]
     },
     "metadata": {},
     "output_type": "display_data"
    },
    {
     "data": {
      "application/vnd.jupyter.widget-view+json": {
       "model_id": "",
       "version_major": 2,
       "version_minor": 0
      },
      "text/plain": [
       "Loop over listings:   0%|          | 0/26 [00:00<?, ?it/s]"
      ]
     },
     "metadata": {},
     "output_type": "display_data"
    },
    {
     "data": {
      "application/vnd.jupyter.widget-view+json": {
       "model_id": "",
       "version_major": 2,
       "version_minor": 0
      },
      "text/plain": [
       "Loop over listings:   0%|          | 0/26 [00:00<?, ?it/s]"
      ]
     },
     "metadata": {},
     "output_type": "display_data"
    },
    {
     "name": "stdout",
     "output_type": "stream",
     "text": [
      "Car Page: 403\n"
     ]
    },
    {
     "data": {
      "application/vnd.jupyter.widget-view+json": {
       "model_id": "",
       "version_major": 2,
       "version_minor": 0
      },
      "text/plain": [
       "Loop over listings:   0%|          | 0/26 [00:00<?, ?it/s]"
      ]
     },
     "metadata": {},
     "output_type": "display_data"
    },
    {
     "name": "stdout",
     "output_type": "stream",
     "text": [
      "Car Page: 403\n"
     ]
    },
    {
     "data": {
      "application/vnd.jupyter.widget-view+json": {
       "model_id": "",
       "version_major": 2,
       "version_minor": 0
      },
      "text/plain": [
       "Loop over listings:   0%|          | 0/26 [00:00<?, ?it/s]"
      ]
     },
     "metadata": {},
     "output_type": "display_data"
    },
    {
     "data": {
      "application/vnd.jupyter.widget-view+json": {
       "model_id": "",
       "version_major": 2,
       "version_minor": 0
      },
      "text/plain": [
       "Loop over listings:   0%|          | 0/26 [00:00<?, ?it/s]"
      ]
     },
     "metadata": {},
     "output_type": "display_data"
    },
    {
     "data": {
      "application/vnd.jupyter.widget-view+json": {
       "model_id": "",
       "version_major": 2,
       "version_minor": 0
      },
      "text/plain": [
       "Loop over listings:   0%|          | 0/26 [00:00<?, ?it/s]"
      ]
     },
     "metadata": {},
     "output_type": "display_data"
    },
    {
     "data": {
      "application/vnd.jupyter.widget-view+json": {
       "model_id": "",
       "version_major": 2,
       "version_minor": 0
      },
      "text/plain": [
       "Loop over listings:   0%|          | 0/26 [00:00<?, ?it/s]"
      ]
     },
     "metadata": {},
     "output_type": "display_data"
    },
    {
     "data": {
      "application/vnd.jupyter.widget-view+json": {
       "model_id": "",
       "version_major": 2,
       "version_minor": 0
      },
      "text/plain": [
       "Loop over listings:   0%|          | 0/26 [00:00<?, ?it/s]"
      ]
     },
     "metadata": {},
     "output_type": "display_data"
    },
    {
     "name": "stdout",
     "output_type": "stream",
     "text": [
      "Car Page: 403\n"
     ]
    },
    {
     "data": {
      "application/vnd.jupyter.widget-view+json": {
       "model_id": "",
       "version_major": 2,
       "version_minor": 0
      },
      "text/plain": [
       "Loop over listings:   0%|          | 0/26 [00:00<?, ?it/s]"
      ]
     },
     "metadata": {},
     "output_type": "display_data"
    },
    {
     "name": "stdout",
     "output_type": "stream",
     "text": [
      "Car Page: 403\n"
     ]
    },
    {
     "data": {
      "application/vnd.jupyter.widget-view+json": {
       "model_id": "",
       "version_major": 2,
       "version_minor": 0
      },
      "text/plain": [
       "Loop over listings:   0%|          | 0/26 [00:00<?, ?it/s]"
      ]
     },
     "metadata": {},
     "output_type": "display_data"
    },
    {
     "data": {
      "application/vnd.jupyter.widget-view+json": {
       "model_id": "",
       "version_major": 2,
       "version_minor": 0
      },
      "text/plain": [
       "Loop over listings:   0%|          | 0/26 [00:00<?, ?it/s]"
      ]
     },
     "metadata": {},
     "output_type": "display_data"
    },
    {
     "data": {
      "application/vnd.jupyter.widget-view+json": {
       "model_id": "",
       "version_major": 2,
       "version_minor": 0
      },
      "text/plain": [
       "Loop over listings:   0%|          | 0/26 [00:00<?, ?it/s]"
      ]
     },
     "metadata": {},
     "output_type": "display_data"
    },
    {
     "name": "stdout",
     "output_type": "stream",
     "text": [
      "Car Page: 403\n"
     ]
    },
    {
     "data": {
      "application/vnd.jupyter.widget-view+json": {
       "model_id": "",
       "version_major": 2,
       "version_minor": 0
      },
      "text/plain": [
       "Loop over listings:   0%|          | 0/26 [00:00<?, ?it/s]"
      ]
     },
     "metadata": {},
     "output_type": "display_data"
    },
    {
     "data": {
      "application/vnd.jupyter.widget-view+json": {
       "model_id": "",
       "version_major": 2,
       "version_minor": 0
      },
      "text/plain": [
       "Loop over listings:   0%|          | 0/26 [00:00<?, ?it/s]"
      ]
     },
     "metadata": {},
     "output_type": "display_data"
    },
    {
     "data": {
      "application/vnd.jupyter.widget-view+json": {
       "model_id": "",
       "version_major": 2,
       "version_minor": 0
      },
      "text/plain": [
       "Loop over listings:   0%|          | 0/26 [00:00<?, ?it/s]"
      ]
     },
     "metadata": {},
     "output_type": "display_data"
    },
    {
     "data": {
      "application/vnd.jupyter.widget-view+json": {
       "model_id": "",
       "version_major": 2,
       "version_minor": 0
      },
      "text/plain": [
       "Loop over listings:   0%|          | 0/26 [00:00<?, ?it/s]"
      ]
     },
     "metadata": {},
     "output_type": "display_data"
    },
    {
     "name": "stdout",
     "output_type": "stream",
     "text": [
      "Car Page: 403\n",
      "Car Page: 403\n"
     ]
    },
    {
     "data": {
      "application/vnd.jupyter.widget-view+json": {
       "model_id": "",
       "version_major": 2,
       "version_minor": 0
      },
      "text/plain": [
       "Loop over listings:   0%|          | 0/26 [00:00<?, ?it/s]"
      ]
     },
     "metadata": {},
     "output_type": "display_data"
    },
    {
     "data": {
      "application/vnd.jupyter.widget-view+json": {
       "model_id": "",
       "version_major": 2,
       "version_minor": 0
      },
      "text/plain": [
       "Loop over listings:   0%|          | 0/26 [00:00<?, ?it/s]"
      ]
     },
     "metadata": {},
     "output_type": "display_data"
    },
    {
     "name": "stdout",
     "output_type": "stream",
     "text": [
      "Car Page: 403\n"
     ]
    },
    {
     "data": {
      "application/vnd.jupyter.widget-view+json": {
       "model_id": "",
       "version_major": 2,
       "version_minor": 0
      },
      "text/plain": [
       "Loop over listings:   0%|          | 0/26 [00:00<?, ?it/s]"
      ]
     },
     "metadata": {},
     "output_type": "display_data"
    },
    {
     "data": {
      "application/vnd.jupyter.widget-view+json": {
       "model_id": "",
       "version_major": 2,
       "version_minor": 0
      },
      "text/plain": [
       "Loop over listings:   0%|          | 0/26 [00:00<?, ?it/s]"
      ]
     },
     "metadata": {},
     "output_type": "display_data"
    },
    {
     "name": "stdout",
     "output_type": "stream",
     "text": [
      "Car Page: 403\n"
     ]
    },
    {
     "data": {
      "application/vnd.jupyter.widget-view+json": {
       "model_id": "c13c82dac4af4f2f9a5f313bd3d62ab9",
       "version_major": 2,
       "version_minor": 0
      },
      "text/plain": [
       "Loop over listings:   0%|          | 0/26 [00:00<?, ?it/s]"
      ]
     },
     "metadata": {},
     "output_type": "display_data"
    },
    {
     "name": "stdout",
     "output_type": "stream",
     "text": [
      "Car Page: 429\n"
     ]
    },
    {
     "data": {
      "application/vnd.jupyter.widget-view+json": {
       "model_id": "6978455348c145f2b08918acb67871d4",
       "version_major": 2,
       "version_minor": 0
      },
      "text/plain": [
       "Loop over listings:   0%|          | 0/26 [00:00<?, ?it/s]"
      ]
     },
     "metadata": {},
     "output_type": "display_data"
    },
    {
     "name": "stdout",
     "output_type": "stream",
     "text": [
      "Car Page: 429\n"
     ]
    },
    {
     "data": {
      "application/vnd.jupyter.widget-view+json": {
       "model_id": "09e7ba948fbb4f83961c88b9fe1f26c4",
       "version_major": 2,
       "version_minor": 0
      },
      "text/plain": [
       "Loop over listings:   0%|          | 0/26 [00:00<?, ?it/s]"
      ]
     },
     "metadata": {},
     "output_type": "display_data"
    },
    {
     "name": "stdout",
     "output_type": "stream",
     "text": [
      "Car Page: 429\n"
     ]
    },
    {
     "data": {
      "application/vnd.jupyter.widget-view+json": {
       "model_id": "799cb6824269440d9390ad17337a700b",
       "version_major": 2,
       "version_minor": 0
      },
      "text/plain": [
       "Loop over listings:   0%|          | 0/26 [00:00<?, ?it/s]"
      ]
     },
     "metadata": {},
     "output_type": "display_data"
    },
    {
     "name": "stdout",
     "output_type": "stream",
     "text": [
      "Car Page: 429\n"
     ]
    },
    {
     "data": {
      "application/vnd.jupyter.widget-view+json": {
       "model_id": "1375981997a14179b4aa28cd9c7a6727",
       "version_major": 2,
       "version_minor": 0
      },
      "text/plain": [
       "Loop over listings:   0%|          | 0/26 [00:00<?, ?it/s]"
      ]
     },
     "metadata": {},
     "output_type": "display_data"
    },
    {
     "name": "stdout",
     "output_type": "stream",
     "text": [
      "Car Page: 429\n"
     ]
    },
    {
     "data": {
      "application/vnd.jupyter.widget-view+json": {
       "model_id": "4beec126b3d34bb29ec0d234a38d1686",
       "version_major": 2,
       "version_minor": 0
      },
      "text/plain": [
       "Loop over listings:   0%|          | 0/26 [00:00<?, ?it/s]"
      ]
     },
     "metadata": {},
     "output_type": "display_data"
    },
    {
     "name": "stdout",
     "output_type": "stream",
     "text": [
      "Car Page: 429\n"
     ]
    },
    {
     "data": {
      "application/vnd.jupyter.widget-view+json": {
       "model_id": "56e8ba9a1b334487ab587338fcaa2dde",
       "version_major": 2,
       "version_minor": 0
      },
      "text/plain": [
       "Loop over listings:   0%|          | 0/26 [00:00<?, ?it/s]"
      ]
     },
     "metadata": {},
     "output_type": "display_data"
    },
    {
     "name": "stdout",
     "output_type": "stream",
     "text": [
      "Car Page: 429\n"
     ]
    },
    {
     "data": {
      "application/vnd.jupyter.widget-view+json": {
       "model_id": "81035c057e6e4f1eb88d7aa5c229e0a7",
       "version_major": 2,
       "version_minor": 0
      },
      "text/plain": [
       "Loop over listings:   0%|          | 0/26 [00:00<?, ?it/s]"
      ]
     },
     "metadata": {},
     "output_type": "display_data"
    },
    {
     "name": "stdout",
     "output_type": "stream",
     "text": [
      "Car Page: 429\n"
     ]
    },
    {
     "data": {
      "application/vnd.jupyter.widget-view+json": {
       "model_id": "2f9b29a3d774453f8e1e752771461893",
       "version_major": 2,
       "version_minor": 0
      },
      "text/plain": [
       "Loop over listings:   0%|          | 0/26 [00:00<?, ?it/s]"
      ]
     },
     "metadata": {},
     "output_type": "display_data"
    },
    {
     "name": "stdout",
     "output_type": "stream",
     "text": [
      "Car Page: 429\n"
     ]
    },
    {
     "data": {
      "application/vnd.jupyter.widget-view+json": {
       "model_id": "61eb3801ab084074b8aafb298fcd9fc3",
       "version_major": 2,
       "version_minor": 0
      },
      "text/plain": [
       "Loop over listings:   0%|          | 0/26 [00:00<?, ?it/s]"
      ]
     },
     "metadata": {},
     "output_type": "display_data"
    },
    {
     "name": "stdout",
     "output_type": "stream",
     "text": [
      "Car Page: 429\n"
     ]
    },
    {
     "data": {
      "application/vnd.jupyter.widget-view+json": {
       "model_id": "abfd27bd089e43638c723ceef4f74421",
       "version_major": 2,
       "version_minor": 0
      },
      "text/plain": [
       "Loop over listings:   0%|          | 0/26 [00:00<?, ?it/s]"
      ]
     },
     "metadata": {},
     "output_type": "display_data"
    },
    {
     "name": "stdout",
     "output_type": "stream",
     "text": [
      "Car Page: 429\n"
     ]
    },
    {
     "data": {
      "application/vnd.jupyter.widget-view+json": {
       "model_id": "ab54a36c787f4acbaf3452ebda1abced",
       "version_major": 2,
       "version_minor": 0
      },
      "text/plain": [
       "Loop over listings:   0%|          | 0/26 [00:00<?, ?it/s]"
      ]
     },
     "metadata": {},
     "output_type": "display_data"
    },
    {
     "name": "stdout",
     "output_type": "stream",
     "text": [
      "Car Page: 429\n"
     ]
    },
    {
     "data": {
      "application/vnd.jupyter.widget-view+json": {
       "model_id": "e38a9d39549b4b52bbc7a04f108d28b4",
       "version_major": 2,
       "version_minor": 0
      },
      "text/plain": [
       "Loop over listings:   0%|          | 0/26 [00:00<?, ?it/s]"
      ]
     },
     "metadata": {},
     "output_type": "display_data"
    },
    {
     "name": "stdout",
     "output_type": "stream",
     "text": [
      "Car Page: 429\n"
     ]
    },
    {
     "data": {
      "application/vnd.jupyter.widget-view+json": {
       "model_id": "1045b357a1d1430ba8560d95ffd390d6",
       "version_major": 2,
       "version_minor": 0
      },
      "text/plain": [
       "Loop over listings:   0%|          | 0/26 [00:00<?, ?it/s]"
      ]
     },
     "metadata": {},
     "output_type": "display_data"
    },
    {
     "name": "stdout",
     "output_type": "stream",
     "text": [
      "Car Page: 429\n"
     ]
    },
    {
     "data": {
      "application/vnd.jupyter.widget-view+json": {
       "model_id": "6be813cf12784e0b81836c3f958c0e0a",
       "version_major": 2,
       "version_minor": 0
      },
      "text/plain": [
       "Loop over listings:   0%|          | 0/26 [00:00<?, ?it/s]"
      ]
     },
     "metadata": {},
     "output_type": "display_data"
    },
    {
     "name": "stdout",
     "output_type": "stream",
     "text": [
      "Car Page: 429\n"
     ]
    },
    {
     "data": {
      "application/vnd.jupyter.widget-view+json": {
       "model_id": "a455f398e7844524bf03f8e8b0d4c1ad",
       "version_major": 2,
       "version_minor": 0
      },
      "text/plain": [
       "Loop over listings:   0%|          | 0/26 [00:00<?, ?it/s]"
      ]
     },
     "metadata": {},
     "output_type": "display_data"
    },
    {
     "name": "stdout",
     "output_type": "stream",
     "text": [
      "Car Page: 429\n"
     ]
    },
    {
     "data": {
      "application/vnd.jupyter.widget-view+json": {
       "model_id": "e8b05dcbd9e2417e9eda137a2c66d747",
       "version_major": 2,
       "version_minor": 0
      },
      "text/plain": [
       "Loop over listings:   0%|          | 0/26 [00:00<?, ?it/s]"
      ]
     },
     "metadata": {},
     "output_type": "display_data"
    },
    {
     "name": "stdout",
     "output_type": "stream",
     "text": [
      "Car Page: 429\n"
     ]
    },
    {
     "data": {
      "application/vnd.jupyter.widget-view+json": {
       "model_id": "6f977ae86e494a858c1257af7a31c45e",
       "version_major": 2,
       "version_minor": 0
      },
      "text/plain": [
       "Loop over listings:   0%|          | 0/26 [00:00<?, ?it/s]"
      ]
     },
     "metadata": {},
     "output_type": "display_data"
    },
    {
     "name": "stdout",
     "output_type": "stream",
     "text": [
      "Car Page: 429\n"
     ]
    },
    {
     "data": {
      "application/vnd.jupyter.widget-view+json": {
       "model_id": "847a9ba730344082b258adee9e751d37",
       "version_major": 2,
       "version_minor": 0
      },
      "text/plain": [
       "Loop over listings:   0%|          | 0/25 [00:00<?, ?it/s]"
      ]
     },
     "metadata": {},
     "output_type": "display_data"
    },
    {
     "name": "stdout",
     "output_type": "stream",
     "text": [
      "Car Page: 429\n"
     ]
    },
    {
     "data": {
      "application/vnd.jupyter.widget-view+json": {
       "model_id": "f03f0fa41689405b9ae1389605f900b5",
       "version_major": 2,
       "version_minor": 0
      },
      "text/plain": [
       "Loop over listings:   0%|          | 0/26 [00:00<?, ?it/s]"
      ]
     },
     "metadata": {},
     "output_type": "display_data"
    },
    {
     "name": "stdout",
     "output_type": "stream",
     "text": [
      "Car Page: 429\n"
     ]
    },
    {
     "data": {
      "application/vnd.jupyter.widget-view+json": {
       "model_id": "947883c32e76451eaf2266a61a3eb59a",
       "version_major": 2,
       "version_minor": 0
      },
      "text/plain": [
       "Loop over listings:   0%|          | 0/26 [00:00<?, ?it/s]"
      ]
     },
     "metadata": {},
     "output_type": "display_data"
    },
    {
     "name": "stdout",
     "output_type": "stream",
     "text": [
      "Car Page: 429\n"
     ]
    },
    {
     "data": {
      "application/vnd.jupyter.widget-view+json": {
       "model_id": "11552d5e943b434788fdcd144292c982",
       "version_major": 2,
       "version_minor": 0
      },
      "text/plain": [
       "Loop over listings:   0%|          | 0/26 [00:00<?, ?it/s]"
      ]
     },
     "metadata": {},
     "output_type": "display_data"
    },
    {
     "name": "stdout",
     "output_type": "stream",
     "text": [
      "Car Page: 429\n"
     ]
    },
    {
     "data": {
      "application/vnd.jupyter.widget-view+json": {
       "model_id": "0a2895c5f2e6445492f70fff509c4544",
       "version_major": 2,
       "version_minor": 0
      },
      "text/plain": [
       "Loop over listings:   0%|          | 0/26 [00:00<?, ?it/s]"
      ]
     },
     "metadata": {},
     "output_type": "display_data"
    },
    {
     "name": "stdout",
     "output_type": "stream",
     "text": [
      "Car Page: 429\n"
     ]
    },
    {
     "data": {
      "application/vnd.jupyter.widget-view+json": {
       "model_id": "685b2ea356714112b75868c483b1b141",
       "version_major": 2,
       "version_minor": 0
      },
      "text/plain": [
       "Loop over listings:   0%|          | 0/26 [00:00<?, ?it/s]"
      ]
     },
     "metadata": {},
     "output_type": "display_data"
    },
    {
     "name": "stdout",
     "output_type": "stream",
     "text": [
      "Car Page: 429\n"
     ]
    },
    {
     "data": {
      "application/vnd.jupyter.widget-view+json": {
       "model_id": "37d2194a541446c1bf8bfe5acfea87e8",
       "version_major": 2,
       "version_minor": 0
      },
      "text/plain": [
       "Loop over listings:   0%|          | 0/26 [00:00<?, ?it/s]"
      ]
     },
     "metadata": {},
     "output_type": "display_data"
    },
    {
     "name": "stdout",
     "output_type": "stream",
     "text": [
      "Car Page: 429\n"
     ]
    },
    {
     "data": {
      "application/vnd.jupyter.widget-view+json": {
       "model_id": "87a4df14f19b4878a2cb1bdb8a061ea3",
       "version_major": 2,
       "version_minor": 0
      },
      "text/plain": [
       "Loop over listings:   0%|          | 0/26 [00:00<?, ?it/s]"
      ]
     },
     "metadata": {},
     "output_type": "display_data"
    },
    {
     "name": "stdout",
     "output_type": "stream",
     "text": [
      "Car Page: 429\n"
     ]
    },
    {
     "data": {
      "application/vnd.jupyter.widget-view+json": {
       "model_id": "50399b16f3d04b70b3df49fb48fa25b4",
       "version_major": 2,
       "version_minor": 0
      },
      "text/plain": [
       "Loop over listings:   0%|          | 0/26 [00:00<?, ?it/s]"
      ]
     },
     "metadata": {},
     "output_type": "display_data"
    },
    {
     "name": "stdout",
     "output_type": "stream",
     "text": [
      "Car Page: 429\n"
     ]
    },
    {
     "data": {
      "application/vnd.jupyter.widget-view+json": {
       "model_id": "dbd21686bef84b41ab0dae20f2121219",
       "version_major": 2,
       "version_minor": 0
      },
      "text/plain": [
       "Loop over listings:   0%|          | 0/26 [00:00<?, ?it/s]"
      ]
     },
     "metadata": {},
     "output_type": "display_data"
    },
    {
     "name": "stdout",
     "output_type": "stream",
     "text": [
      "Car Page: 429\n"
     ]
    },
    {
     "data": {
      "application/vnd.jupyter.widget-view+json": {
       "model_id": "d80630e2ebd14043934699a74e7bf490",
       "version_major": 2,
       "version_minor": 0
      },
      "text/plain": [
       "Loop over listings:   0%|          | 0/26 [00:00<?, ?it/s]"
      ]
     },
     "metadata": {},
     "output_type": "display_data"
    },
    {
     "name": "stdout",
     "output_type": "stream",
     "text": [
      "Car Page: 429\n"
     ]
    },
    {
     "data": {
      "application/vnd.jupyter.widget-view+json": {
       "model_id": "1c7eb3bd888241f29599ef3f592949c2",
       "version_major": 2,
       "version_minor": 0
      },
      "text/plain": [
       "Loop over listings:   0%|          | 0/26 [00:00<?, ?it/s]"
      ]
     },
     "metadata": {},
     "output_type": "display_data"
    },
    {
     "name": "stdout",
     "output_type": "stream",
     "text": [
      "Car Page: 429\n"
     ]
    },
    {
     "data": {
      "application/vnd.jupyter.widget-view+json": {
       "model_id": "d6048945185a494a99a43b05170a8ae8",
       "version_major": 2,
       "version_minor": 0
      },
      "text/plain": [
       "Loop over listings:   0%|          | 0/26 [00:00<?, ?it/s]"
      ]
     },
     "metadata": {},
     "output_type": "display_data"
    },
    {
     "name": "stdout",
     "output_type": "stream",
     "text": [
      "Car Page: 429\n"
     ]
    },
    {
     "data": {
      "application/vnd.jupyter.widget-view+json": {
       "model_id": "4a13fac0b6934e4fa76d0207f5f8c624",
       "version_major": 2,
       "version_minor": 0
      },
      "text/plain": [
       "Loop over listings:   0%|          | 0/26 [00:00<?, ?it/s]"
      ]
     },
     "metadata": {},
     "output_type": "display_data"
    },
    {
     "name": "stdout",
     "output_type": "stream",
     "text": [
      "Car Page: 429\n"
     ]
    },
    {
     "data": {
      "application/vnd.jupyter.widget-view+json": {
       "model_id": "8d4a77c046bd4869951f5fea379a05d2",
       "version_major": 2,
       "version_minor": 0
      },
      "text/plain": [
       "Loop over listings:   0%|          | 0/26 [00:00<?, ?it/s]"
      ]
     },
     "metadata": {},
     "output_type": "display_data"
    },
    {
     "name": "stdout",
     "output_type": "stream",
     "text": [
      "Car Page: 429\n"
     ]
    },
    {
     "data": {
      "application/vnd.jupyter.widget-view+json": {
       "model_id": "a820a23a511d42a88650c7fb4d0ab250",
       "version_major": 2,
       "version_minor": 0
      },
      "text/plain": [
       "Loop over listings:   0%|          | 0/26 [00:00<?, ?it/s]"
      ]
     },
     "metadata": {},
     "output_type": "display_data"
    },
    {
     "name": "stdout",
     "output_type": "stream",
     "text": [
      "Car Page: 429\n"
     ]
    },
    {
     "data": {
      "application/vnd.jupyter.widget-view+json": {
       "model_id": "20cb1be4e4744de89788a7f85421f483",
       "version_major": 2,
       "version_minor": 0
      },
      "text/plain": [
       "Loop over listings:   0%|          | 0/26 [00:00<?, ?it/s]"
      ]
     },
     "metadata": {},
     "output_type": "display_data"
    },
    {
     "name": "stdout",
     "output_type": "stream",
     "text": [
      "Car Page: 429\n"
     ]
    },
    {
     "data": {
      "application/vnd.jupyter.widget-view+json": {
       "model_id": "9d75fe6aeefb4f118c541803dabb0204",
       "version_major": 2,
       "version_minor": 0
      },
      "text/plain": [
       "Loop over listings:   0%|          | 0/26 [00:00<?, ?it/s]"
      ]
     },
     "metadata": {},
     "output_type": "display_data"
    },
    {
     "name": "stdout",
     "output_type": "stream",
     "text": [
      "Car Page: 429\n"
     ]
    },
    {
     "data": {
      "application/vnd.jupyter.widget-view+json": {
       "model_id": "fda00ce60de945ba90e126453ab8cdaa",
       "version_major": 2,
       "version_minor": 0
      },
      "text/plain": [
       "Loop over listings:   0%|          | 0/26 [00:00<?, ?it/s]"
      ]
     },
     "metadata": {},
     "output_type": "display_data"
    },
    {
     "name": "stdout",
     "output_type": "stream",
     "text": [
      "Car Page: 429\n"
     ]
    },
    {
     "data": {
      "application/vnd.jupyter.widget-view+json": {
       "model_id": "4afb3285814a4ed4848103338908ca07",
       "version_major": 2,
       "version_minor": 0
      },
      "text/plain": [
       "Loop over listings:   0%|          | 0/26 [00:00<?, ?it/s]"
      ]
     },
     "metadata": {},
     "output_type": "display_data"
    },
    {
     "name": "stdout",
     "output_type": "stream",
     "text": [
      "Car Page: 429\n"
     ]
    },
    {
     "data": {
      "application/vnd.jupyter.widget-view+json": {
       "model_id": "ec57a51120a94618a53790b6532dd7f2",
       "version_major": 2,
       "version_minor": 0
      },
      "text/plain": [
       "Loop over listings:   0%|          | 0/26 [00:00<?, ?it/s]"
      ]
     },
     "metadata": {},
     "output_type": "display_data"
    },
    {
     "name": "stdout",
     "output_type": "stream",
     "text": [
      "Car Page: 429\n"
     ]
    },
    {
     "data": {
      "application/vnd.jupyter.widget-view+json": {
       "model_id": "0717318e0ddc44e889d0aaf0b5913588",
       "version_major": 2,
       "version_minor": 0
      },
      "text/plain": [
       "Loop over listings:   0%|          | 0/26 [00:00<?, ?it/s]"
      ]
     },
     "metadata": {},
     "output_type": "display_data"
    },
    {
     "name": "stdout",
     "output_type": "stream",
     "text": [
      "Car Page: 429\n"
     ]
    },
    {
     "data": {
      "application/vnd.jupyter.widget-view+json": {
       "model_id": "e8c3f86653f04131b92c398e74703606",
       "version_major": 2,
       "version_minor": 0
      },
      "text/plain": [
       "Loop over listings:   0%|          | 0/26 [00:00<?, ?it/s]"
      ]
     },
     "metadata": {},
     "output_type": "display_data"
    },
    {
     "name": "stdout",
     "output_type": "stream",
     "text": [
      "Car Page: 429\n"
     ]
    },
    {
     "data": {
      "application/vnd.jupyter.widget-view+json": {
       "model_id": "df3cab1052574e6783301b2cb69d8ec8",
       "version_major": 2,
       "version_minor": 0
      },
      "text/plain": [
       "Loop over listings:   0%|          | 0/26 [00:00<?, ?it/s]"
      ]
     },
     "metadata": {},
     "output_type": "display_data"
    },
    {
     "name": "stdout",
     "output_type": "stream",
     "text": [
      "Car Page: 429\n"
     ]
    },
    {
     "data": {
      "application/vnd.jupyter.widget-view+json": {
       "model_id": "be9973e78da048f6910d16821341c853",
       "version_major": 2,
       "version_minor": 0
      },
      "text/plain": [
       "Loop over listings:   0%|          | 0/26 [00:00<?, ?it/s]"
      ]
     },
     "metadata": {},
     "output_type": "display_data"
    },
    {
     "name": "stdout",
     "output_type": "stream",
     "text": [
      "Car Page: 429\n"
     ]
    },
    {
     "data": {
      "application/vnd.jupyter.widget-view+json": {
       "model_id": "97e4bc87756045cc9547b0b57a937dc4",
       "version_major": 2,
       "version_minor": 0
      },
      "text/plain": [
       "Loop over listings:   0%|          | 0/26 [00:00<?, ?it/s]"
      ]
     },
     "metadata": {},
     "output_type": "display_data"
    },
    {
     "name": "stdout",
     "output_type": "stream",
     "text": [
      "Car Page: 429\n"
     ]
    },
    {
     "data": {
      "application/vnd.jupyter.widget-view+json": {
       "model_id": "cdfc403c819a4e31a89a2363f7645544",
       "version_major": 2,
       "version_minor": 0
      },
      "text/plain": [
       "Loop over listings:   0%|          | 0/26 [00:00<?, ?it/s]"
      ]
     },
     "metadata": {},
     "output_type": "display_data"
    },
    {
     "name": "stdout",
     "output_type": "stream",
     "text": [
      "Car Page: 429\n"
     ]
    },
    {
     "data": {
      "application/vnd.jupyter.widget-view+json": {
       "model_id": "12727dc9cd0a4271b25e405751721377",
       "version_major": 2,
       "version_minor": 0
      },
      "text/plain": [
       "Loop over listings:   0%|          | 0/26 [00:00<?, ?it/s]"
      ]
     },
     "metadata": {},
     "output_type": "display_data"
    },
    {
     "name": "stdout",
     "output_type": "stream",
     "text": [
      "Car Page: 429\n"
     ]
    },
    {
     "data": {
      "application/vnd.jupyter.widget-view+json": {
       "model_id": "c64411db01444efe9013998c9ae8013c",
       "version_major": 2,
       "version_minor": 0
      },
      "text/plain": [
       "Loop over listings:   0%|          | 0/26 [00:00<?, ?it/s]"
      ]
     },
     "metadata": {},
     "output_type": "display_data"
    },
    {
     "name": "stdout",
     "output_type": "stream",
     "text": [
      "Car Page: 429\n"
     ]
    },
    {
     "data": {
      "application/vnd.jupyter.widget-view+json": {
       "model_id": "c0f9614a096241ceaf3504ad7bf57c98",
       "version_major": 2,
       "version_minor": 0
      },
      "text/plain": [
       "Loop over listings:   0%|          | 0/26 [00:00<?, ?it/s]"
      ]
     },
     "metadata": {},
     "output_type": "display_data"
    },
    {
     "name": "stdout",
     "output_type": "stream",
     "text": [
      "Car Page: 429\n"
     ]
    },
    {
     "data": {
      "application/vnd.jupyter.widget-view+json": {
       "model_id": "3266abdd59d5427f8ed61e7d71a027fa",
       "version_major": 2,
       "version_minor": 0
      },
      "text/plain": [
       "Loop over listings:   0%|          | 0/26 [00:00<?, ?it/s]"
      ]
     },
     "metadata": {},
     "output_type": "display_data"
    },
    {
     "name": "stdout",
     "output_type": "stream",
     "text": [
      "Car Page: 429\n"
     ]
    },
    {
     "data": {
      "application/vnd.jupyter.widget-view+json": {
       "model_id": "a8e99896c60a4852ae0ff051076b9c15",
       "version_major": 2,
       "version_minor": 0
      },
      "text/plain": [
       "Loop over listings:   0%|          | 0/26 [00:00<?, ?it/s]"
      ]
     },
     "metadata": {},
     "output_type": "display_data"
    },
    {
     "name": "stdout",
     "output_type": "stream",
     "text": [
      "Car Page: 429\n"
     ]
    },
    {
     "data": {
      "application/vnd.jupyter.widget-view+json": {
       "model_id": "6fced5ab9677474faeae9b0dd36e338f",
       "version_major": 2,
       "version_minor": 0
      },
      "text/plain": [
       "Loop over listings:   0%|          | 0/26 [00:00<?, ?it/s]"
      ]
     },
     "metadata": {},
     "output_type": "display_data"
    },
    {
     "name": "stdout",
     "output_type": "stream",
     "text": [
      "Car Page: 429\n"
     ]
    },
    {
     "data": {
      "application/vnd.jupyter.widget-view+json": {
       "model_id": "7012e9a3710d4fff87f88d948560c862",
       "version_major": 2,
       "version_minor": 0
      },
      "text/plain": [
       "Loop over listings:   0%|          | 0/26 [00:00<?, ?it/s]"
      ]
     },
     "metadata": {},
     "output_type": "display_data"
    },
    {
     "name": "stdout",
     "output_type": "stream",
     "text": [
      "Car Page: 429\n"
     ]
    },
    {
     "data": {
      "application/vnd.jupyter.widget-view+json": {
       "model_id": "afc871165e7840e584025460751df5fb",
       "version_major": 2,
       "version_minor": 0
      },
      "text/plain": [
       "Loop over listings:   0%|          | 0/26 [00:00<?, ?it/s]"
      ]
     },
     "metadata": {},
     "output_type": "display_data"
    },
    {
     "name": "stdout",
     "output_type": "stream",
     "text": [
      "Car Page: 429\n"
     ]
    },
    {
     "data": {
      "application/vnd.jupyter.widget-view+json": {
       "model_id": "6ea929ab63d54b0481c2bc4cc0dd3d74",
       "version_major": 2,
       "version_minor": 0
      },
      "text/plain": [
       "Loop over listings:   0%|          | 0/26 [00:00<?, ?it/s]"
      ]
     },
     "metadata": {},
     "output_type": "display_data"
    },
    {
     "name": "stdout",
     "output_type": "stream",
     "text": [
      "Car Page: 429\n"
     ]
    },
    {
     "data": {
      "application/vnd.jupyter.widget-view+json": {
       "model_id": "c70db1757bf54a4babf6ddd7ac77ddd0",
       "version_major": 2,
       "version_minor": 0
      },
      "text/plain": [
       "Loop over listings:   0%|          | 0/26 [00:00<?, ?it/s]"
      ]
     },
     "metadata": {},
     "output_type": "display_data"
    },
    {
     "name": "stdout",
     "output_type": "stream",
     "text": [
      "Car Page: 429\n"
     ]
    },
    {
     "data": {
      "application/vnd.jupyter.widget-view+json": {
       "model_id": "a07646bf3ba14565988dfd793d900657",
       "version_major": 2,
       "version_minor": 0
      },
      "text/plain": [
       "Loop over listings:   0%|          | 0/26 [00:00<?, ?it/s]"
      ]
     },
     "metadata": {},
     "output_type": "display_data"
    },
    {
     "name": "stdout",
     "output_type": "stream",
     "text": [
      "Car Page: 429\n"
     ]
    },
    {
     "data": {
      "application/vnd.jupyter.widget-view+json": {
       "model_id": "d8a63821618c4b4aacd55847b83f6ef4",
       "version_major": 2,
       "version_minor": 0
      },
      "text/plain": [
       "Loop over listings:   0%|          | 0/26 [00:00<?, ?it/s]"
      ]
     },
     "metadata": {},
     "output_type": "display_data"
    },
    {
     "name": "stdout",
     "output_type": "stream",
     "text": [
      "Car Page: 429\n"
     ]
    },
    {
     "data": {
      "application/vnd.jupyter.widget-view+json": {
       "model_id": "69e373b44f1f4948a368c80b86ebb600",
       "version_major": 2,
       "version_minor": 0
      },
      "text/plain": [
       "Loop over listings:   0%|          | 0/26 [00:00<?, ?it/s]"
      ]
     },
     "metadata": {},
     "output_type": "display_data"
    },
    {
     "name": "stdout",
     "output_type": "stream",
     "text": [
      "Car Page: 429\n"
     ]
    },
    {
     "data": {
      "application/vnd.jupyter.widget-view+json": {
       "model_id": "0f1eecbc021e47a58bf9aee71145fb86",
       "version_major": 2,
       "version_minor": 0
      },
      "text/plain": [
       "Loop over listings:   0%|          | 0/26 [00:00<?, ?it/s]"
      ]
     },
     "metadata": {},
     "output_type": "display_data"
    },
    {
     "name": "stdout",
     "output_type": "stream",
     "text": [
      "Car Page: 429\n"
     ]
    },
    {
     "data": {
      "application/vnd.jupyter.widget-view+json": {
       "model_id": "7ea1c8488f934a298ff1341dc2876a7b",
       "version_major": 2,
       "version_minor": 0
      },
      "text/plain": [
       "Loop over listings:   0%|          | 0/26 [00:00<?, ?it/s]"
      ]
     },
     "metadata": {},
     "output_type": "display_data"
    },
    {
     "name": "stdout",
     "output_type": "stream",
     "text": [
      "Car Page: 429\n"
     ]
    },
    {
     "data": {
      "application/vnd.jupyter.widget-view+json": {
       "model_id": "e1047ba76c24422884bc6d08c1178603",
       "version_major": 2,
       "version_minor": 0
      },
      "text/plain": [
       "Loop over listings:   0%|          | 0/26 [00:00<?, ?it/s]"
      ]
     },
     "metadata": {},
     "output_type": "display_data"
    },
    {
     "name": "stdout",
     "output_type": "stream",
     "text": [
      "Car Page: 429\n"
     ]
    },
    {
     "data": {
      "application/vnd.jupyter.widget-view+json": {
       "model_id": "2595f344c82e4d119d73320163849c6e",
       "version_major": 2,
       "version_minor": 0
      },
      "text/plain": [
       "Loop over listings:   0%|          | 0/26 [00:00<?, ?it/s]"
      ]
     },
     "metadata": {},
     "output_type": "display_data"
    },
    {
     "name": "stdout",
     "output_type": "stream",
     "text": [
      "Car Page: 429\n"
     ]
    },
    {
     "data": {
      "application/vnd.jupyter.widget-view+json": {
       "model_id": "1dd2da6849c54d82827c826e55dcc62d",
       "version_major": 2,
       "version_minor": 0
      },
      "text/plain": [
       "Loop over listings:   0%|          | 0/26 [00:00<?, ?it/s]"
      ]
     },
     "metadata": {},
     "output_type": "display_data"
    },
    {
     "name": "stdout",
     "output_type": "stream",
     "text": [
      "Car Page: 429\n"
     ]
    },
    {
     "data": {
      "application/vnd.jupyter.widget-view+json": {
       "model_id": "5771d7c7efea4c51bfed1bbddf2ed7d1",
       "version_major": 2,
       "version_minor": 0
      },
      "text/plain": [
       "Loop over listings:   0%|          | 0/26 [00:00<?, ?it/s]"
      ]
     },
     "metadata": {},
     "output_type": "display_data"
    },
    {
     "name": "stdout",
     "output_type": "stream",
     "text": [
      "Car Page: 429\n"
     ]
    },
    {
     "data": {
      "application/vnd.jupyter.widget-view+json": {
       "model_id": "797c2ab3adbd4c178445da3986e6398d",
       "version_major": 2,
       "version_minor": 0
      },
      "text/plain": [
       "Loop over listings:   0%|          | 0/26 [00:00<?, ?it/s]"
      ]
     },
     "metadata": {},
     "output_type": "display_data"
    },
    {
     "name": "stdout",
     "output_type": "stream",
     "text": [
      "Car Page: 429\n"
     ]
    },
    {
     "data": {
      "application/vnd.jupyter.widget-view+json": {
       "model_id": "995b1a7c812f443382715884ca425060",
       "version_major": 2,
       "version_minor": 0
      },
      "text/plain": [
       "Loop over listings:   0%|          | 0/26 [00:00<?, ?it/s]"
      ]
     },
     "metadata": {},
     "output_type": "display_data"
    },
    {
     "name": "stdout",
     "output_type": "stream",
     "text": [
      "Car Page: 429\n"
     ]
    },
    {
     "data": {
      "application/vnd.jupyter.widget-view+json": {
       "model_id": "4b2fc36ffd894b2f8993e0b3246246fd",
       "version_major": 2,
       "version_minor": 0
      },
      "text/plain": [
       "Loop over listings:   0%|          | 0/26 [00:00<?, ?it/s]"
      ]
     },
     "metadata": {},
     "output_type": "display_data"
    },
    {
     "name": "stdout",
     "output_type": "stream",
     "text": [
      "Car Page: 429\n"
     ]
    },
    {
     "data": {
      "application/vnd.jupyter.widget-view+json": {
       "model_id": "4192149372ec44728365163a480132e6",
       "version_major": 2,
       "version_minor": 0
      },
      "text/plain": [
       "Loop over listings:   0%|          | 0/26 [00:00<?, ?it/s]"
      ]
     },
     "metadata": {},
     "output_type": "display_data"
    },
    {
     "name": "stdout",
     "output_type": "stream",
     "text": [
      "Car Page: 429\n"
     ]
    },
    {
     "data": {
      "application/vnd.jupyter.widget-view+json": {
       "model_id": "861edbe0031742dca5059eaebbdcb83d",
       "version_major": 2,
       "version_minor": 0
      },
      "text/plain": [
       "Loop over listings:   0%|          | 0/26 [00:00<?, ?it/s]"
      ]
     },
     "metadata": {},
     "output_type": "display_data"
    },
    {
     "name": "stdout",
     "output_type": "stream",
     "text": [
      "Car Page: 429\n"
     ]
    },
    {
     "data": {
      "application/vnd.jupyter.widget-view+json": {
       "model_id": "e06af15875334b85886383af2e199e89",
       "version_major": 2,
       "version_minor": 0
      },
      "text/plain": [
       "Loop over listings:   0%|          | 0/26 [00:00<?, ?it/s]"
      ]
     },
     "metadata": {},
     "output_type": "display_data"
    },
    {
     "name": "stdout",
     "output_type": "stream",
     "text": [
      "Car Page: 429\n"
     ]
    },
    {
     "data": {
      "application/vnd.jupyter.widget-view+json": {
       "model_id": "c3d424d1e88b4860b7bb043598cc8d8c",
       "version_major": 2,
       "version_minor": 0
      },
      "text/plain": [
       "Loop over listings:   0%|          | 0/26 [00:00<?, ?it/s]"
      ]
     },
     "metadata": {},
     "output_type": "display_data"
    },
    {
     "name": "stdout",
     "output_type": "stream",
     "text": [
      "Car Page: 429\n"
     ]
    }
   ],
   "source": [
    "for i in trange(100, desc = 'Loop over pages'):\n",
    "    \n",
    "    website = 'https://www.car.gr/classifieds/cars/?fs=1&fuel_type=1&fuel_type=2&lang=en&pg=' + str(i)\n",
    "    response = requests.get(website)\n",
    "    try:\n",
    "        assert response.status_code == 200, print(f'Listings Page: {response.status_code}')\n",
    "    except:\n",
    "        time.sleep(random.uniform(20, 40))\n",
    "        continue\n",
    "    soup = BeautifulSoup(response.content, 'html.parser')\n",
    "    results = soup.find_all('li', {'class':''})\n",
    "\n",
    "    for j in trange(len(results), desc = 'Loop over listings', leave=False):\n",
    "        \n",
    "        # listing title\n",
    "        title = results[j].find('h2', {'class': 'title'}).get_text()\n",
    "        title = title.split('\\n')[1]\n",
    "        # price\n",
    "        try:\n",
    "            price = results[j].find('div', {'class': 'price-tag current-price'}).get_text()\n",
    "            price = ''.join(re.split(r'\\W', price)[1:3])\n",
    "        except:\n",
    "            # Ask price case\n",
    "            price = 'Ask price'\n",
    "        # location\n",
    "        info = results[j].find_all('span', {'class': ''})[3]\n",
    "        location = info.get_text()\n",
    "        \n",
    "\n",
    "        car_page = 'https://www.car.gr' + results[j].find('a', {'class': 'row-anchor'})['href'] + '?lang=en'\n",
    "        car_response = requests.get(car_page,\n",
    "                                    headers = {'User-Agent':UserAgent().random})\n",
    "        time.sleep(5)\n",
    "        try:\n",
    "            assert car_response.status_code == 200, print(f'Car Page: {car_response.status_code}')\n",
    "        except:\n",
    "            time.sleep(random.uniform(25, 45))\n",
    "            if car_response.status_code == 429:\n",
    "                break\n",
    "            else:\n",
    "                continue\n",
    "\n",
    "        soup = BeautifulSoup(car_response.content, 'html.parser')\n",
    "        car_results = soup.find_all('div', {'class': 'tw-p-4', \n",
    "                                            'class': 'tw-relative tw-w-full tw-flex tw-col-span-3 lg:tw-col-span-3 sm:tw-col-span-4 md:tw-col-span-4'})\n",
    "        if len(car_results) != 0:\n",
    "            registration = car_results[0].get_text().split('        ')[5]\n",
    "            km = car_results[1].get_text().split('        ')[5]\n",
    "            fuel = car_results[2].get_text().split('        ')[5]\n",
    "            if 'Petrol' in fuel or 'Diesel' in fuel:\n",
    "                try:\n",
    "                    displacement = car_results[3].get_text().split('        ')[5][:-1]\n",
    "                    hp = car_results[4].get_text().split('        ')[5]\n",
    "                    transmission = car_results[6].get_text().split('        ')[5]\n",
    "                    category = car_results[7].get_text().split('        ')[5]\n",
    "\n",
    "                    car_dict['title'].append(title)\n",
    "                    car_dict['price'].append(price)\n",
    "                    car_dict['registration'].append(registration)\n",
    "                    car_dict['km'].append(km)\n",
    "                    car_dict['displacement'].append(displacement)\n",
    "                    car_dict['hp'].append(hp)\n",
    "                    car_dict['fuel'].append(fuel)\n",
    "                    car_dict['transmission'].append(transmission)\n",
    "                    car_dict['category'].append(category)\n",
    "                    car_dict['location'].append(location)\n",
    "                    car_dict['link'].append(car_page)\n",
    "                except:\n",
    "                    continue\n",
    "        # Waiting time before changing car page \n",
    "        time.sleep(random.uniform(10, 20))\n",
    "    # Waiting time before changing listings page \n",
    "    time.sleep(random.uniform(50, 70))"
   ]
  },
  {
   "cell_type": "code",
   "execution_count": 8,
   "id": "d81257b0",
   "metadata": {},
   "outputs": [],
   "source": [
    "df = pd.DataFrame(car_dict).iloc[1:, :]\n",
    "# transform data to 'agree' with the previous ones\n",
    "for i in range(len(df)):\n",
    "    df['registration'].values[i] = ''.join(df['registration'].values[i].split(' '))\n",
    "    df['category'].values[i] = ''.join(df['category'].values[i].split(' '))\n",
    "#     df['location'].values[i] = ' '.join(df['location'].values[i].split(' ')[1:])"
   ]
  },
  {
   "cell_type": "code",
   "execution_count": 9,
   "id": "92a96931",
   "metadata": {},
   "outputs": [
    {
     "data": {
      "text/plain": [
       "(881, 11)"
      ]
     },
     "execution_count": 9,
     "metadata": {},
     "output_type": "execute_result"
    }
   ],
   "source": [
    "df.shape"
   ]
  },
  {
   "cell_type": "code",
   "execution_count": 10,
   "id": "926bf10c",
   "metadata": {},
   "outputs": [],
   "source": [
    "# df = pd.DataFrame(car_dict).iloc[1:, :]\n",
    "for i in range(1,100):\n",
    "    file = f'listings_{i}.csv'\n",
    "    if not os.path.isfile(file):\n",
    "        df.to_csv(file)\n",
    "        break"
   ]
  },
  {
   "cell_type": "code",
   "execution_count": 16,
   "id": "49774999",
   "metadata": {},
   "outputs": [],
   "source": [
    "dfs = []\n",
    "for i in range(1, 100):\n",
    "    file = f'listings_{i}.csv'\n",
    "    try:\n",
    "        df = pd.read_csv(file, index_col = 0)\n",
    "        dfs.append(df)\n",
    "    except:\n",
    "        break\n",
    "\n",
    "df  = pd.concat(dfs, axis = 0)"
   ]
  },
  {
   "cell_type": "code",
   "execution_count": 17,
   "id": "b05f2035",
   "metadata": {},
   "outputs": [
    {
     "data": {
      "text/plain": [
       "(10863, 11)"
      ]
     },
     "execution_count": 17,
     "metadata": {},
     "output_type": "execute_result"
    }
   ],
   "source": [
    "df.shape"
   ]
  },
  {
   "cell_type": "code",
   "execution_count": 18,
   "id": "d77f0f57",
   "metadata": {},
   "outputs": [
    {
     "data": {
      "text/plain": [
       "(7578, 11)"
      ]
     },
     "execution_count": 18,
     "metadata": {},
     "output_type": "execute_result"
    }
   ],
   "source": [
    "df.drop_duplicates(keep = 'last', inplace = True)\n",
    "df.shape"
   ]
  },
  {
   "cell_type": "code",
   "execution_count": 19,
   "id": "cc3cda0b",
   "metadata": {},
   "outputs": [],
   "source": [
    "df['registration'] = [x[:-1] for x in df['registration'].values]\n",
    "df['km'] = [x[:-1] for x in df['km'].values]\n",
    "# df['displacement'] = [x[:-1] for x in df['displacement'].values]\n",
    "df['hp'] = [x[:-1] for x in df['hp'].values]\n",
    "df['fuel'] = [x[:-1] for x in df['fuel'].values]\n",
    "df['transmission'] = [x[:-1] for x in df['transmission'].values]\n",
    "df['category'] = [x[:-1] for x in df['category'].values]"
   ]
  },
  {
   "cell_type": "code",
   "execution_count": 20,
   "id": "172d344e",
   "metadata": {
    "scrolled": true
   },
   "outputs": [
    {
     "data": {
      "text/html": [
       "<div>\n",
       "<style scoped>\n",
       "    .dataframe tbody tr th:only-of-type {\n",
       "        vertical-align: middle;\n",
       "    }\n",
       "\n",
       "    .dataframe tbody tr th {\n",
       "        vertical-align: top;\n",
       "    }\n",
       "\n",
       "    .dataframe thead th {\n",
       "        text-align: right;\n",
       "    }\n",
       "</style>\n",
       "<table border=\"1\" class=\"dataframe\">\n",
       "  <thead>\n",
       "    <tr style=\"text-align: right;\">\n",
       "      <th></th>\n",
       "      <th>title</th>\n",
       "      <th>price</th>\n",
       "      <th>registration</th>\n",
       "      <th>km</th>\n",
       "      <th>displacement</th>\n",
       "      <th>hp</th>\n",
       "      <th>fuel</th>\n",
       "      <th>transmission</th>\n",
       "      <th>category</th>\n",
       "      <th>location</th>\n",
       "      <th>link</th>\n",
       "    </tr>\n",
       "  </thead>\n",
       "  <tbody>\n",
       "    <tr>\n",
       "      <th>877</th>\n",
       "      <td>Nissan X-Trail '21  4x4 - ΑΥΤΟΜΑΤΟ (ΜΕ ΦΠΑ) '21</td>\n",
       "      <td>45000</td>\n",
       "      <td>04/2021</td>\n",
       "      <td>15.000 km</td>\n",
       "      <td>1.700 cc</td>\n",
       "      <td>150 bhp</td>\n",
       "      <td>Diesel</td>\n",
       "      <td>Automatic</td>\n",
       "      <td>4x4/Jeep/Suv</td>\n",
       "      <td>XAIDARI 12461</td>\n",
       "      <td>https://www.car.gr/classifieds/cars/view/32891...</td>\n",
       "    </tr>\n",
       "    <tr>\n",
       "      <th>878</th>\n",
       "      <td>Nissan Micra '18 '18 EURO 6</td>\n",
       "      <td>13900</td>\n",
       "      <td>04/2018</td>\n",
       "      <td>64.000 km</td>\n",
       "      <td>900 cc</td>\n",
       "      <td>90 bhp</td>\n",
       "      <td>Petrol</td>\n",
       "      <td>Manual</td>\n",
       "      <td>Compact/Hatchback</td>\n",
       "      <td>XAIDARI 12461</td>\n",
       "      <td>https://www.car.gr/classifieds/cars/view/32891...</td>\n",
       "    </tr>\n",
       "    <tr>\n",
       "      <th>879</th>\n",
       "      <td>Nissan Pulsar '17 TECHNA - EURO 6 '17</td>\n",
       "      <td>14300</td>\n",
       "      <td>11/2017</td>\n",
       "      <td>84.000 km</td>\n",
       "      <td>1.200 cc</td>\n",
       "      <td>116 bhp</td>\n",
       "      <td>Petrol</td>\n",
       "      <td>Manual</td>\n",
       "      <td>Compact/Hatchback</td>\n",
       "      <td>XAIDARI 12461</td>\n",
       "      <td>https://www.car.gr/classifieds/cars/view/32891...</td>\n",
       "    </tr>\n",
       "    <tr>\n",
       "      <th>880</th>\n",
       "      <td>Nissan Qashqai '19  N-CONNECTA ΑΥΤΟΜΑΤΟ (ΜΕ ...</td>\n",
       "      <td>25800</td>\n",
       "      <td>03/2019</td>\n",
       "      <td>95.000 km</td>\n",
       "      <td>1.500 cc</td>\n",
       "      <td>116 bhp</td>\n",
       "      <td>Diesel</td>\n",
       "      <td>Automatic</td>\n",
       "      <td>4x4/Jeep/Suv</td>\n",
       "      <td>XAIDARI 12461</td>\n",
       "      <td>https://www.car.gr/classifieds/cars/view/32891...</td>\n",
       "    </tr>\n",
       "    <tr>\n",
       "      <th>881</th>\n",
       "      <td>Opel Astra '17 DIESEL - EURO 6 &amp; NAVIGATION '17</td>\n",
       "      <td>12900</td>\n",
       "      <td>11/2017</td>\n",
       "      <td>117.000 km</td>\n",
       "      <td>1.600 cc</td>\n",
       "      <td>110 bhp</td>\n",
       "      <td>Diesel</td>\n",
       "      <td>Manual</td>\n",
       "      <td>Compact/Hatchback</td>\n",
       "      <td>XAIDARI 12461</td>\n",
       "      <td>https://www.car.gr/classifieds/cars/view/32891...</td>\n",
       "    </tr>\n",
       "  </tbody>\n",
       "</table>\n",
       "</div>"
      ],
      "text/plain": [
       "                                                 title  price registration  \\\n",
       "877    Nissan X-Trail '21  4x4 - ΑΥΤΟΜΑΤΟ (ΜΕ ΦΠΑ) '21  45000      04/2021   \n",
       "878                        Nissan Micra '18 '18 EURO 6  13900      04/2018   \n",
       "879              Nissan Pulsar '17 TECHNA - EURO 6 '17  14300      11/2017   \n",
       "880    Nissan Qashqai '19  N-CONNECTA ΑΥΤΟΜΑΤΟ (ΜΕ ...  25800      03/2019   \n",
       "881    Opel Astra '17 DIESEL - EURO 6 & NAVIGATION '17  12900      11/2017   \n",
       "\n",
       "             km displacement       hp    fuel transmission           category  \\\n",
       "877   15.000 km     1.700 cc  150 bhp  Diesel    Automatic       4x4/Jeep/Suv   \n",
       "878   64.000 km       900 cc   90 bhp  Petrol       Manual  Compact/Hatchback   \n",
       "879   84.000 km     1.200 cc  116 bhp  Petrol       Manual  Compact/Hatchback   \n",
       "880   95.000 km     1.500 cc  116 bhp  Diesel    Automatic       4x4/Jeep/Suv   \n",
       "881  117.000 km     1.600 cc  110 bhp  Diesel       Manual  Compact/Hatchback   \n",
       "\n",
       "           location                                               link  \n",
       "877   XAIDARI 12461  https://www.car.gr/classifieds/cars/view/32891...  \n",
       "878   XAIDARI 12461  https://www.car.gr/classifieds/cars/view/32891...  \n",
       "879   XAIDARI 12461  https://www.car.gr/classifieds/cars/view/32891...  \n",
       "880   XAIDARI 12461  https://www.car.gr/classifieds/cars/view/32891...  \n",
       "881   XAIDARI 12461  https://www.car.gr/classifieds/cars/view/32891...  "
      ]
     },
     "execution_count": 20,
     "metadata": {},
     "output_type": "execute_result"
    }
   ],
   "source": [
    "df.tail()"
   ]
  },
  {
   "cell_type": "code",
   "execution_count": 21,
   "id": "b6806d6f",
   "metadata": {},
   "outputs": [
    {
     "data": {
      "text/plain": [
       "array(['Manual', 'Automatic', 'Semi-automatic', 'Other',\n",
       "       'Compact/Hatchback', 'Coupe-Sport', '4x4/Jeep/Suv',\n",
       "       'Commercial Passenger', 'Crew Cab/Pickup', 'Van/Mini Bus',\n",
       "       'Limousine/Sedan', 'Combi/Caravan', 'Convertible/Roadster',\n",
       "       'Race Car', 'Van/MiniBus', 'CrewCab/Pickup', 'CommercialPassenger',\n",
       "       'RaceCar'], dtype=object)"
      ]
     },
     "execution_count": 21,
     "metadata": {},
     "output_type": "execute_result"
    }
   ],
   "source": [
    "df['category'].unique()"
   ]
  },
  {
   "cell_type": "code",
   "execution_count": 22,
   "id": "3d566986",
   "metadata": {},
   "outputs": [],
   "source": [
    "# fixing some categories to agree with each other\n",
    "semi_auto_index = df[df['transmission'] == 'Semi-automatic'].index\n",
    "df.loc[semi_auto_index, ['transmission']] = 'Automatic'\n",
    "\n",
    "comm_pass_index = df[df['category'] == 'CommercialPassenger'].index\n",
    "df.loc[comm_pass_index, ['category']] = 'Commercial Passenger'\n",
    "\n",
    "van_index = df[df['category'] == 'Van/MiniBus'].index\n",
    "df.loc[van_index, ['category']] = 'Van/Mini Bus'\n",
    "\n",
    "crew_cab_index = df[df['category'] == 'CrewCab/Pickup'].index\n",
    "df.loc[crew_cab_index, ['category']] = 'Crew Cab/Pickup'\n",
    "\n",
    "race_car_index = df[df['category'] == 'RaceCar'].index\n",
    "df.loc[race_car_index, ['category']] = 'Race Car'"
   ]
  },
  {
   "cell_type": "code",
   "execution_count": 23,
   "id": "e5baec27",
   "metadata": {},
   "outputs": [
    {
     "data": {
      "text/plain": [
       "category\n",
       "4x4/Jeep/Suv             868\n",
       "Automatic                198\n",
       "Combi/Caravan            192\n",
       "Commercial Passenger     959\n",
       "Compact/Hatchback       1671\n",
       "Convertible/Roadster     151\n",
       "Coupe-Sport              500\n",
       "Crew Cab/Pickup          497\n",
       "Limousine/Sedan          555\n",
       "Manual                   702\n",
       "Other                    273\n",
       "Race Car                  43\n",
       "Semi-automatic             8\n",
       "Van/Mini Bus             961\n",
       "dtype: int64"
      ]
     },
     "execution_count": 23,
     "metadata": {},
     "output_type": "execute_result"
    }
   ],
   "source": [
    "df.groupby(['category']).size()"
   ]
  },
  {
   "cell_type": "code",
   "execution_count": 24,
   "id": "70e31c9c",
   "metadata": {},
   "outputs": [
    {
     "data": {
      "image/png": "[encoded data removed]",
      "text/plain": [
       "<Figure size 640x480 with 1 Axes>"
      ]
     },
     "metadata": {},
     "output_type": "display_data"
    },
    {
     "data": {
      "text/plain": [
       "<Figure size 1000x1500 with 0 Axes>"
      ]
     },
     "metadata": {},
     "output_type": "display_data"
    }
   ],
   "source": [
    "import matplotlib.pyplot as plt\n",
    "\n",
    "plt.bar(df.groupby(['category']).size().index, df.groupby(['category']).size().values)\n",
    "for i in range(len(df.groupby(['category']).size().index)):\n",
    "    plt.text(i, df.groupby(['category']).size().values[i] + 10, df.groupby(['category']).size().values[i], ha = 'center')\n",
    "plt.xlabel('Category')\n",
    "plt.ylabel('Occurencies')\n",
    "plt.xticks(rotation = 90)\n",
    "plt.figure(figsize=(10,15))\n",
    "plt.tight_layout();"
   ]
  },
  {
   "cell_type": "code",
   "execution_count": null,
   "id": "bdf37c8e",
   "metadata": {},
   "outputs": [],
   "source": []
  }
 ],
 "metadata": {
  "kernelspec": {
   "display_name": "Python 3 (ipykernel)",
   "language": "python",
   "name": "python3"
  },
  "language_info": {
   "codemirror_mode": {
    "name": "ipython",
    "version": 3
   },
   "file_extension": ".py",
   "mimetype": "text/x-python",
   "name": "python",
   "nbconvert_exporter": "python",
   "pygments_lexer": "ipython3",
   "version": "3.9.16"
  }
 },
 "nbformat": 4,
 "nbformat_minor": 5
}
