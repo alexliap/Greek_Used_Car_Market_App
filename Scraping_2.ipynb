{
 "cells": [
  {
   "cell_type": "code",
   "execution_count": 1,
   "id": "10a856ae",
   "metadata": {},
   "outputs": [],
   "source": [
    "from bs4 import BeautifulSoup\n",
    "import pandas as pd\n",
    "import requests\n",
    "import re\n",
    "import time\n",
    "from tqdm.auto import trange\n",
    "import random\n",
    "from fake_useragent import UserAgent\n",
    "import os"
   ]
  },
  {
   "cell_type": "code",
   "execution_count": 2,
   "id": "d92eae0e",
   "metadata": {},
   "outputs": [],
   "source": [
    "# website = 'https://www.car.gr/classifieds/cars/?fs=1&fuel_type=1&fuel_type=2&lang=en&pg=' + str(1)\n",
    "# response = requests.get(website)\n",
    "# soup = BeautifulSoup(response.content, 'html.parser')\n",
    "# results = soup.find_all('li', {'class':''})\n",
    "# car_page = 'https://www.car.gr' + results[0].find('a', {'class': 'row-anchor'})['href'] + '?lang=en'\n",
    "# car_response = requests.get(car_page, headers = {'User-Agent':UserAgent().random})\n",
    "# soup = BeautifulSoup(car_response.content, 'html.parser')"
   ]
  },
  {
   "cell_type": "code",
   "execution_count": 3,
   "id": "26d603b7",
   "metadata": {},
   "outputs": [],
   "source": [
    "# a = soup.find('div', {'class': 'tw-bg-white tw-rounded tw-shadow-sm tw-my-2 !tw-mt-0', \n",
    "#                       'class': 'tw-line-clamp-2 tw-text-ellipsis classified-title-container'})\n",
    "# a.find('h1', {'class': 'tw-text-2xl tw-mb-0 classified-title tw-mt-2 tw-block'}).get_text().split('    ')"
   ]
  },
  {
   "cell_type": "markdown",
   "id": "34fb4ebd",
   "metadata": {},
   "source": [
    "- ### Extract whole page"
   ]
  },
  {
   "cell_type": "code",
   "execution_count": 10,
   "id": "8417ccc7",
   "metadata": {},
   "outputs": [],
   "source": [
    "car_dict = dict({'title': [],\n",
    "                 'price': [],\n",
    "                 'registration': [],\n",
    "                 'km': [],\n",
    "                 'displacement': [],\n",
    "                 'hp': [],\n",
    "                 'fuel': [],\n",
    "                 'transmission': [],\n",
    "                 'category': [],\n",
    "                 'location': [],\n",
    "                 'link': []})"
   ]
  },
  {
   "cell_type": "code",
   "execution_count": 11,
   "id": "56a2f685",
   "metadata": {
    "scrolled": true
   },
   "outputs": [
    {
     "data": {
      "application/vnd.jupyter.widget-view+json": {
       "model_id": "5889023180b34a76b541c9d9677fd719",
       "version_major": 2,
       "version_minor": 0
      },
      "text/plain": [
       "Loop over pages:   0%|          | 0/120 [00:00<?, ?it/s]"
      ]
     },
     "metadata": {},
     "output_type": "display_data"
    },
    {
     "data": {
      "application/vnd.jupyter.widget-view+json": {
       "model_id": "",
       "version_major": 2,
       "version_minor": 0
      },
      "text/plain": [
       "Loop over listings:   0%|          | 0/26 [00:00<?, ?it/s]"
      ]
     },
     "metadata": {},
     "output_type": "display_data"
    },
    {
     "name": "stdout",
     "output_type": "stream",
     "text": [
      "Car Page: 403\n"
     ]
    },
    {
     "data": {
      "application/vnd.jupyter.widget-view+json": {
       "model_id": "",
       "version_major": 2,
       "version_minor": 0
      },
      "text/plain": [
       "Loop over listings:   0%|          | 0/26 [00:00<?, ?it/s]"
      ]
     },
     "metadata": {},
     "output_type": "display_data"
    },
    {
     "data": {
      "application/vnd.jupyter.widget-view+json": {
       "model_id": "",
       "version_major": 2,
       "version_minor": 0
      },
      "text/plain": [
       "Loop over listings:   0%|          | 0/26 [00:00<?, ?it/s]"
      ]
     },
     "metadata": {},
     "output_type": "display_data"
    },
    {
     "data": {
      "application/vnd.jupyter.widget-view+json": {
       "model_id": "",
       "version_major": 2,
       "version_minor": 0
      },
      "text/plain": [
       "Loop over listings:   0%|          | 0/26 [00:00<?, ?it/s]"
      ]
     },
     "metadata": {},
     "output_type": "display_data"
    },
    {
     "data": {
      "application/vnd.jupyter.widget-view+json": {
       "model_id": "",
       "version_major": 2,
       "version_minor": 0
      },
      "text/plain": [
       "Loop over listings:   0%|          | 0/26 [00:00<?, ?it/s]"
      ]
     },
     "metadata": {},
     "output_type": "display_data"
    },
    {
     "name": "stdout",
     "output_type": "stream",
     "text": [
      "Car Page: 403\n",
      "Car Page: 403\n"
     ]
    },
    {
     "data": {
      "application/vnd.jupyter.widget-view+json": {
       "model_id": "",
       "version_major": 2,
       "version_minor": 0
      },
      "text/plain": [
       "Loop over listings:   0%|          | 0/26 [00:00<?, ?it/s]"
      ]
     },
     "metadata": {},
     "output_type": "display_data"
    },
    {
     "data": {
      "application/vnd.jupyter.widget-view+json": {
       "model_id": "",
       "version_major": 2,
       "version_minor": 0
      },
      "text/plain": [
       "Loop over listings:   0%|          | 0/26 [00:00<?, ?it/s]"
      ]
     },
     "metadata": {},
     "output_type": "display_data"
    },
    {
     "name": "stdout",
     "output_type": "stream",
     "text": [
      "Car Page: 403\n"
     ]
    },
    {
     "data": {
      "application/vnd.jupyter.widget-view+json": {
       "model_id": "",
       "version_major": 2,
       "version_minor": 0
      },
      "text/plain": [
       "Loop over listings:   0%|          | 0/26 [00:00<?, ?it/s]"
      ]
     },
     "metadata": {},
     "output_type": "display_data"
    },
    {
     "data": {
      "application/vnd.jupyter.widget-view+json": {
       "model_id": "",
       "version_major": 2,
       "version_minor": 0
      },
      "text/plain": [
       "Loop over listings:   0%|          | 0/26 [00:00<?, ?it/s]"
      ]
     },
     "metadata": {},
     "output_type": "display_data"
    },
    {
     "data": {
      "application/vnd.jupyter.widget-view+json": {
       "model_id": "",
       "version_major": 2,
       "version_minor": 0
      },
      "text/plain": [
       "Loop over listings:   0%|          | 0/26 [00:00<?, ?it/s]"
      ]
     },
     "metadata": {},
     "output_type": "display_data"
    },
    {
     "data": {
      "application/vnd.jupyter.widget-view+json": {
       "model_id": "",
       "version_major": 2,
       "version_minor": 0
      },
      "text/plain": [
       "Loop over listings:   0%|          | 0/26 [00:00<?, ?it/s]"
      ]
     },
     "metadata": {},
     "output_type": "display_data"
    },
    {
     "data": {
      "application/vnd.jupyter.widget-view+json": {
       "model_id": "",
       "version_major": 2,
       "version_minor": 0
      },
      "text/plain": [
       "Loop over listings:   0%|          | 0/26 [00:00<?, ?it/s]"
      ]
     },
     "metadata": {},
     "output_type": "display_data"
    },
    {
     "data": {
      "application/vnd.jupyter.widget-view+json": {
       "model_id": "",
       "version_major": 2,
       "version_minor": 0
      },
      "text/plain": [
       "Loop over listings:   0%|          | 0/26 [00:00<?, ?it/s]"
      ]
     },
     "metadata": {},
     "output_type": "display_data"
    },
    {
     "name": "stdout",
     "output_type": "stream",
     "text": [
      "Car Page: 403\n"
     ]
    },
    {
     "data": {
      "application/vnd.jupyter.widget-view+json": {
       "model_id": "",
       "version_major": 2,
       "version_minor": 0
      },
      "text/plain": [
       "Loop over listings:   0%|          | 0/26 [00:00<?, ?it/s]"
      ]
     },
     "metadata": {},
     "output_type": "display_data"
    },
    {
     "data": {
      "application/vnd.jupyter.widget-view+json": {
       "model_id": "",
       "version_major": 2,
       "version_minor": 0
      },
      "text/plain": [
       "Loop over listings:   0%|          | 0/26 [00:00<?, ?it/s]"
      ]
     },
     "metadata": {},
     "output_type": "display_data"
    },
    {
     "name": "stdout",
     "output_type": "stream",
     "text": [
      "Car Page: 403\n",
      "Car Page: 403\n"
     ]
    },
    {
     "data": {
      "application/vnd.jupyter.widget-view+json": {
       "model_id": "",
       "version_major": 2,
       "version_minor": 0
      },
      "text/plain": [
       "Loop over listings:   0%|          | 0/26 [00:00<?, ?it/s]"
      ]
     },
     "metadata": {},
     "output_type": "display_data"
    },
    {
     "data": {
      "application/vnd.jupyter.widget-view+json": {
       "model_id": "",
       "version_major": 2,
       "version_minor": 0
      },
      "text/plain": [
       "Loop over listings:   0%|          | 0/26 [00:00<?, ?it/s]"
      ]
     },
     "metadata": {},
     "output_type": "display_data"
    },
    {
     "data": {
      "application/vnd.jupyter.widget-view+json": {
       "model_id": "5c3d63381dee44deb235e2db651f8c3d",
       "version_major": 2,
       "version_minor": 0
      },
      "text/plain": [
       "Loop over listings:   0%|          | 0/26 [00:00<?, ?it/s]"
      ]
     },
     "metadata": {},
     "output_type": "display_data"
    },
    {
     "name": "stdout",
     "output_type": "stream",
     "text": [
      "Car Page: 429\n"
     ]
    },
    {
     "data": {
      "application/vnd.jupyter.widget-view+json": {
       "model_id": "1c732fc5fb1c4c2aae3f766ac7036764",
       "version_major": 2,
       "version_minor": 0
      },
      "text/plain": [
       "Loop over listings:   0%|          | 0/26 [00:00<?, ?it/s]"
      ]
     },
     "metadata": {},
     "output_type": "display_data"
    },
    {
     "name": "stdout",
     "output_type": "stream",
     "text": [
      "Car Page: 429\n"
     ]
    },
    {
     "data": {
      "application/vnd.jupyter.widget-view+json": {
       "model_id": "328ddb7fc5da4e64aa573801c5fdae2c",
       "version_major": 2,
       "version_minor": 0
      },
      "text/plain": [
       "Loop over listings:   0%|          | 0/26 [00:00<?, ?it/s]"
      ]
     },
     "metadata": {},
     "output_type": "display_data"
    },
    {
     "name": "stdout",
     "output_type": "stream",
     "text": [
      "Car Page: 429\n"
     ]
    },
    {
     "data": {
      "application/vnd.jupyter.widget-view+json": {
       "model_id": "d0b2e170b85b41bab866f6ac47a34eee",
       "version_major": 2,
       "version_minor": 0
      },
      "text/plain": [
       "Loop over listings:   0%|          | 0/26 [00:00<?, ?it/s]"
      ]
     },
     "metadata": {},
     "output_type": "display_data"
    },
    {
     "name": "stdout",
     "output_type": "stream",
     "text": [
      "Car Page: 429\n"
     ]
    },
    {
     "data": {
      "application/vnd.jupyter.widget-view+json": {
       "model_id": "f442efd13c774be983b0c01fa34bfeb2",
       "version_major": 2,
       "version_minor": 0
      },
      "text/plain": [
       "Loop over listings:   0%|          | 0/25 [00:00<?, ?it/s]"
      ]
     },
     "metadata": {},
     "output_type": "display_data"
    },
    {
     "name": "stdout",
     "output_type": "stream",
     "text": [
      "Car Page: 429\n"
     ]
    },
    {
     "data": {
      "application/vnd.jupyter.widget-view+json": {
       "model_id": "f738089dd4ea489e81ff729c6dafeaaf",
       "version_major": 2,
       "version_minor": 0
      },
      "text/plain": [
       "Loop over listings:   0%|          | 0/26 [00:00<?, ?it/s]"
      ]
     },
     "metadata": {},
     "output_type": "display_data"
    },
    {
     "name": "stdout",
     "output_type": "stream",
     "text": [
      "Car Page: 429\n"
     ]
    },
    {
     "data": {
      "application/vnd.jupyter.widget-view+json": {
       "model_id": "e317cf629a4b48a0b4d6f979f6b19c24",
       "version_major": 2,
       "version_minor": 0
      },
      "text/plain": [
       "Loop over listings:   0%|          | 0/26 [00:00<?, ?it/s]"
      ]
     },
     "metadata": {},
     "output_type": "display_data"
    },
    {
     "name": "stdout",
     "output_type": "stream",
     "text": [
      "Car Page: 429\n"
     ]
    },
    {
     "data": {
      "application/vnd.jupyter.widget-view+json": {
       "model_id": "c96fce66bea24811bdc5a26541e0c05d",
       "version_major": 2,
       "version_minor": 0
      },
      "text/plain": [
       "Loop over listings:   0%|          | 0/25 [00:00<?, ?it/s]"
      ]
     },
     "metadata": {},
     "output_type": "display_data"
    },
    {
     "name": "stdout",
     "output_type": "stream",
     "text": [
      "Car Page: 429\n"
     ]
    },
    {
     "data": {
      "application/vnd.jupyter.widget-view+json": {
       "model_id": "e256e164dc764b36a647ac57e6ada20f",
       "version_major": 2,
       "version_minor": 0
      },
      "text/plain": [
       "Loop over listings:   0%|          | 0/26 [00:00<?, ?it/s]"
      ]
     },
     "metadata": {},
     "output_type": "display_data"
    },
    {
     "name": "stdout",
     "output_type": "stream",
     "text": [
      "Car Page: 429\n"
     ]
    },
    {
     "data": {
      "application/vnd.jupyter.widget-view+json": {
       "model_id": "5f966921080740a1854325e08d92aeaa",
       "version_major": 2,
       "version_minor": 0
      },
      "text/plain": [
       "Loop over listings:   0%|          | 0/26 [00:00<?, ?it/s]"
      ]
     },
     "metadata": {},
     "output_type": "display_data"
    },
    {
     "name": "stdout",
     "output_type": "stream",
     "text": [
      "Car Page: 429\n"
     ]
    },
    {
     "data": {
      "application/vnd.jupyter.widget-view+json": {
       "model_id": "d714d9469af24eebaf4fe487cbcbfe53",
       "version_major": 2,
       "version_minor": 0
      },
      "text/plain": [
       "Loop over listings:   0%|          | 0/25 [00:00<?, ?it/s]"
      ]
     },
     "metadata": {},
     "output_type": "display_data"
    },
    {
     "name": "stdout",
     "output_type": "stream",
     "text": [
      "Car Page: 429\n"
     ]
    },
    {
     "data": {
      "application/vnd.jupyter.widget-view+json": {
       "model_id": "10f0f089be39486b844d7a784fbb9e3a",
       "version_major": 2,
       "version_minor": 0
      },
      "text/plain": [
       "Loop over listings:   0%|          | 0/26 [00:00<?, ?it/s]"
      ]
     },
     "metadata": {},
     "output_type": "display_data"
    },
    {
     "name": "stdout",
     "output_type": "stream",
     "text": [
      "Car Page: 429\n"
     ]
    },
    {
     "data": {
      "application/vnd.jupyter.widget-view+json": {
       "model_id": "b6a2dbf801fe4b6e93773927a7209174",
       "version_major": 2,
       "version_minor": 0
      },
      "text/plain": [
       "Loop over listings:   0%|          | 0/26 [00:00<?, ?it/s]"
      ]
     },
     "metadata": {},
     "output_type": "display_data"
    },
    {
     "name": "stdout",
     "output_type": "stream",
     "text": [
      "Car Page: 429\n"
     ]
    },
    {
     "data": {
      "application/vnd.jupyter.widget-view+json": {
       "model_id": "b32e49d7427e4cebba1c95ab8d5ac206",
       "version_major": 2,
       "version_minor": 0
      },
      "text/plain": [
       "Loop over listings:   0%|          | 0/26 [00:00<?, ?it/s]"
      ]
     },
     "metadata": {},
     "output_type": "display_data"
    },
    {
     "name": "stdout",
     "output_type": "stream",
     "text": [
      "Car Page: 429\n"
     ]
    },
    {
     "ename": "KeyboardInterrupt",
     "evalue": "",
     "output_type": "error",
     "traceback": [
      "\u001b[1;31m---------------------------------------------------------------------------\u001b[0m",
      "\u001b[1;31mKeyboardInterrupt\u001b[0m                         Traceback (most recent call last)",
      "Cell \u001b[1;32mIn[11], line 73\u001b[0m\n\u001b[0;32m     71\u001b[0m     time\u001b[38;5;241m.\u001b[39msleep(random\u001b[38;5;241m.\u001b[39muniform(\u001b[38;5;241m7\u001b[39m, \u001b[38;5;241m14\u001b[39m))\n\u001b[0;32m     72\u001b[0m \u001b[38;5;66;03m# Waiting time before changing listings page \u001b[39;00m\n\u001b[1;32m---> 73\u001b[0m \u001b[43mtime\u001b[49m\u001b[38;5;241;43m.\u001b[39;49m\u001b[43msleep\u001b[49m\u001b[43m(\u001b[49m\u001b[43mrandom\u001b[49m\u001b[38;5;241;43m.\u001b[39;49m\u001b[43muniform\u001b[49m\u001b[43m(\u001b[49m\u001b[38;5;241;43m50\u001b[39;49m\u001b[43m,\u001b[49m\u001b[43m \u001b[49m\u001b[38;5;241;43m70\u001b[39;49m\u001b[43m)\u001b[49m\u001b[43m)\u001b[49m\n",
      "\u001b[1;31mKeyboardInterrupt\u001b[0m: "
     ]
    }
   ],
   "source": [
    "for i in trange(120, desc = 'Loop over pages'):\n",
    "    \n",
    "    website = 'https://www.car.gr/classifieds/cars/?fs=1&fuel_type=1&fuel_type=2&lang=en&pg=' + str(i+25)\n",
    "    response = requests.get(website)\n",
    "    try:\n",
    "        assert response.status_code == 200, print(f'Listings Page: {response.status_code}')\n",
    "    except:\n",
    "        time.sleep(random.uniform(20, 40))\n",
    "        continue\n",
    "    soup = BeautifulSoup(response.content, 'html.parser')\n",
    "    results = soup.find_all('li', {'class':''})\n",
    "\n",
    "    for j in trange(len(results), desc = 'Loop over listings', leave=False):\n",
    "        \n",
    "        # listing title\n",
    "        title = results[j].find('h2', {'class': 'title'}).get_text()\n",
    "        title = title.split('\\n')[1]\n",
    "        # price\n",
    "        try:\n",
    "            price = results[j].find('div', {'class': 'price-tag current-price'}).get_text()\n",
    "            price = ''.join(re.split(r'\\W', price)[1:3])\n",
    "        except:\n",
    "            # Ask price case\n",
    "            price = 'Ask price'\n",
    "        # location\n",
    "        info = results[j].find_all('span', {'class': ''})[3]\n",
    "        location = info.get_text()\n",
    "        \n",
    "\n",
    "        car_page = 'https://www.car.gr' + results[j].find('a', {'class': 'row-anchor'})['href'] + '?lang=en'\n",
    "        car_response = requests.get(car_page,\n",
    "                                    headers = {'User-Agent':UserAgent().random})\n",
    "        time.sleep(5)\n",
    "        try:\n",
    "            assert car_response.status_code == 200, print(f'Car Page: {car_response.status_code}')\n",
    "        except:\n",
    "            time.sleep(random.uniform(25, 45))\n",
    "            if car_response.status_code == 429:\n",
    "                break\n",
    "            else:\n",
    "                continue\n",
    "\n",
    "        soup = BeautifulSoup(car_response.content, 'html.parser')\n",
    "        car_results = soup.find_all('div', {'class': 'tw-p-4', \n",
    "                                            'class': 'tw-relative tw-w-full tw-flex tw-col-span-3 lg:tw-col-span-3 sm:tw-col-span-4 md:tw-col-span-4'})\n",
    "        if len(car_results) != 0:\n",
    "            registration = car_results[0].get_text().split('        ')[5]\n",
    "            km = car_results[1].get_text().split('        ')[5]\n",
    "            fuel = car_results[2].get_text().split('        ')[5]\n",
    "            if 'Petrol' in fuel or 'Diesel' in fuel:\n",
    "                try:\n",
    "                    displacement = car_results[3].get_text().split('        ')[5]\n",
    "                    hp = car_results[4].get_text().split('        ')[5]\n",
    "                    transmission = car_results[6].get_text().split('        ')[5]\n",
    "                    category = car_results[7].get_text().split('        ')[5]\n",
    "\n",
    "                    car_dict['title'].append(title)\n",
    "                    car_dict['price'].append(price)\n",
    "                    car_dict['registration'].append(registration)\n",
    "                    car_dict['km'].append(km)\n",
    "                    car_dict['displacement'].append(displacement)\n",
    "                    car_dict['hp'].append(hp)\n",
    "                    car_dict['fuel'].append(fuel)\n",
    "                    car_dict['transmission'].append(transmission)\n",
    "                    car_dict['category'].append(category)\n",
    "                    car_dict['location'].append(location)\n",
    "                    car_dict['link'].append(car_page)\n",
    "                except:\n",
    "                    continue\n",
    "        # Waiting time before changing car page \n",
    "        time.sleep(random.uniform(7, 14))\n",
    "    # Waiting time before changing listings page \n",
    "    time.sleep(random.uniform(50, 70))"
   ]
  },
  {
   "cell_type": "code",
   "execution_count": 12,
   "id": "2536b0ec",
   "metadata": {},
   "outputs": [
    {
     "data": {
      "text/plain": [
       "(370, 11)"
      ]
     },
     "execution_count": 12,
     "metadata": {},
     "output_type": "execute_result"
    }
   ],
   "source": [
    "df = pd.DataFrame(car_dict).iloc[1:, :]\n",
    "df.shape"
   ]
  },
  {
   "cell_type": "code",
   "execution_count": 17,
   "id": "d81257b0",
   "metadata": {},
   "outputs": [],
   "source": [
    "# transform data to 'agree' with the previous ones\n",
    "for i in range(len(df)):\n",
    "    df['registration'].values[i] = ''.join(df['registration'].values[i].split(' '))\n",
    "    df['category'].values[i] = ''.join(df['category'].values[i].split(' '))\n",
    "    df['location'].values[i] = ' '.join(df['location'].values[i].split(' ')[1:])"
   ]
  },
  {
   "cell_type": "code",
   "execution_count": 13,
   "id": "926bf10c",
   "metadata": {},
   "outputs": [],
   "source": [
    "df = pd.DataFrame(car_dict).iloc[1:, :]\n",
    "for i in range(1,100):\n",
    "    file = f'listings_{i}.csv'\n",
    "    if not os.path.isfile(file):\n",
    "        df.to_csv(file)\n",
    "        break"
   ]
  },
  {
   "cell_type": "code",
   "execution_count": 23,
   "id": "49774999",
   "metadata": {},
   "outputs": [],
   "source": [
    "dfs = []\n",
    "for i in range(1, 100):\n",
    "    file = f'listings_{i}.csv'\n",
    "    try:\n",
    "        df = pd.read_csv(file, index_col = 0)\n",
    "        dfs.append(df)\n",
    "    except:\n",
    "        break\n",
    "\n",
    "df  = pd.concat(dfs, axis = 0)"
   ]
  },
  {
   "cell_type": "code",
   "execution_count": 24,
   "id": "b05f2035",
   "metadata": {},
   "outputs": [
    {
     "data": {
      "text/plain": [
       "(7424, 11)"
      ]
     },
     "execution_count": 24,
     "metadata": {},
     "output_type": "execute_result"
    }
   ],
   "source": [
    "df.shape"
   ]
  },
  {
   "cell_type": "code",
   "execution_count": 25,
   "id": "d77f0f57",
   "metadata": {},
   "outputs": [
    {
     "data": {
      "text/plain": [
       "(5625, 11)"
      ]
     },
     "execution_count": 25,
     "metadata": {},
     "output_type": "execute_result"
    }
   ],
   "source": [
    "df.drop_duplicates(keep = 'last', inplace = True)\n",
    "df.shape"
   ]
  },
  {
   "cell_type": "code",
   "execution_count": 26,
   "id": "cc3cda0b",
   "metadata": {},
   "outputs": [],
   "source": [
    "df['registration'] = [x[:-1] for x in df['registration'].values]\n",
    "df['km'] = [x[:-1] for x in df['km'].values]\n",
    "df['hp'] = [x[:-1] for x in df['hp'].values]\n",
    "df['fuel'] = [x[:-1] for x in df['fuel'].values]\n",
    "df['transmission'] = [x[:-1] for x in df['transmission'].values]\n",
    "df['category'] = [x[:-1] for x in df['category'].values]"
   ]
  },
  {
   "cell_type": "code",
   "execution_count": 29,
   "id": "172d344e",
   "metadata": {
    "scrolled": true
   },
   "outputs": [
    {
     "data": {
      "text/html": [
       "<div>\n",
       "<style scoped>\n",
       "    .dataframe tbody tr th:only-of-type {\n",
       "        vertical-align: middle;\n",
       "    }\n",
       "\n",
       "    .dataframe tbody tr th {\n",
       "        vertical-align: top;\n",
       "    }\n",
       "\n",
       "    .dataframe thead th {\n",
       "        text-align: right;\n",
       "    }\n",
       "</style>\n",
       "<table border=\"1\" class=\"dataframe\">\n",
       "  <thead>\n",
       "    <tr style=\"text-align: right;\">\n",
       "      <th></th>\n",
       "      <th>title</th>\n",
       "      <th>price</th>\n",
       "      <th>registration</th>\n",
       "      <th>km</th>\n",
       "      <th>displacement</th>\n",
       "      <th>hp</th>\n",
       "      <th>fuel</th>\n",
       "      <th>transmission</th>\n",
       "      <th>category</th>\n",
       "      <th>location</th>\n",
       "      <th>link</th>\n",
       "    </tr>\n",
       "  </thead>\n",
       "  <tbody>\n",
       "    <tr>\n",
       "      <th>366</th>\n",
       "      <td>Hyundai i 20 '18 1.1 DIESEL</td>\n",
       "      <td>11800</td>\n",
       "      <td>08/2017</td>\n",
       "      <td>101.000 km</td>\n",
       "      <td>1.100 cc\\n</td>\n",
       "      <td>75 bhp</td>\n",
       "      <td>Diesel</td>\n",
       "      <td>Manual</td>\n",
       "      <td>Compact/Hatchback</td>\n",
       "      <td>NaN</td>\n",
       "      <td>https://www.car.gr/classifieds/cars/view/33105...</td>\n",
       "    </tr>\n",
       "    <tr>\n",
       "      <th>367</th>\n",
       "      <td>Renault Clio '17 ΑΥΤΟΜΑΤΟ EURO_6 ΟΘΟΝΗ 90HP ...</td>\n",
       "      <td>12890</td>\n",
       "      <td>03/2018</td>\n",
       "      <td>149.800 km</td>\n",
       "      <td>1.461 cc\\n</td>\n",
       "      <td>90 bhp</td>\n",
       "      <td>Diesel</td>\n",
       "      <td>Automatic</td>\n",
       "      <td>Other</td>\n",
       "      <td>NaN</td>\n",
       "      <td>https://www.car.gr/classifieds/cars/view/32747...</td>\n",
       "    </tr>\n",
       "    <tr>\n",
       "      <th>368</th>\n",
       "      <td>Toyota Yaris '18 1.4 DIESEL</td>\n",
       "      <td>12900</td>\n",
       "      <td>08/2009</td>\n",
       "      <td>117.000 km</td>\n",
       "      <td>1.400 cc\\n</td>\n",
       "      <td>90 bhp</td>\n",
       "      <td>Diesel</td>\n",
       "      <td>Manual</td>\n",
       "      <td>Other</td>\n",
       "      <td>NaN</td>\n",
       "      <td>https://www.car.gr/classifieds/cars/view/33024...</td>\n",
       "    </tr>\n",
       "    <tr>\n",
       "      <th>369</th>\n",
       "      <td>Mercedes-Benz C 180 '09  Compressor BlueEFFI...</td>\n",
       "      <td>12300</td>\n",
       "      <td>02/2018</td>\n",
       "      <td>140.000 km</td>\n",
       "      <td>1.600 cc\\n</td>\n",
       "      <td>156 bhp</td>\n",
       "      <td>Petrol</td>\n",
       "      <td>Manual</td>\n",
       "      <td>4x4/Jeep/Suv</td>\n",
       "      <td>NaN</td>\n",
       "      <td>https://www.car.gr/classifieds/cars/view/33101...</td>\n",
       "    </tr>\n",
       "    <tr>\n",
       "      <th>370</th>\n",
       "      <td>Audi Q2 '18  1.6 TDI</td>\n",
       "      <td>20500</td>\n",
       "      <td>02/2018</td>\n",
       "      <td>113.000 km</td>\n",
       "      <td>1.600 cc\\n</td>\n",
       "      <td>115 bhp</td>\n",
       "      <td>Diesel</td>\n",
       "      <td>Manual</td>\n",
       "      <td>4x4/Jeep/Suv</td>\n",
       "      <td>NaN</td>\n",
       "      <td>https://www.car.gr/classifieds/cars/view/33167...</td>\n",
       "    </tr>\n",
       "  </tbody>\n",
       "</table>\n",
       "</div>"
      ],
      "text/plain": [
       "                                                 title  price registration  \\\n",
       "366                        Hyundai i 20 '18 1.1 DIESEL  11800      08/2017   \n",
       "367    Renault Clio '17 ΑΥΤΟΜΑΤΟ EURO_6 ΟΘΟΝΗ 90HP ...  12890      03/2018   \n",
       "368                        Toyota Yaris '18 1.4 DIESEL  12900      08/2009   \n",
       "369    Mercedes-Benz C 180 '09  Compressor BlueEFFI...  12300      02/2018   \n",
       "370                               Audi Q2 '18  1.6 TDI  20500      02/2018   \n",
       "\n",
       "             km displacement       hp    fuel transmission           category  \\\n",
       "366  101.000 km   1.100 cc\\n   75 bhp  Diesel       Manual  Compact/Hatchback   \n",
       "367  149.800 km   1.461 cc\\n   90 bhp  Diesel    Automatic              Other   \n",
       "368  117.000 km   1.400 cc\\n   90 bhp  Diesel       Manual              Other   \n",
       "369  140.000 km   1.600 cc\\n  156 bhp  Petrol       Manual       4x4/Jeep/Suv   \n",
       "370  113.000 km   1.600 cc\\n  115 bhp  Diesel       Manual       4x4/Jeep/Suv   \n",
       "\n",
       "    location                                               link  \n",
       "366      NaN  https://www.car.gr/classifieds/cars/view/33105...  \n",
       "367      NaN  https://www.car.gr/classifieds/cars/view/32747...  \n",
       "368      NaN  https://www.car.gr/classifieds/cars/view/33024...  \n",
       "369      NaN  https://www.car.gr/classifieds/cars/view/33101...  \n",
       "370      NaN  https://www.car.gr/classifieds/cars/view/33167...  "
      ]
     },
     "execution_count": 29,
     "metadata": {},
     "output_type": "execute_result"
    }
   ],
   "source": [
    "df.tail()"
   ]
  },
  {
   "cell_type": "code",
   "execution_count": 34,
   "id": "b6806d6f",
   "metadata": {},
   "outputs": [
    {
     "data": {
      "text/plain": [
       "array(['Manual', 'Automatic', 'Semi-automatic', 'Other',\n",
       "       'Compact/Hatchback', 'Coupe-Sport', '4x4/Jeep/Suv',\n",
       "       'Commercial Passenger', 'Crew Cab/Pickup', 'Van/Mini Bus',\n",
       "       'Limousine/Sedan', 'Combi/Caravan', 'Convertible/Roadster',\n",
       "       'Race Car', 'Van/MiniBus', 'CrewCab/Pickup', 'CommercialPassenger',\n",
       "       'RaceCar'], dtype=object)"
      ]
     },
     "execution_count": 34,
     "metadata": {},
     "output_type": "execute_result"
    }
   ],
   "source": [
    "df['category'].unique()"
   ]
  },
  {
   "cell_type": "code",
   "execution_count": 35,
   "id": "3d566986",
   "metadata": {},
   "outputs": [],
   "source": [
    "# fixing some categories to agree with each other\n",
    "semi_auto_index = df[df['transmission'] == 'Semi-automatic'].index\n",
    "df.loc[semi_auto_index, ['transmission']] = 'Automatic'\n",
    "\n",
    "comm_pass_index = df[df['category'] == 'CommercialPassenger'].index\n",
    "df.loc[comm_pass_index, ['category']] = 'Commercial Passenger'\n",
    "\n",
    "van_index = df[df['category'] == 'Van/MiniBus'].index\n",
    "df.loc[van_index, ['category']] = 'Van/Mini Bus'\n",
    "\n",
    "crew_cab_index = df[df['category'] == 'CrewCab/Pickup'].index\n",
    "df.loc[crew_cab_index, ['category']] = 'Crew Cab/Pickup'\n",
    "\n",
    "race_car_index = df[df['category'] == 'RaceCar'].index\n",
    "df.loc[race_car_index, ['category']] = 'Race Car'"
   ]
  },
  {
   "cell_type": "code",
   "execution_count": 36,
   "id": "e5baec27",
   "metadata": {},
   "outputs": [
    {
     "data": {
      "text/plain": [
       "category\n",
       "4x4/Jeep/Suv             722\n",
       "Automatic                271\n",
       "Combi/Caravan            173\n",
       "Commercial Passenger     310\n",
       "Compact/Hatchback       1413\n",
       "Convertible/Roadster     132\n",
       "Coupe-Sport              460\n",
       "Crew Cab/Pickup          159\n",
       "Limousine/Sedan          420\n",
       "Manual                   921\n",
       "Other                    234\n",
       "Race Car                  39\n",
       "Semi-automatic            10\n",
       "Van/Mini Bus             361\n",
       "dtype: int64"
      ]
     },
     "execution_count": 36,
     "metadata": {},
     "output_type": "execute_result"
    }
   ],
   "source": [
    "df.groupby(['category']).size()"
   ]
  },
  {
   "cell_type": "code",
   "execution_count": 37,
   "id": "70e31c9c",
   "metadata": {},
   "outputs": [
    {
     "data": {
      "image/png": "[encoded data removed]",
      "text/plain": [
       "<Figure size 640x480 with 1 Axes>"
      ]
     },
     "metadata": {},
     "output_type": "display_data"
    },
    {
     "data": {
      "text/plain": [
       "<Figure size 1000x1500 with 0 Axes>"
      ]
     },
     "metadata": {},
     "output_type": "display_data"
    }
   ],
   "source": [
    "import matplotlib.pyplot as plt\n",
    "\n",
    "plt.bar(df.groupby(['category']).size().index, df.groupby(['category']).size().values)\n",
    "for i in range(len(df.groupby(['category']).size().index)):\n",
    "    plt.text(i, df.groupby(['category']).size().values[i] + 10, df.groupby(['category']).size().values[i], ha = 'center')\n",
    "plt.xlabel('Category')\n",
    "plt.ylabel('Occurencies')\n",
    "plt.xticks(rotation = 90)\n",
    "plt.figure(figsize=(10,15))\n",
    "plt.tight_layout();"
   ]
  },
  {
   "cell_type": "code",
   "execution_count": null,
   "id": "5d2bceb3",
   "metadata": {},
   "outputs": [],
   "source": []
  }
 ],
 "metadata": {
  "kernelspec": {
   "display_name": "Python 3 (ipykernel)",
   "language": "python",
   "name": "python3"
  },
  "language_info": {
   "codemirror_mode": {
    "name": "ipython",
    "version": 3
   },
   "file_extension": ".py",
   "mimetype": "text/x-python",
   "name": "python",
   "nbconvert_exporter": "python",
   "pygments_lexer": "ipython3",
   "version": "3.9.16"
  }
 },
 "nbformat": 4,
 "nbformat_minor": 5
}
