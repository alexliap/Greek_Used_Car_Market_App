{
 "cells": [
  {
   "cell_type": "code",
   "execution_count": 1,
   "id": "10a856ae",
   "metadata": {},
   "outputs": [],
   "source": [
    "from bs4 import BeautifulSoup\n",
    "import pandas as pd\n",
    "import requests\n",
    "import re\n",
    "import time\n",
    "from tqdm.auto import trange\n",
    "import random\n",
    "from fake_useragent import UserAgent\n",
    "import os"
   ]
  },
  {
   "cell_type": "code",
   "execution_count": 2,
   "id": "d92eae0e",
   "metadata": {},
   "outputs": [],
   "source": [
    "# website = 'https://www.car.gr/classifieds/cars/?fs=1&fuel_type=1&fuel_type=2&lang=en&pg=' + str(1)\n",
    "# response = requests.get(website)\n",
    "# soup = BeautifulSoup(response.content, 'html.parser')\n",
    "# results = soup.find_all('li', {'class':''})\n",
    "# car_page = 'https://www.car.gr' + results[0].find('a', {'class': 'row-anchor'})['href'] + '?lang=en'\n",
    "# car_response = requests.get(car_page, headers = {'User-Agent':UserAgent().random})\n",
    "# soup = BeautifulSoup(car_response.content, 'html.parser')"
   ]
  },
  {
   "cell_type": "code",
   "execution_count": 3,
   "id": "26d603b7",
   "metadata": {},
   "outputs": [],
   "source": [
    "# a = soup.find('div', {'class': 'tw-bg-white tw-rounded tw-shadow-sm tw-my-2 !tw-mt-0', \n",
    "#                       'class': 'tw-line-clamp-2 tw-text-ellipsis classified-title-container'})\n",
    "# a.find('h1', {'class': 'tw-text-2xl tw-mb-0 classified-title tw-mt-2 tw-block'}).get_text().split('    ')"
   ]
  },
  {
   "cell_type": "markdown",
   "id": "34fb4ebd",
   "metadata": {},
   "source": [
    "- ### Extract whole page"
   ]
  },
  {
   "cell_type": "code",
   "execution_count": 4,
   "id": "8417ccc7",
   "metadata": {},
   "outputs": [],
   "source": [
    "car_dict = dict({'title': [],\n",
    "                 'price': [],\n",
    "                 'registration': [],\n",
    "                 'km': [],\n",
    "                 'displacement': [],\n",
    "                 'hp': [],\n",
    "                 'fuel': [],\n",
    "                 'transmission': [],\n",
    "                 'category': [],\n",
    "                 'location': [],\n",
    "                 'link': []})"
   ]
  },
  {
   "cell_type": "code",
   "execution_count": null,
   "id": "56a2f685",
   "metadata": {
    "scrolled": true
   },
   "outputs": [
    {
     "data": {
      "application/vnd.jupyter.widget-view+json": {
       "model_id": "fb0b33d55b05465bae53da769e274c2f",
       "version_major": 2,
       "version_minor": 0
      },
      "text/plain": [
       "Loop over pages:   0%|          | 0/120 [00:00<?, ?it/s]"
      ]
     },
     "metadata": {},
     "output_type": "display_data"
    },
    {
     "data": {
      "application/vnd.jupyter.widget-view+json": {
       "model_id": "",
       "version_major": 2,
       "version_minor": 0
      },
      "text/plain": [
       "Loop over listings:   0%|          | 0/26 [00:00<?, ?it/s]"
      ]
     },
     "metadata": {},
     "output_type": "display_data"
    },
    {
     "name": "stdout",
     "output_type": "stream",
     "text": [
      "Car Page: 403\n"
     ]
    },
    {
     "data": {
      "application/vnd.jupyter.widget-view+json": {
       "model_id": "",
       "version_major": 2,
       "version_minor": 0
      },
      "text/plain": [
       "Loop over listings:   0%|          | 0/26 [00:00<?, ?it/s]"
      ]
     },
     "metadata": {},
     "output_type": "display_data"
    },
    {
     "name": "stdout",
     "output_type": "stream",
     "text": [
      "Car Page: 403\n"
     ]
    },
    {
     "data": {
      "application/vnd.jupyter.widget-view+json": {
       "model_id": "05533a03fe804053a3cdbe02e203f325",
       "version_major": 2,
       "version_minor": 0
      },
      "text/plain": [
       "Loop over listings:   0%|          | 0/26 [00:00<?, ?it/s]"
      ]
     },
     "metadata": {},
     "output_type": "display_data"
    }
   ],
   "source": [
    "for i in trange(120, desc = 'Loop over pages'):\n",
    "    \n",
    "    website = 'https://www.car.gr/classifieds/cars/?fs=1&fuel_type=1&fuel_type=2&lang=en&pg=' + str(i)\n",
    "    response = requests.get(website)\n",
    "    try:\n",
    "        assert response.status_code == 200, print(f'Listings Page: {response.status_code}')\n",
    "    except:\n",
    "        time.sleep(random.uniform(20, 40))\n",
    "        continue\n",
    "    soup = BeautifulSoup(response.content, 'html.parser')\n",
    "    results = soup.find_all('li', {'class':''})\n",
    "\n",
    "    for j in trange(len(results), desc = 'Loop over listings', leave=False):\n",
    "        \n",
    "        # listing title\n",
    "        title = results[j].find('h2', {'class': 'title'}).get_text()\n",
    "        title = title.split('\\n')[1]\n",
    "        # price\n",
    "        try:\n",
    "            price = results[j].find('div', {'class': 'price-tag current-price'}).get_text()\n",
    "            price = ''.join(re.split(r'\\W', price)[1:3])\n",
    "        except:\n",
    "            # Ask price case\n",
    "            price = 'Ask price'\n",
    "        # location\n",
    "        info = results[j].find_all('span', {'class': ''})[3]\n",
    "        location = info.get_text()\n",
    "        \n",
    "\n",
    "        car_page = 'https://www.car.gr' + results[j].find('a', {'class': 'row-anchor'})['href'] + '?lang=en'\n",
    "        car_response = requests.get(car_page,\n",
    "                                    headers = {'User-Agent':UserAgent().random})\n",
    "        time.sleep(5)\n",
    "        try:\n",
    "            assert car_response.status_code == 200, print(f'Car Page: {car_response.status_code}')\n",
    "        except:\n",
    "            time.sleep(random.uniform(25, 45))\n",
    "            if car_response.status_code == 429:\n",
    "                break\n",
    "            else:\n",
    "                continue\n",
    "\n",
    "        soup = BeautifulSoup(car_response.content, 'html.parser')\n",
    "        car_results = soup.find_all('div', {'class': 'tw-p-4', \n",
    "                                            'class': 'tw-relative tw-w-full tw-flex tw-col-span-3 lg:tw-col-span-3 sm:tw-col-span-4 md:tw-col-span-4'})\n",
    "        if len(car_results) != 0:\n",
    "            registration = car_results[0].get_text().split('        ')[5]\n",
    "            km = car_results[1].get_text().split('        ')[5]\n",
    "            fuel = car_results[2].get_text().split('        ')[5]\n",
    "            if 'Petrol' in fuel or 'Diesel' in fuel:\n",
    "                try:\n",
    "                    displacement = car_results[3].get_text().split('        ')[5]\n",
    "                    hp = car_results[4].get_text().split('        ')[5]\n",
    "                    transmission = car_results[6].get_text().split('        ')[5]\n",
    "                    category = car_results[7].get_text().split('        ')[5]\n",
    "\n",
    "                    car_dict['title'].append(title)\n",
    "                    car_dict['price'].append(price)\n",
    "                    car_dict['registration'].append(registration)\n",
    "                    car_dict['km'].append(km)\n",
    "                    car_dict['displacement'].append(displacement)\n",
    "                    car_dict['hp'].append(hp)\n",
    "                    car_dict['fuel'].append(fuel)\n",
    "                    car_dict['transmission'].append(transmission)\n",
    "                    car_dict['category'].append(category)\n",
    "                    car_dict['location'].append(location)\n",
    "                    car_dict['link'].append(car_page)\n",
    "                except:\n",
    "                    continue\n",
    "        # Waiting time before changing car page \n",
    "        time.sleep(random.uniform(7, 14))\n",
    "    # Waiting time before changing listings page \n",
    "    time.sleep(random.uniform(50, 70))"
   ]
  },
  {
   "cell_type": "code",
   "execution_count": null,
   "id": "926bf10c",
   "metadata": {},
   "outputs": [],
   "source": [
    "df = pd.DataFrame(car_dict).iloc[1:, :]\n",
    "for i in range(1,100):\n",
    "    file = f'listings_{i}.csv'\n",
    "    if not os.path.isfile(file):\n",
    "        df.to_csv(file)\n",
    "        break"
   ]
  },
  {
   "cell_type": "code",
   "execution_count": null,
   "id": "452b0a8a",
   "metadata": {},
   "outputs": [],
   "source": [
    "df.shape"
   ]
  },
  {
   "cell_type": "code",
   "execution_count": null,
   "id": "49774999",
   "metadata": {},
   "outputs": [],
   "source": [
    "dfs = []\n",
    "for i in range(1, 100):\n",
    "    file = f'listings_{i}.csv'\n",
    "    try:\n",
    "        df = pd.read_csv(file, index_col = 0)\n",
    "        dfs.append(df)\n",
    "    except:\n",
    "        break\n",
    "\n",
    "df  = pd.concat(dfs, axis = 0)"
   ]
  },
  {
   "cell_type": "code",
   "execution_count": null,
   "id": "b05f2035",
   "metadata": {},
   "outputs": [],
   "source": [
    "df.shape"
   ]
  },
  {
   "cell_type": "code",
   "execution_count": null,
   "id": "d77f0f57",
   "metadata": {},
   "outputs": [],
   "source": [
    "df.drop_duplicates(keep = 'last', inplace = True)\n",
    "df.shape"
   ]
  },
  {
   "cell_type": "code",
   "execution_count": null,
   "id": "cc3cda0b",
   "metadata": {},
   "outputs": [],
   "source": [
    "df['registration'] = [x[:-1] for x in df['registration'].values]\n",
    "df['km'] = [x[:-1] for x in df['km'].values]\n",
    "df['hp'] = [x[:-1] for x in df['hp'].values]\n",
    "df['fuel'] = [x[:-1] for x in df['fuel'].values]\n",
    "df['transmission'] = [x[:-1] for x in df['transmission'].values]\n",
    "df['category'] = [x[:-1] for x in df['category'].values]"
   ]
  },
  {
   "cell_type": "code",
   "execution_count": null,
   "id": "172d344e",
   "metadata": {
    "scrolled": true
   },
   "outputs": [],
   "source": [
    "df.tail()"
   ]
  },
  {
   "cell_type": "code",
   "execution_count": null,
   "id": "b6806d6f",
   "metadata": {},
   "outputs": [],
   "source": [
    "df['category'].unique()"
   ]
  },
  {
   "cell_type": "code",
   "execution_count": null,
   "id": "e5baec27",
   "metadata": {},
   "outputs": [],
   "source": [
    "df.groupby(['category']).size()"
   ]
  },
  {
   "cell_type": "code",
   "execution_count": null,
   "id": "70e31c9c",
   "metadata": {},
   "outputs": [],
   "source": [
    "import matplotlib.pyplot as plt\n",
    "\n",
    "plt.bar(df.groupby(['category']).size().index, df.groupby(['category']).size().values)\n",
    "for i in range(len(df.groupby(['category']).size().index)):\n",
    "    plt.text(i, df.groupby(['category']).size().values[i] + 10, df.groupby(['category']).size().values[i], ha = 'center')\n",
    "plt.xlabel('Category')\n",
    "plt.ylabel('Occurencies')\n",
    "plt.xticks(rotation = 90)\n",
    "plt.figure(figsize=(10,15))\n",
    "plt.tight_layout();"
   ]
  },
  {
   "cell_type": "code",
   "execution_count": null,
   "id": "54abed77",
   "metadata": {},
   "outputs": [],
   "source": [
    "# try:\n",
    "#     registration = car_results[2].get_text().split(' ')[-1]\n",
    "# except:\n",
    "#     registration = None\n",
    "# try:\n",
    "#     km = car_results[3].get_text().split(' ')[2]\n",
    "# except:\n",
    "#     km = None\n",
    "# try:\n",
    "#     displacement = car_results[5].get_text().split(' ')[4]\n",
    "# except:\n",
    "#     displacement = None\n",
    "# try:\n",
    "#     hp = car_results[5].get_text().split(' ')[7]\n",
    "# except:\n",
    "#     hp = None\n",
    "# try:\n",
    "#     fuel = car_results[4].get_text().split(' ')[-1]\n",
    "# except:\n",
    "#     fuel = None\n",
    "# try:\n",
    "#     transmission = car_results[6].get_text().split(' ')[-1]\n",
    "# except:\n",
    "#     transmission = None\n",
    "# try:\n",
    "#     category = car_results[7].get_text().split(' ')[-1]\n",
    "# except:\n",
    "#     category = None\n",
    "\n",
    "# info = results[j].find('div', {'class':'d-flex justify-content-between'}).get_text().split('\\n  ')\n",
    "\n",
    "# try:\n",
    "#     location = info[2].split('  ')\n",
    "#     location = location[0].split(' ')[1:]\n",
    "#     location = ' '.join(location)\n",
    "# except:\n",
    "#     location = None"
   ]
  },
  {
   "cell_type": "code",
   "execution_count": null,
   "id": "f2ef61b9",
   "metadata": {},
   "outputs": [],
   "source": []
  }
 ],
 "metadata": {
  "kernelspec": {
   "display_name": "Python 3 (ipykernel)",
   "language": "python",
   "name": "python3"
  },
  "language_info": {
   "codemirror_mode": {
    "name": "ipython",
    "version": 3
   },
   "file_extension": ".py",
   "mimetype": "text/x-python",
   "name": "python",
   "nbconvert_exporter": "python",
   "pygments_lexer": "ipython3",
   "version": "3.9.16"
  }
 },
 "nbformat": 4,
 "nbformat_minor": 5
}
