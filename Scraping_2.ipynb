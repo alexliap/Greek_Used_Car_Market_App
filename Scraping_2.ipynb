{
 "cells": [
  {
   "cell_type": "code",
   "execution_count": 1,
   "id": "10a856ae",
   "metadata": {},
   "outputs": [],
   "source": [
    "from bs4 import BeautifulSoup\n",
    "import pandas as pd\n",
    "import requests\n",
    "import re\n",
    "import time\n",
    "from tqdm.auto import trange\n",
    "import random\n",
    "from fake_useragent import UserAgent\n",
    "import os"
   ]
  },
  {
   "cell_type": "code",
   "execution_count": 2,
   "id": "d92eae0e",
   "metadata": {},
   "outputs": [],
   "source": [
    "# website = 'https://www.car.gr/classifieds/cars/?fs=1&fuel_type=1&fuel_type=2&lang=en&pg=' + str(1)\n",
    "# response = requests.get(website)\n",
    "# soup = BeautifulSoup(response.content, 'html.parser')\n",
    "# results = soup.find_all('li', {'class':''})\n",
    "# car_page = 'https://www.car.gr' + results[0].find('a', {'class': 'row-anchor'})['href'] + '?lang=en'\n",
    "# car_response = requests.get(car_page, headers = {'User-Agent':UserAgent().random})\n",
    "# soup = BeautifulSoup(car_response.content, 'html.parser')"
   ]
  },
  {
   "cell_type": "code",
   "execution_count": 3,
   "id": "26d603b7",
   "metadata": {},
   "outputs": [],
   "source": [
    "# a = soup.find('div', {'class': 'tw-bg-white tw-rounded tw-shadow-sm tw-my-2 !tw-mt-0', \n",
    "#                       'class': 'tw-line-clamp-2 tw-text-ellipsis classified-title-container'})\n",
    "# a.find('h1', {'class': 'tw-text-2xl tw-mb-0 classified-title tw-mt-2 tw-block'}).get_text().split('    ')"
   ]
  },
  {
   "cell_type": "markdown",
   "id": "34fb4ebd",
   "metadata": {},
   "source": [
    "- ### Extract whole page"
   ]
  },
  {
   "cell_type": "code",
   "execution_count": 4,
   "id": "8417ccc7",
   "metadata": {},
   "outputs": [],
   "source": [
    "car_dict = dict({'title': [],\n",
    "                 'price': [],\n",
    "                 'registration': [],\n",
    "                 'km': [],\n",
    "                 'displacement': [],\n",
    "                 'hp': [],\n",
    "                 'fuel': [],\n",
    "                 'transmission': [],\n",
    "                 'category': [],\n",
    "                 'location': [],\n",
    "                 'link': []})"
   ]
  },
  {
   "cell_type": "code",
   "execution_count": 5,
   "id": "56a2f685",
   "metadata": {
    "scrolled": true
   },
   "outputs": [
    {
     "data": {
      "application/vnd.jupyter.widget-view+json": {
       "model_id": "0578535ddd5947929fa017de6d098a6b",
       "version_major": 2,
       "version_minor": 0
      },
      "text/plain": [
       "Loop over pages:   0%|          | 0/120 [00:00<?, ?it/s]"
      ]
     },
     "metadata": {},
     "output_type": "display_data"
    },
    {
     "data": {
      "application/vnd.jupyter.widget-view+json": {
       "model_id": "",
       "version_major": 2,
       "version_minor": 0
      },
      "text/plain": [
       "Loop over listings:   0%|          | 0/26 [00:00<?, ?it/s]"
      ]
     },
     "metadata": {},
     "output_type": "display_data"
    },
    {
     "name": "stdout",
     "output_type": "stream",
     "text": [
      "Car Page: 403\n"
     ]
    },
    {
     "data": {
      "application/vnd.jupyter.widget-view+json": {
       "model_id": "",
       "version_major": 2,
       "version_minor": 0
      },
      "text/plain": [
       "Loop over listings:   0%|          | 0/26 [00:00<?, ?it/s]"
      ]
     },
     "metadata": {},
     "output_type": "display_data"
    },
    {
     "data": {
      "application/vnd.jupyter.widget-view+json": {
       "model_id": "",
       "version_major": 2,
       "version_minor": 0
      },
      "text/plain": [
       "Loop over listings:   0%|          | 0/26 [00:00<?, ?it/s]"
      ]
     },
     "metadata": {},
     "output_type": "display_data"
    },
    {
     "data": {
      "application/vnd.jupyter.widget-view+json": {
       "model_id": "",
       "version_major": 2,
       "version_minor": 0
      },
      "text/plain": [
       "Loop over listings:   0%|          | 0/26 [00:00<?, ?it/s]"
      ]
     },
     "metadata": {},
     "output_type": "display_data"
    },
    {
     "data": {
      "application/vnd.jupyter.widget-view+json": {
       "model_id": "",
       "version_major": 2,
       "version_minor": 0
      },
      "text/plain": [
       "Loop over listings:   0%|          | 0/26 [00:00<?, ?it/s]"
      ]
     },
     "metadata": {},
     "output_type": "display_data"
    },
    {
     "name": "stdout",
     "output_type": "stream",
     "text": [
      "Car Page: 403\n"
     ]
    },
    {
     "data": {
      "application/vnd.jupyter.widget-view+json": {
       "model_id": "",
       "version_major": 2,
       "version_minor": 0
      },
      "text/plain": [
       "Loop over listings:   0%|          | 0/26 [00:00<?, ?it/s]"
      ]
     },
     "metadata": {},
     "output_type": "display_data"
    },
    {
     "data": {
      "application/vnd.jupyter.widget-view+json": {
       "model_id": "",
       "version_major": 2,
       "version_minor": 0
      },
      "text/plain": [
       "Loop over listings:   0%|          | 0/26 [00:00<?, ?it/s]"
      ]
     },
     "metadata": {},
     "output_type": "display_data"
    },
    {
     "name": "stdout",
     "output_type": "stream",
     "text": [
      "Car Page: 403\n"
     ]
    },
    {
     "data": {
      "application/vnd.jupyter.widget-view+json": {
       "model_id": "",
       "version_major": 2,
       "version_minor": 0
      },
      "text/plain": [
       "Loop over listings:   0%|          | 0/26 [00:00<?, ?it/s]"
      ]
     },
     "metadata": {},
     "output_type": "display_data"
    },
    {
     "data": {
      "application/vnd.jupyter.widget-view+json": {
       "model_id": "",
       "version_major": 2,
       "version_minor": 0
      },
      "text/plain": [
       "Loop over listings:   0%|          | 0/26 [00:00<?, ?it/s]"
      ]
     },
     "metadata": {},
     "output_type": "display_data"
    },
    {
     "name": "stdout",
     "output_type": "stream",
     "text": [
      "Car Page: 403\n"
     ]
    },
    {
     "data": {
      "application/vnd.jupyter.widget-view+json": {
       "model_id": "",
       "version_major": 2,
       "version_minor": 0
      },
      "text/plain": [
       "Loop over listings:   0%|          | 0/26 [00:00<?, ?it/s]"
      ]
     },
     "metadata": {},
     "output_type": "display_data"
    },
    {
     "data": {
      "application/vnd.jupyter.widget-view+json": {
       "model_id": "",
       "version_major": 2,
       "version_minor": 0
      },
      "text/plain": [
       "Loop over listings:   0%|          | 0/26 [00:00<?, ?it/s]"
      ]
     },
     "metadata": {},
     "output_type": "display_data"
    },
    {
     "data": {
      "application/vnd.jupyter.widget-view+json": {
       "model_id": "",
       "version_major": 2,
       "version_minor": 0
      },
      "text/plain": [
       "Loop over listings:   0%|          | 0/26 [00:00<?, ?it/s]"
      ]
     },
     "metadata": {},
     "output_type": "display_data"
    },
    {
     "name": "stdout",
     "output_type": "stream",
     "text": [
      "Car Page: 403\n",
      "Car Page: 403\n"
     ]
    },
    {
     "data": {
      "application/vnd.jupyter.widget-view+json": {
       "model_id": "",
       "version_major": 2,
       "version_minor": 0
      },
      "text/plain": [
       "Loop over listings:   0%|          | 0/26 [00:00<?, ?it/s]"
      ]
     },
     "metadata": {},
     "output_type": "display_data"
    },
    {
     "data": {
      "application/vnd.jupyter.widget-view+json": {
       "model_id": "",
       "version_major": 2,
       "version_minor": 0
      },
      "text/plain": [
       "Loop over listings:   0%|          | 0/26 [00:00<?, ?it/s]"
      ]
     },
     "metadata": {},
     "output_type": "display_data"
    },
    {
     "data": {
      "application/vnd.jupyter.widget-view+json": {
       "model_id": "",
       "version_major": 2,
       "version_minor": 0
      },
      "text/plain": [
       "Loop over listings:   0%|          | 0/26 [00:00<?, ?it/s]"
      ]
     },
     "metadata": {},
     "output_type": "display_data"
    },
    {
     "data": {
      "application/vnd.jupyter.widget-view+json": {
       "model_id": "",
       "version_major": 2,
       "version_minor": 0
      },
      "text/plain": [
       "Loop over listings:   0%|          | 0/26 [00:00<?, ?it/s]"
      ]
     },
     "metadata": {},
     "output_type": "display_data"
    },
    {
     "data": {
      "application/vnd.jupyter.widget-view+json": {
       "model_id": "",
       "version_major": 2,
       "version_minor": 0
      },
      "text/plain": [
       "Loop over listings:   0%|          | 0/26 [00:00<?, ?it/s]"
      ]
     },
     "metadata": {},
     "output_type": "display_data"
    },
    {
     "name": "stdout",
     "output_type": "stream",
     "text": [
      "Car Page: 403\n"
     ]
    },
    {
     "data": {
      "application/vnd.jupyter.widget-view+json": {
       "model_id": "",
       "version_major": 2,
       "version_minor": 0
      },
      "text/plain": [
       "Loop over listings:   0%|          | 0/26 [00:00<?, ?it/s]"
      ]
     },
     "metadata": {},
     "output_type": "display_data"
    },
    {
     "data": {
      "application/vnd.jupyter.widget-view+json": {
       "model_id": "",
       "version_major": 2,
       "version_minor": 0
      },
      "text/plain": [
       "Loop over listings:   0%|          | 0/26 [00:00<?, ?it/s]"
      ]
     },
     "metadata": {},
     "output_type": "display_data"
    },
    {
     "name": "stdout",
     "output_type": "stream",
     "text": [
      "Car Page: 403\n",
      "Car Page: 403\n"
     ]
    },
    {
     "data": {
      "application/vnd.jupyter.widget-view+json": {
       "model_id": "",
       "version_major": 2,
       "version_minor": 0
      },
      "text/plain": [
       "Loop over listings:   0%|          | 0/26 [00:00<?, ?it/s]"
      ]
     },
     "metadata": {},
     "output_type": "display_data"
    },
    {
     "data": {
      "application/vnd.jupyter.widget-view+json": {
       "model_id": "",
       "version_major": 2,
       "version_minor": 0
      },
      "text/plain": [
       "Loop over listings:   0%|          | 0/26 [00:00<?, ?it/s]"
      ]
     },
     "metadata": {},
     "output_type": "display_data"
    },
    {
     "name": "stdout",
     "output_type": "stream",
     "text": [
      "Car Page: 403\n"
     ]
    },
    {
     "data": {
      "application/vnd.jupyter.widget-view+json": {
       "model_id": "",
       "version_major": 2,
       "version_minor": 0
      },
      "text/plain": [
       "Loop over listings:   0%|          | 0/26 [00:00<?, ?it/s]"
      ]
     },
     "metadata": {},
     "output_type": "display_data"
    },
    {
     "name": "stdout",
     "output_type": "stream",
     "text": [
      "Car Page: 403\n"
     ]
    },
    {
     "data": {
      "application/vnd.jupyter.widget-view+json": {
       "model_id": "",
       "version_major": 2,
       "version_minor": 0
      },
      "text/plain": [
       "Loop over listings:   0%|          | 0/26 [00:00<?, ?it/s]"
      ]
     },
     "metadata": {},
     "output_type": "display_data"
    },
    {
     "data": {
      "application/vnd.jupyter.widget-view+json": {
       "model_id": "",
       "version_major": 2,
       "version_minor": 0
      },
      "text/plain": [
       "Loop over listings:   0%|          | 0/26 [00:00<?, ?it/s]"
      ]
     },
     "metadata": {},
     "output_type": "display_data"
    },
    {
     "data": {
      "application/vnd.jupyter.widget-view+json": {
       "model_id": "",
       "version_major": 2,
       "version_minor": 0
      },
      "text/plain": [
       "Loop over listings:   0%|          | 0/26 [00:00<?, ?it/s]"
      ]
     },
     "metadata": {},
     "output_type": "display_data"
    },
    {
     "data": {
      "application/vnd.jupyter.widget-view+json": {
       "model_id": "",
       "version_major": 2,
       "version_minor": 0
      },
      "text/plain": [
       "Loop over listings:   0%|          | 0/26 [00:00<?, ?it/s]"
      ]
     },
     "metadata": {},
     "output_type": "display_data"
    },
    {
     "name": "stdout",
     "output_type": "stream",
     "text": [
      "Car Page: 403\n"
     ]
    },
    {
     "data": {
      "application/vnd.jupyter.widget-view+json": {
       "model_id": "",
       "version_major": 2,
       "version_minor": 0
      },
      "text/plain": [
       "Loop over listings:   0%|          | 0/26 [00:00<?, ?it/s]"
      ]
     },
     "metadata": {},
     "output_type": "display_data"
    },
    {
     "name": "stdout",
     "output_type": "stream",
     "text": [
      "Car Page: 403\n",
      "Car Page: 403\n"
     ]
    },
    {
     "data": {
      "application/vnd.jupyter.widget-view+json": {
       "model_id": "",
       "version_major": 2,
       "version_minor": 0
      },
      "text/plain": [
       "Loop over listings:   0%|          | 0/26 [00:00<?, ?it/s]"
      ]
     },
     "metadata": {},
     "output_type": "display_data"
    },
    {
     "data": {
      "application/vnd.jupyter.widget-view+json": {
       "model_id": "",
       "version_major": 2,
       "version_minor": 0
      },
      "text/plain": [
       "Loop over listings:   0%|          | 0/26 [00:00<?, ?it/s]"
      ]
     },
     "metadata": {},
     "output_type": "display_data"
    },
    {
     "name": "stdout",
     "output_type": "stream",
     "text": [
      "Car Page: 403\n"
     ]
    },
    {
     "data": {
      "application/vnd.jupyter.widget-view+json": {
       "model_id": "",
       "version_major": 2,
       "version_minor": 0
      },
      "text/plain": [
       "Loop over listings:   0%|          | 0/26 [00:00<?, ?it/s]"
      ]
     },
     "metadata": {},
     "output_type": "display_data"
    },
    {
     "name": "stdout",
     "output_type": "stream",
     "text": [
      "Car Page: 403\n",
      "Car Page: 403\n"
     ]
    },
    {
     "data": {
      "application/vnd.jupyter.widget-view+json": {
       "model_id": "",
       "version_major": 2,
       "version_minor": 0
      },
      "text/plain": [
       "Loop over listings:   0%|          | 0/26 [00:00<?, ?it/s]"
      ]
     },
     "metadata": {},
     "output_type": "display_data"
    },
    {
     "data": {
      "application/vnd.jupyter.widget-view+json": {
       "model_id": "",
       "version_major": 2,
       "version_minor": 0
      },
      "text/plain": [
       "Loop over listings:   0%|          | 0/26 [00:00<?, ?it/s]"
      ]
     },
     "metadata": {},
     "output_type": "display_data"
    },
    {
     "name": "stdout",
     "output_type": "stream",
     "text": [
      "Car Page: 403\n"
     ]
    },
    {
     "data": {
      "application/vnd.jupyter.widget-view+json": {
       "model_id": "",
       "version_major": 2,
       "version_minor": 0
      },
      "text/plain": [
       "Loop over listings:   0%|          | 0/26 [00:00<?, ?it/s]"
      ]
     },
     "metadata": {},
     "output_type": "display_data"
    },
    {
     "data": {
      "application/vnd.jupyter.widget-view+json": {
       "model_id": "",
       "version_major": 2,
       "version_minor": 0
      },
      "text/plain": [
       "Loop over listings:   0%|          | 0/26 [00:00<?, ?it/s]"
      ]
     },
     "metadata": {},
     "output_type": "display_data"
    },
    {
     "data": {
      "application/vnd.jupyter.widget-view+json": {
       "model_id": "",
       "version_major": 2,
       "version_minor": 0
      },
      "text/plain": [
       "Loop over listings:   0%|          | 0/26 [00:00<?, ?it/s]"
      ]
     },
     "metadata": {},
     "output_type": "display_data"
    },
    {
     "name": "stdout",
     "output_type": "stream",
     "text": [
      "Car Page: 403\n"
     ]
    },
    {
     "data": {
      "application/vnd.jupyter.widget-view+json": {
       "model_id": "",
       "version_major": 2,
       "version_minor": 0
      },
      "text/plain": [
       "Loop over listings:   0%|          | 0/26 [00:00<?, ?it/s]"
      ]
     },
     "metadata": {},
     "output_type": "display_data"
    },
    {
     "data": {
      "application/vnd.jupyter.widget-view+json": {
       "model_id": "",
       "version_major": 2,
       "version_minor": 0
      },
      "text/plain": [
       "Loop over listings:   0%|          | 0/26 [00:00<?, ?it/s]"
      ]
     },
     "metadata": {},
     "output_type": "display_data"
    },
    {
     "data": {
      "application/vnd.jupyter.widget-view+json": {
       "model_id": "",
       "version_major": 2,
       "version_minor": 0
      },
      "text/plain": [
       "Loop over listings:   0%|          | 0/26 [00:00<?, ?it/s]"
      ]
     },
     "metadata": {},
     "output_type": "display_data"
    },
    {
     "data": {
      "application/vnd.jupyter.widget-view+json": {
       "model_id": "",
       "version_major": 2,
       "version_minor": 0
      },
      "text/plain": [
       "Loop over listings:   0%|          | 0/26 [00:00<?, ?it/s]"
      ]
     },
     "metadata": {},
     "output_type": "display_data"
    },
    {
     "name": "stdout",
     "output_type": "stream",
     "text": [
      "Car Page: 403\n"
     ]
    },
    {
     "data": {
      "application/vnd.jupyter.widget-view+json": {
       "model_id": "df1bcde33b85463c8d17eee197f3a18c",
       "version_major": 2,
       "version_minor": 0
      },
      "text/plain": [
       "Loop over listings:   0%|          | 0/26 [00:00<?, ?it/s]"
      ]
     },
     "metadata": {},
     "output_type": "display_data"
    },
    {
     "name": "stdout",
     "output_type": "stream",
     "text": [
      "Car Page: 429\n"
     ]
    },
    {
     "data": {
      "application/vnd.jupyter.widget-view+json": {
       "model_id": "22e4acca76a841ddbc484551ea1c653f",
       "version_major": 2,
       "version_minor": 0
      },
      "text/plain": [
       "Loop over listings:   0%|          | 0/26 [00:00<?, ?it/s]"
      ]
     },
     "metadata": {},
     "output_type": "display_data"
    },
    {
     "name": "stdout",
     "output_type": "stream",
     "text": [
      "Car Page: 429\n"
     ]
    },
    {
     "data": {
      "application/vnd.jupyter.widget-view+json": {
       "model_id": "906307cc6621411eb95fc341265d0ca3",
       "version_major": 2,
       "version_minor": 0
      },
      "text/plain": [
       "Loop over listings:   0%|          | 0/26 [00:00<?, ?it/s]"
      ]
     },
     "metadata": {},
     "output_type": "display_data"
    },
    {
     "name": "stdout",
     "output_type": "stream",
     "text": [
      "Car Page: 429\n"
     ]
    },
    {
     "data": {
      "application/vnd.jupyter.widget-view+json": {
       "model_id": "2ff0375dd98a4baeafb866f5892330df",
       "version_major": 2,
       "version_minor": 0
      },
      "text/plain": [
       "Loop over listings:   0%|          | 0/26 [00:00<?, ?it/s]"
      ]
     },
     "metadata": {},
     "output_type": "display_data"
    },
    {
     "name": "stdout",
     "output_type": "stream",
     "text": [
      "Car Page: 429\n"
     ]
    },
    {
     "data": {
      "application/vnd.jupyter.widget-view+json": {
       "model_id": "a46b9b6ee0544e75b63de7e9362c4830",
       "version_major": 2,
       "version_minor": 0
      },
      "text/plain": [
       "Loop over listings:   0%|          | 0/26 [00:00<?, ?it/s]"
      ]
     },
     "metadata": {},
     "output_type": "display_data"
    },
    {
     "name": "stdout",
     "output_type": "stream",
     "text": [
      "Car Page: 429\n"
     ]
    },
    {
     "data": {
      "application/vnd.jupyter.widget-view+json": {
       "model_id": "190d828aa42742a8b3732e6fe6d87aa5",
       "version_major": 2,
       "version_minor": 0
      },
      "text/plain": [
       "Loop over listings:   0%|          | 0/26 [00:00<?, ?it/s]"
      ]
     },
     "metadata": {},
     "output_type": "display_data"
    },
    {
     "name": "stdout",
     "output_type": "stream",
     "text": [
      "Car Page: 429\n"
     ]
    },
    {
     "data": {
      "application/vnd.jupyter.widget-view+json": {
       "model_id": "5fc76dde5bc6452c93b20ae7aa5bf23b",
       "version_major": 2,
       "version_minor": 0
      },
      "text/plain": [
       "Loop over listings:   0%|          | 0/26 [00:00<?, ?it/s]"
      ]
     },
     "metadata": {},
     "output_type": "display_data"
    },
    {
     "name": "stdout",
     "output_type": "stream",
     "text": [
      "Car Page: 429\n"
     ]
    },
    {
     "data": {
      "application/vnd.jupyter.widget-view+json": {
       "model_id": "85b2ba3c59154e7496422cb9d4fd3931",
       "version_major": 2,
       "version_minor": 0
      },
      "text/plain": [
       "Loop over listings:   0%|          | 0/26 [00:00<?, ?it/s]"
      ]
     },
     "metadata": {},
     "output_type": "display_data"
    },
    {
     "name": "stdout",
     "output_type": "stream",
     "text": [
      "Car Page: 429\n"
     ]
    },
    {
     "data": {
      "application/vnd.jupyter.widget-view+json": {
       "model_id": "4c74320ff6b645159dd8e2d5bd399191",
       "version_major": 2,
       "version_minor": 0
      },
      "text/plain": [
       "Loop over listings:   0%|          | 0/26 [00:00<?, ?it/s]"
      ]
     },
     "metadata": {},
     "output_type": "display_data"
    },
    {
     "name": "stdout",
     "output_type": "stream",
     "text": [
      "Car Page: 429\n"
     ]
    },
    {
     "data": {
      "application/vnd.jupyter.widget-view+json": {
       "model_id": "9c793efd0fc7405eb67dbe29d91d0015",
       "version_major": 2,
       "version_minor": 0
      },
      "text/plain": [
       "Loop over listings:   0%|          | 0/26 [00:00<?, ?it/s]"
      ]
     },
     "metadata": {},
     "output_type": "display_data"
    },
    {
     "name": "stdout",
     "output_type": "stream",
     "text": [
      "Car Page: 429\n"
     ]
    },
    {
     "data": {
      "application/vnd.jupyter.widget-view+json": {
       "model_id": "ce14d99edd3e43a4932c8568fbc0a071",
       "version_major": 2,
       "version_minor": 0
      },
      "text/plain": [
       "Loop over listings:   0%|          | 0/26 [00:00<?, ?it/s]"
      ]
     },
     "metadata": {},
     "output_type": "display_data"
    },
    {
     "name": "stdout",
     "output_type": "stream",
     "text": [
      "Car Page: 429\n"
     ]
    },
    {
     "data": {
      "application/vnd.jupyter.widget-view+json": {
       "model_id": "adecf7b4debb43a08eec7d76d2039f75",
       "version_major": 2,
       "version_minor": 0
      },
      "text/plain": [
       "Loop over listings:   0%|          | 0/26 [00:00<?, ?it/s]"
      ]
     },
     "metadata": {},
     "output_type": "display_data"
    },
    {
     "name": "stdout",
     "output_type": "stream",
     "text": [
      "Car Page: 429\n"
     ]
    },
    {
     "data": {
      "application/vnd.jupyter.widget-view+json": {
       "model_id": "3f248d61bdec41cfb9b074d2a055e5ef",
       "version_major": 2,
       "version_minor": 0
      },
      "text/plain": [
       "Loop over listings:   0%|          | 0/26 [00:00<?, ?it/s]"
      ]
     },
     "metadata": {},
     "output_type": "display_data"
    },
    {
     "name": "stdout",
     "output_type": "stream",
     "text": [
      "Car Page: 429\n"
     ]
    },
    {
     "data": {
      "application/vnd.jupyter.widget-view+json": {
       "model_id": "0193e08ef3e44109afca14d84fbca058",
       "version_major": 2,
       "version_minor": 0
      },
      "text/plain": [
       "Loop over listings:   0%|          | 0/26 [00:00<?, ?it/s]"
      ]
     },
     "metadata": {},
     "output_type": "display_data"
    },
    {
     "name": "stdout",
     "output_type": "stream",
     "text": [
      "Car Page: 429\n"
     ]
    },
    {
     "data": {
      "application/vnd.jupyter.widget-view+json": {
       "model_id": "52133b752fb44badb307714519627798",
       "version_major": 2,
       "version_minor": 0
      },
      "text/plain": [
       "Loop over listings:   0%|          | 0/26 [00:00<?, ?it/s]"
      ]
     },
     "metadata": {},
     "output_type": "display_data"
    },
    {
     "name": "stdout",
     "output_type": "stream",
     "text": [
      "Car Page: 429\n"
     ]
    },
    {
     "data": {
      "application/vnd.jupyter.widget-view+json": {
       "model_id": "1bff018f864a43b7a39b2b1b0accff85",
       "version_major": 2,
       "version_minor": 0
      },
      "text/plain": [
       "Loop over listings:   0%|          | 0/26 [00:00<?, ?it/s]"
      ]
     },
     "metadata": {},
     "output_type": "display_data"
    },
    {
     "name": "stdout",
     "output_type": "stream",
     "text": [
      "Car Page: 429\n"
     ]
    },
    {
     "data": {
      "application/vnd.jupyter.widget-view+json": {
       "model_id": "60b28d6560ee4a15a2444008dd838e2e",
       "version_major": 2,
       "version_minor": 0
      },
      "text/plain": [
       "Loop over listings:   0%|          | 0/26 [00:00<?, ?it/s]"
      ]
     },
     "metadata": {},
     "output_type": "display_data"
    },
    {
     "name": "stdout",
     "output_type": "stream",
     "text": [
      "Car Page: 429\n"
     ]
    },
    {
     "data": {
      "application/vnd.jupyter.widget-view+json": {
       "model_id": "4019390401974c30b78658c0ea35cf57",
       "version_major": 2,
       "version_minor": 0
      },
      "text/plain": [
       "Loop over listings:   0%|          | 0/26 [00:00<?, ?it/s]"
      ]
     },
     "metadata": {},
     "output_type": "display_data"
    },
    {
     "name": "stdout",
     "output_type": "stream",
     "text": [
      "Car Page: 429\n"
     ]
    },
    {
     "data": {
      "application/vnd.jupyter.widget-view+json": {
       "model_id": "147b3e4d03db48ae885ab09b93776a63",
       "version_major": 2,
       "version_minor": 0
      },
      "text/plain": [
       "Loop over listings:   0%|          | 0/26 [00:00<?, ?it/s]"
      ]
     },
     "metadata": {},
     "output_type": "display_data"
    },
    {
     "name": "stdout",
     "output_type": "stream",
     "text": [
      "Car Page: 429\n"
     ]
    },
    {
     "data": {
      "application/vnd.jupyter.widget-view+json": {
       "model_id": "142c19831bef46719e694421090a949f",
       "version_major": 2,
       "version_minor": 0
      },
      "text/plain": [
       "Loop over listings:   0%|          | 0/26 [00:00<?, ?it/s]"
      ]
     },
     "metadata": {},
     "output_type": "display_data"
    },
    {
     "name": "stdout",
     "output_type": "stream",
     "text": [
      "Car Page: 429\n"
     ]
    },
    {
     "data": {
      "application/vnd.jupyter.widget-view+json": {
       "model_id": "ec738c24741c44b782d8cfc28efd95d9",
       "version_major": 2,
       "version_minor": 0
      },
      "text/plain": [
       "Loop over listings:   0%|          | 0/26 [00:00<?, ?it/s]"
      ]
     },
     "metadata": {},
     "output_type": "display_data"
    },
    {
     "name": "stdout",
     "output_type": "stream",
     "text": [
      "Car Page: 429\n"
     ]
    },
    {
     "data": {
      "application/vnd.jupyter.widget-view+json": {
       "model_id": "96ac31d62e0e488ebe1f2616c30f8bd3",
       "version_major": 2,
       "version_minor": 0
      },
      "text/plain": [
       "Loop over listings:   0%|          | 0/26 [00:00<?, ?it/s]"
      ]
     },
     "metadata": {},
     "output_type": "display_data"
    },
    {
     "name": "stdout",
     "output_type": "stream",
     "text": [
      "Car Page: 429\n"
     ]
    },
    {
     "data": {
      "application/vnd.jupyter.widget-view+json": {
       "model_id": "0fc1feeaa8d64d02ad6432e27ce23894",
       "version_major": 2,
       "version_minor": 0
      },
      "text/plain": [
       "Loop over listings:   0%|          | 0/26 [00:00<?, ?it/s]"
      ]
     },
     "metadata": {},
     "output_type": "display_data"
    },
    {
     "name": "stdout",
     "output_type": "stream",
     "text": [
      "Car Page: 429\n"
     ]
    },
    {
     "data": {
      "application/vnd.jupyter.widget-view+json": {
       "model_id": "d23df352cb8e43a1989dce495fe9b282",
       "version_major": 2,
       "version_minor": 0
      },
      "text/plain": [
       "Loop over listings:   0%|          | 0/26 [00:00<?, ?it/s]"
      ]
     },
     "metadata": {},
     "output_type": "display_data"
    },
    {
     "name": "stdout",
     "output_type": "stream",
     "text": [
      "Car Page: 429\n"
     ]
    },
    {
     "data": {
      "application/vnd.jupyter.widget-view+json": {
       "model_id": "9f83c2a6fd98420b8aa6b1cbc99647b8",
       "version_major": 2,
       "version_minor": 0
      },
      "text/plain": [
       "Loop over listings:   0%|          | 0/26 [00:00<?, ?it/s]"
      ]
     },
     "metadata": {},
     "output_type": "display_data"
    },
    {
     "name": "stdout",
     "output_type": "stream",
     "text": [
      "Car Page: 429\n"
     ]
    },
    {
     "data": {
      "application/vnd.jupyter.widget-view+json": {
       "model_id": "aabd8267cc6c4e4aaccdcff79c724cce",
       "version_major": 2,
       "version_minor": 0
      },
      "text/plain": [
       "Loop over listings:   0%|          | 0/26 [00:00<?, ?it/s]"
      ]
     },
     "metadata": {},
     "output_type": "display_data"
    },
    {
     "name": "stdout",
     "output_type": "stream",
     "text": [
      "Car Page: 429\n"
     ]
    },
    {
     "data": {
      "application/vnd.jupyter.widget-view+json": {
       "model_id": "117c198177de48948eb38d1940d19d2f",
       "version_major": 2,
       "version_minor": 0
      },
      "text/plain": [
       "Loop over listings:   0%|          | 0/26 [00:00<?, ?it/s]"
      ]
     },
     "metadata": {},
     "output_type": "display_data"
    },
    {
     "name": "stdout",
     "output_type": "stream",
     "text": [
      "Car Page: 429\n"
     ]
    },
    {
     "data": {
      "application/vnd.jupyter.widget-view+json": {
       "model_id": "0ce3fcd65ccc4f26973e3388a588ddd5",
       "version_major": 2,
       "version_minor": 0
      },
      "text/plain": [
       "Loop over listings:   0%|          | 0/26 [00:00<?, ?it/s]"
      ]
     },
     "metadata": {},
     "output_type": "display_data"
    },
    {
     "name": "stdout",
     "output_type": "stream",
     "text": [
      "Car Page: 429\n"
     ]
    },
    {
     "data": {
      "application/vnd.jupyter.widget-view+json": {
       "model_id": "357bd7b6ae344ff4ae14207f820d9243",
       "version_major": 2,
       "version_minor": 0
      },
      "text/plain": [
       "Loop over listings:   0%|          | 0/26 [00:00<?, ?it/s]"
      ]
     },
     "metadata": {},
     "output_type": "display_data"
    },
    {
     "name": "stdout",
     "output_type": "stream",
     "text": [
      "Car Page: 429\n"
     ]
    },
    {
     "data": {
      "application/vnd.jupyter.widget-view+json": {
       "model_id": "1c7105e30339421faa2a3b9b1d9228a2",
       "version_major": 2,
       "version_minor": 0
      },
      "text/plain": [
       "Loop over listings:   0%|          | 0/26 [00:00<?, ?it/s]"
      ]
     },
     "metadata": {},
     "output_type": "display_data"
    },
    {
     "name": "stdout",
     "output_type": "stream",
     "text": [
      "Car Page: 429\n"
     ]
    },
    {
     "data": {
      "application/vnd.jupyter.widget-view+json": {
       "model_id": "6ea6067f29c34e5594a778e3837c3337",
       "version_major": 2,
       "version_minor": 0
      },
      "text/plain": [
       "Loop over listings:   0%|          | 0/26 [00:00<?, ?it/s]"
      ]
     },
     "metadata": {},
     "output_type": "display_data"
    },
    {
     "name": "stdout",
     "output_type": "stream",
     "text": [
      "Car Page: 429\n"
     ]
    },
    {
     "data": {
      "application/vnd.jupyter.widget-view+json": {
       "model_id": "8ea963ec29104b98b86fff093ef5a0af",
       "version_major": 2,
       "version_minor": 0
      },
      "text/plain": [
       "Loop over listings:   0%|          | 0/26 [00:00<?, ?it/s]"
      ]
     },
     "metadata": {},
     "output_type": "display_data"
    },
    {
     "name": "stdout",
     "output_type": "stream",
     "text": [
      "Car Page: 429\n"
     ]
    },
    {
     "data": {
      "application/vnd.jupyter.widget-view+json": {
       "model_id": "ea219a255f79490ca10417c63cdecc63",
       "version_major": 2,
       "version_minor": 0
      },
      "text/plain": [
       "Loop over listings:   0%|          | 0/26 [00:00<?, ?it/s]"
      ]
     },
     "metadata": {},
     "output_type": "display_data"
    },
    {
     "name": "stdout",
     "output_type": "stream",
     "text": [
      "Car Page: 429\n"
     ]
    },
    {
     "data": {
      "application/vnd.jupyter.widget-view+json": {
       "model_id": "e76f1de63d5a463d99c15e32cfe5c8b0",
       "version_major": 2,
       "version_minor": 0
      },
      "text/plain": [
       "Loop over listings:   0%|          | 0/25 [00:00<?, ?it/s]"
      ]
     },
     "metadata": {},
     "output_type": "display_data"
    },
    {
     "name": "stdout",
     "output_type": "stream",
     "text": [
      "Car Page: 429\n"
     ]
    },
    {
     "data": {
      "application/vnd.jupyter.widget-view+json": {
       "model_id": "eff3a5e062f54068886c595d3ce79ec0",
       "version_major": 2,
       "version_minor": 0
      },
      "text/plain": [
       "Loop over listings:   0%|          | 0/26 [00:00<?, ?it/s]"
      ]
     },
     "metadata": {},
     "output_type": "display_data"
    },
    {
     "name": "stdout",
     "output_type": "stream",
     "text": [
      "Car Page: 429\n"
     ]
    },
    {
     "data": {
      "application/vnd.jupyter.widget-view+json": {
       "model_id": "9afb853aa2dd4f57afa126cca3d56fc3",
       "version_major": 2,
       "version_minor": 0
      },
      "text/plain": [
       "Loop over listings:   0%|          | 0/26 [00:00<?, ?it/s]"
      ]
     },
     "metadata": {},
     "output_type": "display_data"
    },
    {
     "name": "stdout",
     "output_type": "stream",
     "text": [
      "Car Page: 429\n"
     ]
    },
    {
     "data": {
      "application/vnd.jupyter.widget-view+json": {
       "model_id": "cca560b4c24b40c7926531e2afc3e2d2",
       "version_major": 2,
       "version_minor": 0
      },
      "text/plain": [
       "Loop over listings:   0%|          | 0/26 [00:00<?, ?it/s]"
      ]
     },
     "metadata": {},
     "output_type": "display_data"
    },
    {
     "name": "stdout",
     "output_type": "stream",
     "text": [
      "Car Page: 429\n"
     ]
    },
    {
     "data": {
      "application/vnd.jupyter.widget-view+json": {
       "model_id": "99b6860cb1b646ca95649518a2746726",
       "version_major": 2,
       "version_minor": 0
      },
      "text/plain": [
       "Loop over listings:   0%|          | 0/26 [00:00<?, ?it/s]"
      ]
     },
     "metadata": {},
     "output_type": "display_data"
    },
    {
     "name": "stdout",
     "output_type": "stream",
     "text": [
      "Car Page: 429\n"
     ]
    },
    {
     "data": {
      "application/vnd.jupyter.widget-view+json": {
       "model_id": "e175275b1dd64b52be2f16fb0362cc41",
       "version_major": 2,
       "version_minor": 0
      },
      "text/plain": [
       "Loop over listings:   0%|          | 0/26 [00:00<?, ?it/s]"
      ]
     },
     "metadata": {},
     "output_type": "display_data"
    },
    {
     "name": "stdout",
     "output_type": "stream",
     "text": [
      "Car Page: 429\n"
     ]
    },
    {
     "data": {
      "application/vnd.jupyter.widget-view+json": {
       "model_id": "df87750657b14282918febb0a387a473",
       "version_major": 2,
       "version_minor": 0
      },
      "text/plain": [
       "Loop over listings:   0%|          | 0/26 [00:00<?, ?it/s]"
      ]
     },
     "metadata": {},
     "output_type": "display_data"
    },
    {
     "name": "stdout",
     "output_type": "stream",
     "text": [
      "Car Page: 429\n"
     ]
    },
    {
     "data": {
      "application/vnd.jupyter.widget-view+json": {
       "model_id": "435c96b2a4cd4f2885b9b73c7b3bfb7e",
       "version_major": 2,
       "version_minor": 0
      },
      "text/plain": [
       "Loop over listings:   0%|          | 0/26 [00:00<?, ?it/s]"
      ]
     },
     "metadata": {},
     "output_type": "display_data"
    },
    {
     "name": "stdout",
     "output_type": "stream",
     "text": [
      "Car Page: 429\n"
     ]
    },
    {
     "data": {
      "application/vnd.jupyter.widget-view+json": {
       "model_id": "c34bbf245dbc46e1968345a6cc39ad88",
       "version_major": 2,
       "version_minor": 0
      },
      "text/plain": [
       "Loop over listings:   0%|          | 0/26 [00:00<?, ?it/s]"
      ]
     },
     "metadata": {},
     "output_type": "display_data"
    },
    {
     "name": "stdout",
     "output_type": "stream",
     "text": [
      "Car Page: 429\n"
     ]
    },
    {
     "data": {
      "application/vnd.jupyter.widget-view+json": {
       "model_id": "c0b7590992a24fcabca708278502a101",
       "version_major": 2,
       "version_minor": 0
      },
      "text/plain": [
       "Loop over listings:   0%|          | 0/26 [00:00<?, ?it/s]"
      ]
     },
     "metadata": {},
     "output_type": "display_data"
    },
    {
     "name": "stdout",
     "output_type": "stream",
     "text": [
      "Car Page: 429\n"
     ]
    },
    {
     "data": {
      "application/vnd.jupyter.widget-view+json": {
       "model_id": "6d374fe00c214cd58e949687a9c2d5fe",
       "version_major": 2,
       "version_minor": 0
      },
      "text/plain": [
       "Loop over listings:   0%|          | 0/26 [00:00<?, ?it/s]"
      ]
     },
     "metadata": {},
     "output_type": "display_data"
    },
    {
     "name": "stdout",
     "output_type": "stream",
     "text": [
      "Car Page: 429\n"
     ]
    },
    {
     "data": {
      "application/vnd.jupyter.widget-view+json": {
       "model_id": "ff6c17fe22c54d5a9b3527629d84549d",
       "version_major": 2,
       "version_minor": 0
      },
      "text/plain": [
       "Loop over listings:   0%|          | 0/26 [00:00<?, ?it/s]"
      ]
     },
     "metadata": {},
     "output_type": "display_data"
    },
    {
     "name": "stdout",
     "output_type": "stream",
     "text": [
      "Car Page: 429\n"
     ]
    },
    {
     "data": {
      "application/vnd.jupyter.widget-view+json": {
       "model_id": "0afa9035736448a08c71c0e3786b7227",
       "version_major": 2,
       "version_minor": 0
      },
      "text/plain": [
       "Loop over listings:   0%|          | 0/26 [00:00<?, ?it/s]"
      ]
     },
     "metadata": {},
     "output_type": "display_data"
    },
    {
     "name": "stdout",
     "output_type": "stream",
     "text": [
      "Car Page: 429\n"
     ]
    },
    {
     "data": {
      "application/vnd.jupyter.widget-view+json": {
       "model_id": "30dc696e1f75472e8c3efbad309ee228",
       "version_major": 2,
       "version_minor": 0
      },
      "text/plain": [
       "Loop over listings:   0%|          | 0/26 [00:00<?, ?it/s]"
      ]
     },
     "metadata": {},
     "output_type": "display_data"
    },
    {
     "name": "stdout",
     "output_type": "stream",
     "text": [
      "Car Page: 429\n"
     ]
    },
    {
     "data": {
      "application/vnd.jupyter.widget-view+json": {
       "model_id": "975123d62e1c4b46bd84731e946a1dbe",
       "version_major": 2,
       "version_minor": 0
      },
      "text/plain": [
       "Loop over listings:   0%|          | 0/26 [00:00<?, ?it/s]"
      ]
     },
     "metadata": {},
     "output_type": "display_data"
    },
    {
     "name": "stdout",
     "output_type": "stream",
     "text": [
      "Car Page: 429\n"
     ]
    },
    {
     "data": {
      "application/vnd.jupyter.widget-view+json": {
       "model_id": "0214e68c77e2483c8d15204ec6d75df2",
       "version_major": 2,
       "version_minor": 0
      },
      "text/plain": [
       "Loop over listings:   0%|          | 0/26 [00:00<?, ?it/s]"
      ]
     },
     "metadata": {},
     "output_type": "display_data"
    },
    {
     "name": "stdout",
     "output_type": "stream",
     "text": [
      "Car Page: 429\n"
     ]
    },
    {
     "data": {
      "application/vnd.jupyter.widget-view+json": {
       "model_id": "73a9b4e04fd345ecab8aa4c87b1213a2",
       "version_major": 2,
       "version_minor": 0
      },
      "text/plain": [
       "Loop over listings:   0%|          | 0/26 [00:00<?, ?it/s]"
      ]
     },
     "metadata": {},
     "output_type": "display_data"
    },
    {
     "name": "stdout",
     "output_type": "stream",
     "text": [
      "Car Page: 429\n"
     ]
    },
    {
     "data": {
      "application/vnd.jupyter.widget-view+json": {
       "model_id": "a43585e9ea664635aa44fee489973e4f",
       "version_major": 2,
       "version_minor": 0
      },
      "text/plain": [
       "Loop over listings:   0%|          | 0/26 [00:00<?, ?it/s]"
      ]
     },
     "metadata": {},
     "output_type": "display_data"
    },
    {
     "name": "stdout",
     "output_type": "stream",
     "text": [
      "Car Page: 429\n"
     ]
    },
    {
     "data": {
      "application/vnd.jupyter.widget-view+json": {
       "model_id": "882daf5f00e34b81985c5a6d506b5a06",
       "version_major": 2,
       "version_minor": 0
      },
      "text/plain": [
       "Loop over listings:   0%|          | 0/26 [00:00<?, ?it/s]"
      ]
     },
     "metadata": {},
     "output_type": "display_data"
    },
    {
     "name": "stdout",
     "output_type": "stream",
     "text": [
      "Car Page: 429\n"
     ]
    },
    {
     "data": {
      "application/vnd.jupyter.widget-view+json": {
       "model_id": "fbe23322366044b2af2166e66a963548",
       "version_major": 2,
       "version_minor": 0
      },
      "text/plain": [
       "Loop over listings:   0%|          | 0/26 [00:00<?, ?it/s]"
      ]
     },
     "metadata": {},
     "output_type": "display_data"
    },
    {
     "name": "stdout",
     "output_type": "stream",
     "text": [
      "Car Page: 429\n"
     ]
    },
    {
     "data": {
      "application/vnd.jupyter.widget-view+json": {
       "model_id": "11aa05c1797d4469974b502447ccb44b",
       "version_major": 2,
       "version_minor": 0
      },
      "text/plain": [
       "Loop over listings:   0%|          | 0/26 [00:00<?, ?it/s]"
      ]
     },
     "metadata": {},
     "output_type": "display_data"
    },
    {
     "name": "stdout",
     "output_type": "stream",
     "text": [
      "Car Page: 429\n"
     ]
    },
    {
     "data": {
      "application/vnd.jupyter.widget-view+json": {
       "model_id": "281921a445b840eda86d8a413ecae5d8",
       "version_major": 2,
       "version_minor": 0
      },
      "text/plain": [
       "Loop over listings:   0%|          | 0/26 [00:00<?, ?it/s]"
      ]
     },
     "metadata": {},
     "output_type": "display_data"
    },
    {
     "name": "stdout",
     "output_type": "stream",
     "text": [
      "Car Page: 429\n"
     ]
    },
    {
     "data": {
      "application/vnd.jupyter.widget-view+json": {
       "model_id": "29672a2a213243f3b43e394d9ab01722",
       "version_major": 2,
       "version_minor": 0
      },
      "text/plain": [
       "Loop over listings:   0%|          | 0/26 [00:00<?, ?it/s]"
      ]
     },
     "metadata": {},
     "output_type": "display_data"
    },
    {
     "name": "stdout",
     "output_type": "stream",
     "text": [
      "Car Page: 429\n"
     ]
    },
    {
     "data": {
      "application/vnd.jupyter.widget-view+json": {
       "model_id": "3d1ca7abf6a9489e84f488ba342e9c69",
       "version_major": 2,
       "version_minor": 0
      },
      "text/plain": [
       "Loop over listings:   0%|          | 0/26 [00:00<?, ?it/s]"
      ]
     },
     "metadata": {},
     "output_type": "display_data"
    },
    {
     "name": "stdout",
     "output_type": "stream",
     "text": [
      "Car Page: 429\n"
     ]
    },
    {
     "data": {
      "application/vnd.jupyter.widget-view+json": {
       "model_id": "f060679cadc642dfbe00e589bdd031ed",
       "version_major": 2,
       "version_minor": 0
      },
      "text/plain": [
       "Loop over listings:   0%|          | 0/26 [00:00<?, ?it/s]"
      ]
     },
     "metadata": {},
     "output_type": "display_data"
    },
    {
     "name": "stdout",
     "output_type": "stream",
     "text": [
      "Car Page: 429\n"
     ]
    },
    {
     "data": {
      "application/vnd.jupyter.widget-view+json": {
       "model_id": "f83ede4114c143cd82e34a4e684cf274",
       "version_major": 2,
       "version_minor": 0
      },
      "text/plain": [
       "Loop over listings:   0%|          | 0/26 [00:00<?, ?it/s]"
      ]
     },
     "metadata": {},
     "output_type": "display_data"
    },
    {
     "name": "stdout",
     "output_type": "stream",
     "text": [
      "Car Page: 429\n"
     ]
    },
    {
     "data": {
      "application/vnd.jupyter.widget-view+json": {
       "model_id": "400779867f3841b4b60e30eceda3c77e",
       "version_major": 2,
       "version_minor": 0
      },
      "text/plain": [
       "Loop over listings:   0%|          | 0/26 [00:00<?, ?it/s]"
      ]
     },
     "metadata": {},
     "output_type": "display_data"
    },
    {
     "name": "stdout",
     "output_type": "stream",
     "text": [
      "Car Page: 429\n"
     ]
    },
    {
     "data": {
      "application/vnd.jupyter.widget-view+json": {
       "model_id": "aafc37ee1bf2444a9570b4dcf91adfaf",
       "version_major": 2,
       "version_minor": 0
      },
      "text/plain": [
       "Loop over listings:   0%|          | 0/26 [00:00<?, ?it/s]"
      ]
     },
     "metadata": {},
     "output_type": "display_data"
    },
    {
     "name": "stdout",
     "output_type": "stream",
     "text": [
      "Car Page: 429\n"
     ]
    },
    {
     "data": {
      "application/vnd.jupyter.widget-view+json": {
       "model_id": "780c671f20404aa4a786576e74c1f791",
       "version_major": 2,
       "version_minor": 0
      },
      "text/plain": [
       "Loop over listings:   0%|          | 0/26 [00:00<?, ?it/s]"
      ]
     },
     "metadata": {},
     "output_type": "display_data"
    },
    {
     "name": "stdout",
     "output_type": "stream",
     "text": [
      "Car Page: 403\n",
      "Car Page: 403\n",
      "Car Page: 429\n"
     ]
    },
    {
     "data": {
      "application/vnd.jupyter.widget-view+json": {
       "model_id": "1106520a751d4de1bcd79c42d32bef11",
       "version_major": 2,
       "version_minor": 0
      },
      "text/plain": [
       "Loop over listings:   0%|          | 0/26 [00:00<?, ?it/s]"
      ]
     },
     "metadata": {},
     "output_type": "display_data"
    },
    {
     "name": "stdout",
     "output_type": "stream",
     "text": [
      "Car Page: 429\n"
     ]
    },
    {
     "data": {
      "application/vnd.jupyter.widget-view+json": {
       "model_id": "2c52d27e236849afa8d0d8b3eb39be67",
       "version_major": 2,
       "version_minor": 0
      },
      "text/plain": [
       "Loop over listings:   0%|          | 0/26 [00:00<?, ?it/s]"
      ]
     },
     "metadata": {},
     "output_type": "display_data"
    },
    {
     "name": "stdout",
     "output_type": "stream",
     "text": [
      "Car Page: 429\n"
     ]
    },
    {
     "data": {
      "application/vnd.jupyter.widget-view+json": {
       "model_id": "facfba5a392c48d79472f552d91e8a2c",
       "version_major": 2,
       "version_minor": 0
      },
      "text/plain": [
       "Loop over listings:   0%|          | 0/26 [00:00<?, ?it/s]"
      ]
     },
     "metadata": {},
     "output_type": "display_data"
    },
    {
     "name": "stdout",
     "output_type": "stream",
     "text": [
      "Car Page: 429\n"
     ]
    },
    {
     "data": {
      "application/vnd.jupyter.widget-view+json": {
       "model_id": "f2c546d99d684388ad1530f6647138df",
       "version_major": 2,
       "version_minor": 0
      },
      "text/plain": [
       "Loop over listings:   0%|          | 0/26 [00:00<?, ?it/s]"
      ]
     },
     "metadata": {},
     "output_type": "display_data"
    },
    {
     "name": "stdout",
     "output_type": "stream",
     "text": [
      "Car Page: 429\n"
     ]
    },
    {
     "data": {
      "application/vnd.jupyter.widget-view+json": {
       "model_id": "6a919199ae3447d4b00e6317b095d8b4",
       "version_major": 2,
       "version_minor": 0
      },
      "text/plain": [
       "Loop over listings:   0%|          | 0/26 [00:00<?, ?it/s]"
      ]
     },
     "metadata": {},
     "output_type": "display_data"
    },
    {
     "name": "stdout",
     "output_type": "stream",
     "text": [
      "Car Page: 429\n"
     ]
    },
    {
     "data": {
      "application/vnd.jupyter.widget-view+json": {
       "model_id": "04439abcb40b481c8c3351335d8e0bc0",
       "version_major": 2,
       "version_minor": 0
      },
      "text/plain": [
       "Loop over listings:   0%|          | 0/26 [00:00<?, ?it/s]"
      ]
     },
     "metadata": {},
     "output_type": "display_data"
    },
    {
     "name": "stdout",
     "output_type": "stream",
     "text": [
      "Car Page: 429\n"
     ]
    },
    {
     "data": {
      "application/vnd.jupyter.widget-view+json": {
       "model_id": "9513178cb655439a9efeb85518369bca",
       "version_major": 2,
       "version_minor": 0
      },
      "text/plain": [
       "Loop over listings:   0%|          | 0/26 [00:00<?, ?it/s]"
      ]
     },
     "metadata": {},
     "output_type": "display_data"
    },
    {
     "name": "stdout",
     "output_type": "stream",
     "text": [
      "Car Page: 429\n"
     ]
    },
    {
     "data": {
      "application/vnd.jupyter.widget-view+json": {
       "model_id": "a3df7624a26541dca1680c22dd5df961",
       "version_major": 2,
       "version_minor": 0
      },
      "text/plain": [
       "Loop over listings:   0%|          | 0/26 [00:00<?, ?it/s]"
      ]
     },
     "metadata": {},
     "output_type": "display_data"
    },
    {
     "name": "stdout",
     "output_type": "stream",
     "text": [
      "Car Page: 429\n"
     ]
    },
    {
     "data": {
      "application/vnd.jupyter.widget-view+json": {
       "model_id": "652a73dbe921445e93e7154c3535f11f",
       "version_major": 2,
       "version_minor": 0
      },
      "text/plain": [
       "Loop over listings:   0%|          | 0/26 [00:00<?, ?it/s]"
      ]
     },
     "metadata": {},
     "output_type": "display_data"
    },
    {
     "name": "stdout",
     "output_type": "stream",
     "text": [
      "Car Page: 429\n"
     ]
    },
    {
     "data": {
      "application/vnd.jupyter.widget-view+json": {
       "model_id": "30cb33094c5548df947ed33e84f0ab78",
       "version_major": 2,
       "version_minor": 0
      },
      "text/plain": [
       "Loop over listings:   0%|          | 0/26 [00:00<?, ?it/s]"
      ]
     },
     "metadata": {},
     "output_type": "display_data"
    },
    {
     "name": "stdout",
     "output_type": "stream",
     "text": [
      "Car Page: 429\n"
     ]
    },
    {
     "data": {
      "application/vnd.jupyter.widget-view+json": {
       "model_id": "3713e1629e974491b7d54a048d59c2a5",
       "version_major": 2,
       "version_minor": 0
      },
      "text/plain": [
       "Loop over listings:   0%|          | 0/26 [00:00<?, ?it/s]"
      ]
     },
     "metadata": {},
     "output_type": "display_data"
    },
    {
     "name": "stdout",
     "output_type": "stream",
     "text": [
      "Car Page: 429\n"
     ]
    },
    {
     "data": {
      "application/vnd.jupyter.widget-view+json": {
       "model_id": "82faf6a01fc44966bfa7f2688fdabb65",
       "version_major": 2,
       "version_minor": 0
      },
      "text/plain": [
       "Loop over listings:   0%|          | 0/26 [00:00<?, ?it/s]"
      ]
     },
     "metadata": {},
     "output_type": "display_data"
    },
    {
     "name": "stdout",
     "output_type": "stream",
     "text": [
      "Car Page: 429\n"
     ]
    },
    {
     "data": {
      "application/vnd.jupyter.widget-view+json": {
       "model_id": "5842085113e2411aaf53953713a4bfca",
       "version_major": 2,
       "version_minor": 0
      },
      "text/plain": [
       "Loop over listings:   0%|          | 0/26 [00:00<?, ?it/s]"
      ]
     },
     "metadata": {},
     "output_type": "display_data"
    },
    {
     "name": "stdout",
     "output_type": "stream",
     "text": [
      "Car Page: 429\n"
     ]
    },
    {
     "data": {
      "application/vnd.jupyter.widget-view+json": {
       "model_id": "6c7b49d4f36f46e6bbaa95962360ef60",
       "version_major": 2,
       "version_minor": 0
      },
      "text/plain": [
       "Loop over listings:   0%|          | 0/26 [00:00<?, ?it/s]"
      ]
     },
     "metadata": {},
     "output_type": "display_data"
    },
    {
     "name": "stdout",
     "output_type": "stream",
     "text": [
      "Car Page: 429\n"
     ]
    },
    {
     "data": {
      "application/vnd.jupyter.widget-view+json": {
       "model_id": "9817f280f08741888e343b1c7000db22",
       "version_major": 2,
       "version_minor": 0
      },
      "text/plain": [
       "Loop over listings:   0%|          | 0/26 [00:00<?, ?it/s]"
      ]
     },
     "metadata": {},
     "output_type": "display_data"
    },
    {
     "name": "stdout",
     "output_type": "stream",
     "text": [
      "Car Page: 429\n"
     ]
    },
    {
     "data": {
      "application/vnd.jupyter.widget-view+json": {
       "model_id": "c96a13bcb5bf43f28a8f4afa6a849b35",
       "version_major": 2,
       "version_minor": 0
      },
      "text/plain": [
       "Loop over listings:   0%|          | 0/26 [00:00<?, ?it/s]"
      ]
     },
     "metadata": {},
     "output_type": "display_data"
    },
    {
     "name": "stdout",
     "output_type": "stream",
     "text": [
      "Car Page: 429\n"
     ]
    },
    {
     "data": {
      "application/vnd.jupyter.widget-view+json": {
       "model_id": "07a6f4c064f847b4bbaab92787ff55e9",
       "version_major": 2,
       "version_minor": 0
      },
      "text/plain": [
       "Loop over listings:   0%|          | 0/26 [00:00<?, ?it/s]"
      ]
     },
     "metadata": {},
     "output_type": "display_data"
    },
    {
     "name": "stdout",
     "output_type": "stream",
     "text": [
      "Car Page: 429\n"
     ]
    },
    {
     "data": {
      "application/vnd.jupyter.widget-view+json": {
       "model_id": "af52bbfaf1af43619e2160683e959aae",
       "version_major": 2,
       "version_minor": 0
      },
      "text/plain": [
       "Loop over listings:   0%|          | 0/26 [00:00<?, ?it/s]"
      ]
     },
     "metadata": {},
     "output_type": "display_data"
    },
    {
     "name": "stdout",
     "output_type": "stream",
     "text": [
      "Car Page: 429\n"
     ]
    },
    {
     "data": {
      "application/vnd.jupyter.widget-view+json": {
       "model_id": "6ae2232c128846228960c49daf040629",
       "version_major": 2,
       "version_minor": 0
      },
      "text/plain": [
       "Loop over listings:   0%|          | 0/26 [00:00<?, ?it/s]"
      ]
     },
     "metadata": {},
     "output_type": "display_data"
    },
    {
     "name": "stdout",
     "output_type": "stream",
     "text": [
      "Car Page: 429\n"
     ]
    }
   ],
   "source": [
    "for i in trange(120, desc = 'Loop over pages'):\n",
    "    \n",
    "    website = 'https://www.car.gr/classifieds/cars/?fs=1&fuel_type=1&fuel_type=2&lang=en&pg=' + str(i)\n",
    "    response = requests.get(website)\n",
    "    try:\n",
    "        assert response.status_code == 200, print(f'Listings Page: {response.status_code}')\n",
    "    except:\n",
    "        time.sleep(random.uniform(20, 40))\n",
    "        continue\n",
    "    soup = BeautifulSoup(response.content, 'html.parser')\n",
    "    results = soup.find_all('li', {'class':''})\n",
    "\n",
    "    for j in trange(len(results), desc = 'Loop over listings', leave=False):\n",
    "        \n",
    "        # listing title\n",
    "        title = results[j].find('h2', {'class': 'title'}).get_text()\n",
    "        title = title.split('\\n')[1]\n",
    "        # price\n",
    "        try:\n",
    "            price = results[j].find('div', {'class': 'price-tag current-price'}).get_text()\n",
    "            price = ''.join(re.split(r'\\W', price)[1:3])\n",
    "        except:\n",
    "            # Ask price case\n",
    "            price = 'Ask price'\n",
    "        # location\n",
    "        info = results[j].find_all('span', {'class': ''})[3]\n",
    "        location = info.get_text()\n",
    "        \n",
    "\n",
    "        car_page = 'https://www.car.gr' + results[j].find('a', {'class': 'row-anchor'})['href'] + '?lang=en'\n",
    "        car_response = requests.get(car_page,\n",
    "                                    headers = {'User-Agent':UserAgent().random})\n",
    "        time.sleep(5)\n",
    "        try:\n",
    "            assert car_response.status_code == 200, print(f'Car Page: {car_response.status_code}')\n",
    "        except:\n",
    "            time.sleep(random.uniform(25, 45))\n",
    "            if car_response.status_code == 429:\n",
    "                break\n",
    "            else:\n",
    "                continue\n",
    "\n",
    "        soup = BeautifulSoup(car_response.content, 'html.parser')\n",
    "        car_results = soup.find_all('div', {'class': 'tw-p-4', \n",
    "                                            'class': 'tw-relative tw-w-full tw-flex tw-col-span-3 lg:tw-col-span-3 sm:tw-col-span-4 md:tw-col-span-4'})\n",
    "        if len(car_results) != 0:\n",
    "            registration = car_results[0].get_text().split('        ')[5]\n",
    "            km = car_results[1].get_text().split('        ')[5]\n",
    "            fuel = car_results[2].get_text().split('        ')[5]\n",
    "            if 'Petrol' in fuel or 'Diesel' in fuel:\n",
    "                try:\n",
    "                    displacement = car_results[3].get_text().split('        ')[5][:-1]\n",
    "                    hp = car_results[4].get_text().split('        ')[5]\n",
    "                    transmission = car_results[6].get_text().split('        ')[5]\n",
    "                    category = car_results[7].get_text().split('        ')[5]\n",
    "\n",
    "                    car_dict['title'].append(title)\n",
    "                    car_dict['price'].append(price)\n",
    "                    car_dict['registration'].append(registration)\n",
    "                    car_dict['km'].append(km)\n",
    "                    car_dict['displacement'].append(displacement)\n",
    "                    car_dict['hp'].append(hp)\n",
    "                    car_dict['fuel'].append(fuel)\n",
    "                    car_dict['transmission'].append(transmission)\n",
    "                    car_dict['category'].append(category)\n",
    "                    car_dict['location'].append(location)\n",
    "                    car_dict['link'].append(car_page)\n",
    "                except:\n",
    "                    continue\n",
    "        # Waiting time before changing car page \n",
    "        time.sleep(random.uniform(7, 14))\n",
    "    # Waiting time before changing listings page \n",
    "    time.sleep(random.uniform(50, 70))"
   ]
  },
  {
   "cell_type": "code",
   "execution_count": 6,
   "id": "d81257b0",
   "metadata": {},
   "outputs": [],
   "source": [
    "df = pd.DataFrame(car_dict).iloc[1:, :]\n",
    "# transform data to 'agree' with the previous ones\n",
    "for i in range(len(df)):\n",
    "    df['registration'].values[i] = ''.join(df['registration'].values[i].split(' '))\n",
    "    df['category'].values[i] = ''.join(df['category'].values[i].split(' '))\n",
    "#     df['location'].values[i] = ' '.join(df['location'].values[i].split(' ')[1:])"
   ]
  },
  {
   "cell_type": "code",
   "execution_count": 7,
   "id": "92a96931",
   "metadata": {},
   "outputs": [
    {
     "data": {
      "text/plain": [
       "(847, 11)"
      ]
     },
     "execution_count": 7,
     "metadata": {},
     "output_type": "execute_result"
    }
   ],
   "source": [
    "df.shape"
   ]
  },
  {
   "cell_type": "code",
   "execution_count": 8,
   "id": "926bf10c",
   "metadata": {},
   "outputs": [],
   "source": [
    "# df = pd.DataFrame(car_dict).iloc[1:, :]\n",
    "for i in range(1,100):\n",
    "    file = f'listings_{i}.csv'\n",
    "    if not os.path.isfile(file):\n",
    "        df.to_csv(file)\n",
    "        break"
   ]
  },
  {
   "cell_type": "code",
   "execution_count": 9,
   "id": "49774999",
   "metadata": {},
   "outputs": [],
   "source": [
    "dfs = []\n",
    "for i in range(1, 100):\n",
    "    file = f'listings_{i}.csv'\n",
    "    try:\n",
    "        df = pd.read_csv(file, index_col = 0)\n",
    "        dfs.append(df)\n",
    "    except:\n",
    "        break\n",
    "\n",
    "df  = pd.concat(dfs, axis = 0)"
   ]
  },
  {
   "cell_type": "code",
   "execution_count": 10,
   "id": "b05f2035",
   "metadata": {},
   "outputs": [
    {
     "data": {
      "text/plain": [
       "(9982, 11)"
      ]
     },
     "execution_count": 10,
     "metadata": {},
     "output_type": "execute_result"
    }
   ],
   "source": [
    "df.shape"
   ]
  },
  {
   "cell_type": "code",
   "execution_count": 11,
   "id": "d77f0f57",
   "metadata": {},
   "outputs": [
    {
     "data": {
      "text/plain": [
       "(7352, 11)"
      ]
     },
     "execution_count": 11,
     "metadata": {},
     "output_type": "execute_result"
    }
   ],
   "source": [
    "df.drop_duplicates(keep = 'last', inplace = True)\n",
    "df.shape"
   ]
  },
  {
   "cell_type": "code",
   "execution_count": 12,
   "id": "cc3cda0b",
   "metadata": {},
   "outputs": [],
   "source": [
    "df['registration'] = [x[:-1] for x in df['registration'].values]\n",
    "df['km'] = [x[:-1] for x in df['km'].values]\n",
    "# df['displacement'] = [x[:-1] for x in df['displacement'].values]\n",
    "# df['hp'] = [x[:-1] for x in df['hp'].values]\n",
    "df['fuel'] = [x[:-1] for x in df['fuel'].values]\n",
    "df['transmission'] = [x[:-1] for x in df['transmission'].values]\n",
    "df['category'] = [x[:-1] for x in df['category'].values]"
   ]
  },
  {
   "cell_type": "code",
   "execution_count": 13,
   "id": "172d344e",
   "metadata": {
    "scrolled": true
   },
   "outputs": [
    {
     "data": {
      "text/html": [
       "<div>\n",
       "<style scoped>\n",
       "    .dataframe tbody tr th:only-of-type {\n",
       "        vertical-align: middle;\n",
       "    }\n",
       "\n",
       "    .dataframe tbody tr th {\n",
       "        vertical-align: top;\n",
       "    }\n",
       "\n",
       "    .dataframe thead th {\n",
       "        text-align: right;\n",
       "    }\n",
       "</style>\n",
       "<table border=\"1\" class=\"dataframe\">\n",
       "  <thead>\n",
       "    <tr style=\"text-align: right;\">\n",
       "      <th></th>\n",
       "      <th>title</th>\n",
       "      <th>price</th>\n",
       "      <th>registration</th>\n",
       "      <th>km</th>\n",
       "      <th>displacement</th>\n",
       "      <th>hp</th>\n",
       "      <th>fuel</th>\n",
       "      <th>transmission</th>\n",
       "      <th>category</th>\n",
       "      <th>location</th>\n",
       "      <th>link</th>\n",
       "    </tr>\n",
       "  </thead>\n",
       "  <tbody>\n",
       "    <tr>\n",
       "      <th>843</th>\n",
       "      <td>Fiat Fiorino '23 1.3 Mjet 95hp SX E6D Final-...</td>\n",
       "      <td>17890</td>\n",
       "      <td>03/2023</td>\n",
       "      <td>1 km</td>\n",
       "      <td>1.300 cc</td>\n",
       "      <td>95 bhp</td>\n",
       "      <td>Diesel</td>\n",
       "      <td>Manual</td>\n",
       "      <td>CommercialPassenger</td>\n",
       "      <td>SERRES 62100</td>\n",
       "      <td>https://www.car.gr/classifieds/cars/view/32847...</td>\n",
       "    </tr>\n",
       "    <tr>\n",
       "      <th>844</th>\n",
       "      <td>Chrysler Voyager '06</td>\n",
       "      <td>4900</td>\n",
       "      <td>06/2006</td>\n",
       "      <td>203.398 km</td>\n",
       "      <td>2.500 cc</td>\n",
       "      <td>120 bhp</td>\n",
       "      <td>Diesel</td>\n",
       "      <td>Manual</td>\n",
       "      <td>4x4/Jeep/Suv</td>\n",
       "      <td>YMITTOS 17236</td>\n",
       "      <td>https://www.car.gr/classifieds/cars/view/33078...</td>\n",
       "    </tr>\n",
       "    <tr>\n",
       "      <th>845</th>\n",
       "      <td>Toyota Aygo '16 x-play touch</td>\n",
       "      <td>8990</td>\n",
       "      <td>01/2016</td>\n",
       "      <td>123.000 km</td>\n",
       "      <td>999 cc</td>\n",
       "      <td>70 bhp</td>\n",
       "      <td>Petrol</td>\n",
       "      <td>Manual</td>\n",
       "      <td>Other</td>\n",
       "      <td>KARDITSA 43100</td>\n",
       "      <td>https://www.car.gr/classifieds/cars/view/33120...</td>\n",
       "    </tr>\n",
       "    <tr>\n",
       "      <th>846</th>\n",
       "      <td>Opel Corsa '10</td>\n",
       "      <td>5900</td>\n",
       "      <td>03/2010</td>\n",
       "      <td>65 km</td>\n",
       "      <td>1.300 cc</td>\n",
       "      <td>100 bhp</td>\n",
       "      <td>Diesel</td>\n",
       "      <td>Manual</td>\n",
       "      <td>Compact/Hatchback</td>\n",
       "      <td>PYLAIA 55535</td>\n",
       "      <td>https://www.car.gr/classifieds/cars/view/32070...</td>\n",
       "    </tr>\n",
       "    <tr>\n",
       "      <th>847</th>\n",
       "      <td>Porsche Cayenne '10 CAYENNE DIESEL</td>\n",
       "      <td>29900</td>\n",
       "      <td>01/2010</td>\n",
       "      <td>125.900 km</td>\n",
       "      <td>3.000 cc</td>\n",
       "      <td>240 bhp</td>\n",
       "      <td>Diesel</td>\n",
       "      <td>Automatic</td>\n",
       "      <td>4x4/Jeep/Suv</td>\n",
       "      <td>KORWPI 19400</td>\n",
       "      <td>https://www.car.gr/classifieds/cars/view/25481...</td>\n",
       "    </tr>\n",
       "  </tbody>\n",
       "</table>\n",
       "</div>"
      ],
      "text/plain": [
       "                                                 title  price registration  \\\n",
       "843    Fiat Fiorino '23 1.3 Mjet 95hp SX E6D Final-...  17890      03/2023   \n",
       "844                               Chrysler Voyager '06   4900      06/2006   \n",
       "845                      Toyota Aygo '16 x-play touch    8990      01/2016   \n",
       "846                                     Opel Corsa '10   5900      03/2010   \n",
       "847                 Porsche Cayenne '10 CAYENNE DIESEL  29900      01/2010   \n",
       "\n",
       "             km displacement       hp    fuel transmission  \\\n",
       "843        1 km     1.300 cc   95 bhp  Diesel       Manual   \n",
       "844  203.398 km     2.500 cc  120 bhp  Diesel       Manual   \n",
       "845  123.000 km       999 cc   70 bhp  Petrol       Manual   \n",
       "846       65 km     1.300 cc  100 bhp  Diesel       Manual   \n",
       "847  125.900 km     3.000 cc  240 bhp  Diesel    Automatic   \n",
       "\n",
       "                category         location  \\\n",
       "843  CommercialPassenger     SERRES 62100   \n",
       "844         4x4/Jeep/Suv    YMITTOS 17236   \n",
       "845                Other   KARDITSA 43100   \n",
       "846    Compact/Hatchback     PYLAIA 55535   \n",
       "847         4x4/Jeep/Suv     KORWPI 19400   \n",
       "\n",
       "                                                  link  \n",
       "843  https://www.car.gr/classifieds/cars/view/32847...  \n",
       "844  https://www.car.gr/classifieds/cars/view/33078...  \n",
       "845  https://www.car.gr/classifieds/cars/view/33120...  \n",
       "846  https://www.car.gr/classifieds/cars/view/32070...  \n",
       "847  https://www.car.gr/classifieds/cars/view/25481...  "
      ]
     },
     "execution_count": 13,
     "metadata": {},
     "output_type": "execute_result"
    }
   ],
   "source": [
    "df.tail()"
   ]
  },
  {
   "cell_type": "code",
   "execution_count": 14,
   "id": "b6806d6f",
   "metadata": {},
   "outputs": [
    {
     "data": {
      "text/plain": [
       "array(['Manual', 'Automatic', 'Semi-automatic', 'Other',\n",
       "       'Compact/Hatchback', 'Coupe-Sport', '4x4/Jeep/Suv',\n",
       "       'Commercial Passenger', 'Crew Cab/Pickup', 'Van/Mini Bus',\n",
       "       'Limousine/Sedan', 'Combi/Caravan', 'Convertible/Roadster',\n",
       "       'Race Car', 'Van/MiniBus', 'CrewCab/Pickup', 'CommercialPassenger',\n",
       "       'RaceCar'], dtype=object)"
      ]
     },
     "execution_count": 14,
     "metadata": {},
     "output_type": "execute_result"
    }
   ],
   "source": [
    "df['category'].unique()"
   ]
  },
  {
   "cell_type": "code",
   "execution_count": 15,
   "id": "3d566986",
   "metadata": {},
   "outputs": [],
   "source": [
    "# fixing some categories to agree with each other\n",
    "semi_auto_index = df[df['transmission'] == 'Semi-automatic'].index\n",
    "df.loc[semi_auto_index, ['transmission']] = 'Automatic'\n",
    "\n",
    "comm_pass_index = df[df['category'] == 'CommercialPassenger'].index\n",
    "df.loc[comm_pass_index, ['category']] = 'Commercial Passenger'\n",
    "\n",
    "van_index = df[df['category'] == 'Van/MiniBus'].index\n",
    "df.loc[van_index, ['category']] = 'Van/Mini Bus'\n",
    "\n",
    "crew_cab_index = df[df['category'] == 'CrewCab/Pickup'].index\n",
    "df.loc[crew_cab_index, ['category']] = 'Crew Cab/Pickup'\n",
    "\n",
    "race_car_index = df[df['category'] == 'RaceCar'].index\n",
    "df.loc[race_car_index, ['category']] = 'Race Car'"
   ]
  },
  {
   "cell_type": "code",
   "execution_count": 16,
   "id": "e5baec27",
   "metadata": {},
   "outputs": [
    {
     "data": {
      "text/plain": [
       "category\n",
       "4x4/Jeep/Suv             876\n",
       "Automatic                209\n",
       "Combi/Caravan            203\n",
       "Commercial Passenger     859\n",
       "Compact/Hatchback       1669\n",
       "Convertible/Roadster     149\n",
       "Coupe-Sport              496\n",
       "Crew Cab/Pickup          438\n",
       "Limousine/Sedan          557\n",
       "Manual                   717\n",
       "Other                    278\n",
       "Race Car                  43\n",
       "Semi-automatic             8\n",
       "Van/Mini Bus             850\n",
       "dtype: int64"
      ]
     },
     "execution_count": 16,
     "metadata": {},
     "output_type": "execute_result"
    }
   ],
   "source": [
    "df.groupby(['category']).size()"
   ]
  },
  {
   "cell_type": "code",
   "execution_count": 17,
   "id": "70e31c9c",
   "metadata": {},
   "outputs": [
    {
     "data": {
      "image/png": "[encoded data removed]",
      "text/plain": [
       "<Figure size 640x480 with 1 Axes>"
      ]
     },
     "metadata": {},
     "output_type": "display_data"
    },
    {
     "data": {
      "text/plain": [
       "<Figure size 1000x1500 with 0 Axes>"
      ]
     },
     "metadata": {},
     "output_type": "display_data"
    }
   ],
   "source": [
    "import matplotlib.pyplot as plt\n",
    "\n",
    "plt.bar(df.groupby(['category']).size().index, df.groupby(['category']).size().values)\n",
    "for i in range(len(df.groupby(['category']).size().index)):\n",
    "    plt.text(i, df.groupby(['category']).size().values[i] + 10, df.groupby(['category']).size().values[i], ha = 'center')\n",
    "plt.xlabel('Category')\n",
    "plt.ylabel('Occurencies')\n",
    "plt.xticks(rotation = 90)\n",
    "plt.figure(figsize=(10,15))\n",
    "plt.tight_layout();"
   ]
  },
  {
   "cell_type": "code",
   "execution_count": null,
   "id": "bdf37c8e",
   "metadata": {},
   "outputs": [],
   "source": []
  }
 ],
 "metadata": {
  "kernelspec": {
   "display_name": "Python 3 (ipykernel)",
   "language": "python",
   "name": "python3"
  },
  "language_info": {
   "codemirror_mode": {
    "name": "ipython",
    "version": 3
   },
   "file_extension": ".py",
   "mimetype": "text/x-python",
   "name": "python",
   "nbconvert_exporter": "python",
   "pygments_lexer": "ipython3",
   "version": "3.9.16"
  }
 },
 "nbformat": 4,
 "nbformat_minor": 5
}
