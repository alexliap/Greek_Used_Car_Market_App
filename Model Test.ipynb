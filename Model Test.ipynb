{
 "cells": [
  {
   "cell_type": "code",
   "execution_count": 1,
   "id": "e08a29bd",
   "metadata": {},
   "outputs": [],
   "source": [
    "import pandas as pd\n",
    "import numpy as np"
   ]
  },
  {
   "cell_type": "code",
   "execution_count": 2,
   "id": "dfcc3e1c",
   "metadata": {},
   "outputs": [],
   "source": [
    "df = pd.read_csv('data.csv', index_col = 0)"
   ]
  },
  {
   "cell_type": "code",
   "execution_count": 3,
   "id": "990bf1d2",
   "metadata": {},
   "outputs": [
    {
     "data": {
      "text/html": [
       "<div>\n",
       "<style scoped>\n",
       "    .dataframe tbody tr th:only-of-type {\n",
       "        vertical-align: middle;\n",
       "    }\n",
       "\n",
       "    .dataframe tbody tr th {\n",
       "        vertical-align: top;\n",
       "    }\n",
       "\n",
       "    .dataframe thead th {\n",
       "        text-align: right;\n",
       "    }\n",
       "</style>\n",
       "<table border=\"1\" class=\"dataframe\">\n",
       "  <thead>\n",
       "    <tr style=\"text-align: right;\">\n",
       "      <th></th>\n",
       "      <th>title</th>\n",
       "      <th>price</th>\n",
       "      <th>registration</th>\n",
       "      <th>km</th>\n",
       "      <th>displacement</th>\n",
       "      <th>hp</th>\n",
       "      <th>fuel</th>\n",
       "      <th>transmission</th>\n",
       "      <th>category</th>\n",
       "      <th>location</th>\n",
       "      <th>link</th>\n",
       "      <th>brand</th>\n",
       "      <th>town</th>\n",
       "      <th>model</th>\n",
       "    </tr>\n",
       "  </thead>\n",
       "  <tbody>\n",
       "    <tr>\n",
       "      <th>0</th>\n",
       "      <td>Volkswagen T-Cross '19 T-CROSS 1.0CC</td>\n",
       "      <td>19200</td>\n",
       "      <td>04/2019</td>\n",
       "      <td>40066</td>\n",
       "      <td>1000</td>\n",
       "      <td>96</td>\n",
       "      <td>Petrol</td>\n",
       "      <td>Manual</td>\n",
       "      <td>Manual</td>\n",
       "      <td>RETHYMNO 74100</td>\n",
       "      <td>https://www.car.gr/classifieds/cars/view/32659...</td>\n",
       "      <td>Volkswagen</td>\n",
       "      <td>RETHYMNO</td>\n",
       "      <td>T-Cross</td>\n",
       "    </tr>\n",
       "    <tr>\n",
       "      <th>1</th>\n",
       "      <td>Renault Clio '19 CLIO DYNAMIC 1.0CC 100HP</td>\n",
       "      <td>18400</td>\n",
       "      <td>12/2019</td>\n",
       "      <td>10059</td>\n",
       "      <td>1000</td>\n",
       "      <td>100</td>\n",
       "      <td>Petrol</td>\n",
       "      <td>Manual</td>\n",
       "      <td>Manual</td>\n",
       "      <td>RETHYMNO 74100</td>\n",
       "      <td>https://www.car.gr/classifieds/cars/view/32613...</td>\n",
       "      <td>Renault</td>\n",
       "      <td>RETHYMNO</td>\n",
       "      <td>Clio</td>\n",
       "    </tr>\n",
       "    <tr>\n",
       "      <th>2</th>\n",
       "      <td>Renault Laguna '03 LAGUNA</td>\n",
       "      <td>999</td>\n",
       "      <td>11/2003</td>\n",
       "      <td>188614</td>\n",
       "      <td>1998</td>\n",
       "      <td>155</td>\n",
       "      <td>Petrol</td>\n",
       "      <td>Manual</td>\n",
       "      <td>Manual</td>\n",
       "      <td>RETHYMNO 74100</td>\n",
       "      <td>https://www.car.gr/classifieds/cars/view/26385...</td>\n",
       "      <td>Renault</td>\n",
       "      <td>RETHYMNO</td>\n",
       "      <td>Laguna</td>\n",
       "    </tr>\n",
       "    <tr>\n",
       "      <th>3</th>\n",
       "      <td>Renault Megane '04 1.5 ΠΕΤΡΕΛΑΙΟ!!!</td>\n",
       "      <td>5000</td>\n",
       "      <td>01/2004</td>\n",
       "      <td>162800</td>\n",
       "      <td>1500</td>\n",
       "      <td>100</td>\n",
       "      <td>Diesel</td>\n",
       "      <td>Manual</td>\n",
       "      <td>Manual</td>\n",
       "      <td>AGRINIO 30100</td>\n",
       "      <td>https://www.car.gr/classifieds/cars/view/33000...</td>\n",
       "      <td>Renault</td>\n",
       "      <td>AGRINIO</td>\n",
       "      <td>Megane</td>\n",
       "    </tr>\n",
       "    <tr>\n",
       "      <th>4</th>\n",
       "      <td>Nissan Navara '11 Long Bed -LE Automatic</td>\n",
       "      <td>25500</td>\n",
       "      <td>09/2011</td>\n",
       "      <td>99300</td>\n",
       "      <td>2500</td>\n",
       "      <td>192</td>\n",
       "      <td>Diesel</td>\n",
       "      <td>Automatic</td>\n",
       "      <td>Automatic</td>\n",
       "      <td>ALIMOS 17456</td>\n",
       "      <td>https://www.car.gr/classifieds/cars/view/11979...</td>\n",
       "      <td>Nissan</td>\n",
       "      <td>ALIMOS</td>\n",
       "      <td>Navara</td>\n",
       "    </tr>\n",
       "  </tbody>\n",
       "</table>\n",
       "</div>"
      ],
      "text/plain": [
       "                                         title  price registration      km  \\\n",
       "0         Volkswagen T-Cross '19 T-CROSS 1.0CC  19200      04/2019   40066   \n",
       "1    Renault Clio '19 CLIO DYNAMIC 1.0CC 100HP  18400      12/2019   10059   \n",
       "2                    Renault Laguna '03 LAGUNA    999      11/2003  188614   \n",
       "3          Renault Megane '04 1.5 ΠΕΤΡΕΛΑΙΟ!!!   5000      01/2004  162800   \n",
       "4     Nissan Navara '11 Long Bed -LE Automatic  25500      09/2011   99300   \n",
       "\n",
       "   displacement   hp    fuel transmission   category         location  \\\n",
       "0          1000   96  Petrol       Manual     Manual   RETHYMNO 74100   \n",
       "1          1000  100  Petrol       Manual     Manual   RETHYMNO 74100   \n",
       "2          1998  155  Petrol       Manual     Manual   RETHYMNO 74100   \n",
       "3          1500  100  Diesel       Manual     Manual    AGRINIO 30100   \n",
       "4          2500  192  Diesel    Automatic  Automatic     ALIMOS 17456   \n",
       "\n",
       "                                                link       brand      town  \\\n",
       "0  https://www.car.gr/classifieds/cars/view/32659...  Volkswagen  RETHYMNO   \n",
       "1  https://www.car.gr/classifieds/cars/view/32613...     Renault  RETHYMNO   \n",
       "2  https://www.car.gr/classifieds/cars/view/26385...     Renault  RETHYMNO   \n",
       "3  https://www.car.gr/classifieds/cars/view/33000...     Renault   AGRINIO   \n",
       "4  https://www.car.gr/classifieds/cars/view/11979...      Nissan    ALIMOS   \n",
       "\n",
       "     model  \n",
       "0  T-Cross  \n",
       "1     Clio  \n",
       "2   Laguna  \n",
       "3   Megane  \n",
       "4   Navara  "
      ]
     },
     "execution_count": 3,
     "metadata": {},
     "output_type": "execute_result"
    }
   ],
   "source": [
    "df.head()"
   ]
  },
  {
   "cell_type": "code",
   "execution_count": 4,
   "id": "93208de5",
   "metadata": {},
   "outputs": [],
   "source": [
    "# features to use when givving a suggestion\n",
    "# brand, model, price, registration, mileage, cc, hp, fuel, transmission\n",
    "# brand and model are going to be queryied so are not going into the model\n",
    "# price, registration, mileage, cc, hp, fuel, transmission"
   ]
  },
  {
   "cell_type": "code",
   "execution_count": 5,
   "id": "76f33ecf",
   "metadata": {},
   "outputs": [],
   "source": [
    "from sklearn.linear_model import LinearRegression \n",
    "from sklearn.preprocessing import OneHotEncoder\n",
    "from datetime import datetime\n",
    "from sklearn.model_selection import train_test_split\n",
    "from sklearn.model_selection import cross_validate\n",
    "from sklearn.metrics import mean_absolute_error\n",
    "from sklearn.tree import DecisionTreeRegressor"
   ]
  },
  {
   "cell_type": "code",
   "execution_count": 6,
   "id": "098cc444",
   "metadata": {},
   "outputs": [
    {
     "data": {
      "text/plain": [
       "(140, 7)"
      ]
     },
     "execution_count": 6,
     "metadata": {},
     "output_type": "execute_result"
    }
   ],
   "source": [
    "dummy = df.query('brand == \"Opel\"').query('model == \"Corsa\"').query('price != \"Ask price\"')\n",
    "dummy.drop(['title', 'category', 'location', 'brand', 'model', 'link', 'town'], axis = 1, inplace = True)\n",
    "dummy.reset_index(drop = True, inplace = True)\n",
    "dummy['price'] = dummy['price'].values.astype('int32')\n",
    "dummy.shape"
   ]
  },
  {
   "cell_type": "code",
   "execution_count": 7,
   "id": "219788cc",
   "metadata": {},
   "outputs": [
    {
     "data": {
      "text/html": [
       "<div>\n",
       "<style scoped>\n",
       "    .dataframe tbody tr th:only-of-type {\n",
       "        vertical-align: middle;\n",
       "    }\n",
       "\n",
       "    .dataframe tbody tr th {\n",
       "        vertical-align: top;\n",
       "    }\n",
       "\n",
       "    .dataframe thead th {\n",
       "        text-align: right;\n",
       "    }\n",
       "</style>\n",
       "<table border=\"1\" class=\"dataframe\">\n",
       "  <thead>\n",
       "    <tr style=\"text-align: right;\">\n",
       "      <th></th>\n",
       "      <th>price</th>\n",
       "      <th>registration</th>\n",
       "      <th>km</th>\n",
       "      <th>displacement</th>\n",
       "      <th>hp</th>\n",
       "      <th>fuel</th>\n",
       "      <th>transmission</th>\n",
       "    </tr>\n",
       "  </thead>\n",
       "  <tbody>\n",
       "    <tr>\n",
       "      <th>0</th>\n",
       "      <td>6600</td>\n",
       "      <td>01/2012</td>\n",
       "      <td>169000</td>\n",
       "      <td>1300</td>\n",
       "      <td>95</td>\n",
       "      <td>Diesel</td>\n",
       "      <td>Manual</td>\n",
       "    </tr>\n",
       "    <tr>\n",
       "      <th>1</th>\n",
       "      <td>555</td>\n",
       "      <td>01/2005</td>\n",
       "      <td>170000</td>\n",
       "      <td>1200</td>\n",
       "      <td>75</td>\n",
       "      <td>Petrol</td>\n",
       "      <td>Manual</td>\n",
       "    </tr>\n",
       "    <tr>\n",
       "      <th>2</th>\n",
       "      <td>7600</td>\n",
       "      <td>01/2012</td>\n",
       "      <td>90000</td>\n",
       "      <td>1248</td>\n",
       "      <td>95</td>\n",
       "      <td>Diesel</td>\n",
       "      <td>Manual</td>\n",
       "    </tr>\n",
       "    <tr>\n",
       "      <th>3</th>\n",
       "      <td>8500</td>\n",
       "      <td>09/2017</td>\n",
       "      <td>130000</td>\n",
       "      <td>1400</td>\n",
       "      <td>95</td>\n",
       "      <td>Petrol</td>\n",
       "      <td>Manual</td>\n",
       "    </tr>\n",
       "    <tr>\n",
       "      <th>4</th>\n",
       "      <td>3750</td>\n",
       "      <td>02/2005</td>\n",
       "      <td>267950</td>\n",
       "      <td>1248</td>\n",
       "      <td>75</td>\n",
       "      <td>Diesel</td>\n",
       "      <td>Manual</td>\n",
       "    </tr>\n",
       "  </tbody>\n",
       "</table>\n",
       "</div>"
      ],
      "text/plain": [
       "   price registration      km  displacement  hp    fuel transmission\n",
       "0   6600      01/2012  169000          1300  95  Diesel       Manual\n",
       "1    555      01/2005  170000          1200  75  Petrol       Manual\n",
       "2   7600      01/2012   90000          1248  95  Diesel       Manual\n",
       "3   8500      09/2017  130000          1400  95  Petrol       Manual\n",
       "4   3750      02/2005  267950          1248  75  Diesel       Manual"
      ]
     },
     "execution_count": 7,
     "metadata": {},
     "output_type": "execute_result"
    }
   ],
   "source": [
    "dummy.head()"
   ]
  },
  {
   "cell_type": "code",
   "execution_count": 8,
   "id": "13aa1412",
   "metadata": {},
   "outputs": [],
   "source": [
    "# fuel, transmission are going to be one hot encoded\n",
    "fuel_one_hot = OneHotEncoder(drop = 'if_binary').fit_transform(dummy['fuel'].values.reshape(-1, 1))\n",
    "transmission_one_hot = OneHotEncoder(drop = 'if_binary').fit_transform(dummy['transmission'].values.reshape(-1, 1))"
   ]
  },
  {
   "cell_type": "code",
   "execution_count": 9,
   "id": "cc456538",
   "metadata": {},
   "outputs": [],
   "source": [
    "dummy['fuel_type'] = fuel_one_hot.toarray()\n",
    "dummy['transmission_type'] = transmission_one_hot.toarray()\n",
    "dummy.drop(['fuel', 'transmission'], axis = 1, inplace = True)"
   ]
  },
  {
   "cell_type": "code",
   "execution_count": 10,
   "id": "9588375e",
   "metadata": {
    "scrolled": true
   },
   "outputs": [
    {
     "data": {
      "text/html": [
       "<div>\n",
       "<style scoped>\n",
       "    .dataframe tbody tr th:only-of-type {\n",
       "        vertical-align: middle;\n",
       "    }\n",
       "\n",
       "    .dataframe tbody tr th {\n",
       "        vertical-align: top;\n",
       "    }\n",
       "\n",
       "    .dataframe thead th {\n",
       "        text-align: right;\n",
       "    }\n",
       "</style>\n",
       "<table border=\"1\" class=\"dataframe\">\n",
       "  <thead>\n",
       "    <tr style=\"text-align: right;\">\n",
       "      <th></th>\n",
       "      <th>price</th>\n",
       "      <th>registration</th>\n",
       "      <th>km</th>\n",
       "      <th>displacement</th>\n",
       "      <th>hp</th>\n",
       "      <th>fuel_type</th>\n",
       "      <th>transmission_type</th>\n",
       "    </tr>\n",
       "  </thead>\n",
       "  <tbody>\n",
       "    <tr>\n",
       "      <th>0</th>\n",
       "      <td>6600</td>\n",
       "      <td>01/2012</td>\n",
       "      <td>169000</td>\n",
       "      <td>1300</td>\n",
       "      <td>95</td>\n",
       "      <td>0.0</td>\n",
       "      <td>1.0</td>\n",
       "    </tr>\n",
       "    <tr>\n",
       "      <th>1</th>\n",
       "      <td>555</td>\n",
       "      <td>01/2005</td>\n",
       "      <td>170000</td>\n",
       "      <td>1200</td>\n",
       "      <td>75</td>\n",
       "      <td>1.0</td>\n",
       "      <td>1.0</td>\n",
       "    </tr>\n",
       "    <tr>\n",
       "      <th>2</th>\n",
       "      <td>7600</td>\n",
       "      <td>01/2012</td>\n",
       "      <td>90000</td>\n",
       "      <td>1248</td>\n",
       "      <td>95</td>\n",
       "      <td>0.0</td>\n",
       "      <td>1.0</td>\n",
       "    </tr>\n",
       "    <tr>\n",
       "      <th>3</th>\n",
       "      <td>8500</td>\n",
       "      <td>09/2017</td>\n",
       "      <td>130000</td>\n",
       "      <td>1400</td>\n",
       "      <td>95</td>\n",
       "      <td>1.0</td>\n",
       "      <td>1.0</td>\n",
       "    </tr>\n",
       "    <tr>\n",
       "      <th>4</th>\n",
       "      <td>3750</td>\n",
       "      <td>02/2005</td>\n",
       "      <td>267950</td>\n",
       "      <td>1248</td>\n",
       "      <td>75</td>\n",
       "      <td>0.0</td>\n",
       "      <td>1.0</td>\n",
       "    </tr>\n",
       "  </tbody>\n",
       "</table>\n",
       "</div>"
      ],
      "text/plain": [
       "   price registration      km  displacement  hp  fuel_type  transmission_type\n",
       "0   6600      01/2012  169000          1300  95        0.0                1.0\n",
       "1    555      01/2005  170000          1200  75        1.0                1.0\n",
       "2   7600      01/2012   90000          1248  95        0.0                1.0\n",
       "3   8500      09/2017  130000          1400  95        1.0                1.0\n",
       "4   3750      02/2005  267950          1248  75        0.0                1.0"
      ]
     },
     "execution_count": 10,
     "metadata": {},
     "output_type": "execute_result"
    }
   ],
   "source": [
    "dummy.head()"
   ]
  },
  {
   "cell_type": "code",
   "execution_count": 11,
   "id": "fc6eec03",
   "metadata": {},
   "outputs": [],
   "source": [
    "registration_stamp = [datetime.strptime(dummy['registration'][i], '%m/%Y').timestamp() / 3600 for i in range(len(dummy))]\n",
    "dummy['registration_stamp'] = registration_stamp\n",
    "dummy.drop('registration', axis = 1, inplace = True)"
   ]
  },
  {
   "cell_type": "code",
   "execution_count": 12,
   "id": "da91f831",
   "metadata": {},
   "outputs": [
    {
     "data": {
      "text/html": [
       "<div>\n",
       "<style scoped>\n",
       "    .dataframe tbody tr th:only-of-type {\n",
       "        vertical-align: middle;\n",
       "    }\n",
       "\n",
       "    .dataframe tbody tr th {\n",
       "        vertical-align: top;\n",
       "    }\n",
       "\n",
       "    .dataframe thead th {\n",
       "        text-align: right;\n",
       "    }\n",
       "</style>\n",
       "<table border=\"1\" class=\"dataframe\">\n",
       "  <thead>\n",
       "    <tr style=\"text-align: right;\">\n",
       "      <th></th>\n",
       "      <th>price</th>\n",
       "      <th>km</th>\n",
       "      <th>displacement</th>\n",
       "      <th>hp</th>\n",
       "      <th>fuel_type</th>\n",
       "      <th>transmission_type</th>\n",
       "      <th>registration_stamp</th>\n",
       "    </tr>\n",
       "  </thead>\n",
       "  <tbody>\n",
       "    <tr>\n",
       "      <th>0</th>\n",
       "      <td>6600</td>\n",
       "      <td>169000</td>\n",
       "      <td>1300</td>\n",
       "      <td>95</td>\n",
       "      <td>0.0</td>\n",
       "      <td>1.0</td>\n",
       "      <td>368158.0</td>\n",
       "    </tr>\n",
       "    <tr>\n",
       "      <th>1</th>\n",
       "      <td>555</td>\n",
       "      <td>170000</td>\n",
       "      <td>1200</td>\n",
       "      <td>75</td>\n",
       "      <td>1.0</td>\n",
       "      <td>1.0</td>\n",
       "      <td>306814.0</td>\n",
       "    </tr>\n",
       "    <tr>\n",
       "      <th>2</th>\n",
       "      <td>7600</td>\n",
       "      <td>90000</td>\n",
       "      <td>1248</td>\n",
       "      <td>95</td>\n",
       "      <td>0.0</td>\n",
       "      <td>1.0</td>\n",
       "      <td>368158.0</td>\n",
       "    </tr>\n",
       "    <tr>\n",
       "      <th>3</th>\n",
       "      <td>8500</td>\n",
       "      <td>130000</td>\n",
       "      <td>1400</td>\n",
       "      <td>95</td>\n",
       "      <td>1.0</td>\n",
       "      <td>1.0</td>\n",
       "      <td>417837.0</td>\n",
       "    </tr>\n",
       "    <tr>\n",
       "      <th>4</th>\n",
       "      <td>3750</td>\n",
       "      <td>267950</td>\n",
       "      <td>1248</td>\n",
       "      <td>75</td>\n",
       "      <td>0.0</td>\n",
       "      <td>1.0</td>\n",
       "      <td>307558.0</td>\n",
       "    </tr>\n",
       "  </tbody>\n",
       "</table>\n",
       "</div>"
      ],
      "text/plain": [
       "   price      km  displacement  hp  fuel_type  transmission_type  \\\n",
       "0   6600  169000          1300  95        0.0                1.0   \n",
       "1    555  170000          1200  75        1.0                1.0   \n",
       "2   7600   90000          1248  95        0.0                1.0   \n",
       "3   8500  130000          1400  95        1.0                1.0   \n",
       "4   3750  267950          1248  75        0.0                1.0   \n",
       "\n",
       "   registration_stamp  \n",
       "0            368158.0  \n",
       "1            306814.0  \n",
       "2            368158.0  \n",
       "3            417837.0  \n",
       "4            307558.0  "
      ]
     },
     "execution_count": 12,
     "metadata": {},
     "output_type": "execute_result"
    }
   ],
   "source": [
    "dummy.head()"
   ]
  },
  {
   "cell_type": "code",
   "execution_count": 13,
   "id": "9c4c01cb",
   "metadata": {},
   "outputs": [
    {
     "name": "stdout",
     "output_type": "stream",
     "text": [
      "<class 'pandas.core.frame.DataFrame'>\n",
      "RangeIndex: 140 entries, 0 to 139\n",
      "Data columns (total 7 columns):\n",
      " #   Column              Non-Null Count  Dtype  \n",
      "---  ------              --------------  -----  \n",
      " 0   price               140 non-null    int32  \n",
      " 1   km                  140 non-null    int64  \n",
      " 2   displacement        140 non-null    int64  \n",
      " 3   hp                  140 non-null    int64  \n",
      " 4   fuel_type           140 non-null    float64\n",
      " 5   transmission_type   140 non-null    float64\n",
      " 6   registration_stamp  140 non-null    float64\n",
      "dtypes: float64(3), int32(1), int64(3)\n",
      "memory usage: 7.2 KB\n"
     ]
    }
   ],
   "source": [
    "dummy.info()"
   ]
  },
  {
   "cell_type": "code",
   "execution_count": 14,
   "id": "84f78627",
   "metadata": {},
   "outputs": [],
   "source": [
    "x = dummy.iloc[:, 1:]\n",
    "y = dummy['price']\n",
    "\n",
    "linear = LinearRegression()\n",
    "tree = DecisionTreeRegressor(max_depth = 3)\n",
    "linear_cv_results = cross_validate(linear, x, y, cv = 3, scoring = 'neg_mean_absolute_error')\n",
    "tree_cv_results = cross_validate(tree, x, y, cv = 3, scoring = 'neg_mean_absolute_error')"
   ]
  },
  {
   "cell_type": "code",
   "execution_count": 33,
   "id": "ff5e1f62",
   "metadata": {},
   "outputs": [
    {
     "data": {
      "text/plain": [
       "array([[1.60000e+04],\n",
       "       [1.20000e+03],\n",
       "       [8.00000e+01],\n",
       "       [1.00000e+00],\n",
       "       [1.00000e+00],\n",
       "       [3.68158e+05]])"
      ]
     },
     "execution_count": 33,
     "metadata": {},
     "output_type": "execute_result"
    }
   ],
   "source": [
    "np.array([16000, 1200, 80, 1, 1, 368158.0]).reshape(-1,1)"
   ]
  },
  {
   "cell_type": "code",
   "execution_count": 44,
   "id": "995dc26d",
   "metadata": {},
   "outputs": [
    {
     "name": "stderr",
     "output_type": "stream",
     "text": [
      "C:\\Users\\Alex\\miniconda3\\envs\\CarGr\\lib\\site-packages\\sklearn\\base.py:420: UserWarning: X does not have valid feature names, but DecisionTreeRegressor was fitted with feature names\n",
      "  warnings.warn(\n"
     ]
    },
    {
     "data": {
      "text/plain": [
       "array([17000.])"
      ]
     },
     "execution_count": 44,
     "metadata": {},
     "output_type": "execute_result"
    }
   ],
   "source": [
    "tree.fit(x, y)\n",
    "tree.predict(np.array([100, 1200, 90, 1, 1, 417837.0]).reshape(1,-1))"
   ]
  },
  {
   "cell_type": "code",
   "execution_count": 15,
   "id": "195f50db",
   "metadata": {},
   "outputs": [],
   "source": [
    "# sorted(cv_results.keys())"
   ]
  },
  {
   "cell_type": "code",
   "execution_count": 16,
   "id": "983dc4a3",
   "metadata": {},
   "outputs": [
    {
     "name": "stdout",
     "output_type": "stream",
     "text": [
      "-1301.6779038759587 -1246.3426910502658\n"
     ]
    }
   ],
   "source": [
    "print(np.mean(linear_cv_results['test_score']), np.mean(tree_cv_results['test_score']))"
   ]
  },
  {
   "cell_type": "code",
   "execution_count": 23,
   "id": "e2c781e3",
   "metadata": {},
   "outputs": [],
   "source": [
    "x_train, x_test, y_train, y_test = train_test_split(x, y, test_size=0.3, random_state=42)\n",
    "linear.fit(x_train, y_train);\n",
    "tree.fit(x_train, y_train);"
   ]
  },
  {
   "cell_type": "code",
   "execution_count": 24,
   "id": "a58745df",
   "metadata": {},
   "outputs": [
    {
     "name": "stdout",
     "output_type": "stream",
     "text": [
      "1271.746829793292 1451.6202902036234\n"
     ]
    }
   ],
   "source": [
    "print(mean_absolute_error(linear.predict(x_test), y_test),\n",
    "      mean_absolute_error(tree.predict(x_test), y_test))"
   ]
  },
  {
   "cell_type": "code",
   "execution_count": 25,
   "id": "75fa3757",
   "metadata": {},
   "outputs": [
    {
     "name": "stdout",
     "output_type": "stream",
     "text": [
      "1156.471170349015\n"
     ]
    }
   ],
   "source": [
    "ensemble = (linear.predict(x_test) + tree.predict(x_test)) / 2\n",
    "print(mean_absolute_error(ensemble, y_test))"
   ]
  },
  {
   "cell_type": "code",
   "execution_count": null,
   "id": "4616f111",
   "metadata": {},
   "outputs": [],
   "source": []
  }
 ],
 "metadata": {
  "kernelspec": {
   "display_name": "Python 3 (ipykernel)",
   "language": "python",
   "name": "python3"
  },
  "language_info": {
   "codemirror_mode": {
    "name": "ipython",
    "version": 3
   },
   "file_extension": ".py",
   "mimetype": "text/x-python",
   "name": "python",
   "nbconvert_exporter": "python",
   "pygments_lexer": "ipython3",
   "version": "3.9.16"
  }
 },
 "nbformat": 4,
 "nbformat_minor": 5
}
